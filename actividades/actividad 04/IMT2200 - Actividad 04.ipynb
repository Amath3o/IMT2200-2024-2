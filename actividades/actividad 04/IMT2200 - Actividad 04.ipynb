{
 "cells": [
  {
   "cell_type": "markdown",
   "metadata": {},
   "source": [
    "# <img style=\"float: left; padding-right: 20px; width: 200px\" src=\"https://raw.githubusercontent.com/raxlab/imt2200-data/main/media/logo.jpg\">  IMT 2200 - Introducción a Ciencia de Datos\n",
    "**Pontificia Universidad Católica de Chile**<br>\n",
    "**Instituto de Ingeniería Matemática y Computacional**<br>\n",
    "**Semestre 2024-S2**<br>\n",
    "**Profesor:** Rodrigo A. Carrasco <br>"
   ]
  },
  {
   "cell_type": "markdown",
   "metadata": {},
   "source": [
    "# <h1><center>Actividad 04: Obteniendo Datos de la Web</center></h1>\n",
    "\n",
    "Esta actividad busca aplicar los conocimientos en lectura de datos de la web en diferentes formas y conectar la información."
   ]
  },
  {
   "cell_type": "markdown",
   "metadata": {},
   "source": [
    "## Instrucciones\n",
    "\n",
    "Esto Notebook contiene las instrucciones a realizar para la actividad. \n",
    "\n",
    "<b>Al finalizarla, deben subir el Notebook y los archivos generados en un único archivo .zip, al módulo de la Actividad 04 en Canvas. Entregas posteriores al cierre de la actividad serán evaluadas con nota 1.0.</b>"
   ]
  },
  {
   "cell_type": "markdown",
   "metadata": {},
   "source": [
    "## Actividad\n",
    "\n",
    "En la Clase 4 analizamos los datos de la Filarmónica de NY y, si revisaron la solución que publicamos posteriormente, pudimos ver que el compositor con más obras interpretadas por la Filarmónica fue Richard Wagner. Otro de los compositores que apareció en la lista es Wolfgang Amadeus Mozart.\n",
    "\n",
    "Wolfgang Amadeus Mozart fue un compositor muy prolífico que vivió ente 1756 y 1791. Entre sus obras, hay una cantidad importante de composiciones hechas para obras de teatro, incluyendo óperas, algunas muy famosas. En esta actividad queremos saber cuántas veces han sido interpretadas por la Filarmónica, las obras de ópera de Mozart, y cuál es la que más ha sido interpretada.\n",
    "\n",
    "No tenemos una única fuente de datos en este caso, así que tendremos que conectar diferentes fuentes para lograr contestar esta pregunta. Para ello haga lo siguiente:\n",
    "<ol>\n",
    "\n",
    "<li>Obras para escenario</li>\n",
    "\n",
    "Lo primero que debemos hacer es buscar cuáles son todas las óperas que hizo Mozart en su vida. Por suerte, hay una página de Wikipedia que contiene una ordenada tabla con toda la información necesaria. Esta la pueden encontrar en:\n",
    "\n",
    "https://en.wikipedia.org/wiki/List_of_operas_by_Wolfgang_Amadeus_Mozart\n",
    "\n",
    "Usando la librería `requests` y `BeautifulSoup` baje la información de la tabla con el listado de los trabajos de Mozart para ópera, creando un DataFrame con toda la información sólo de las columnas 'Period', 'Title', 'Genre' y 'Köchel No.'.\n",
    "\n",
    "<br>\n",
    "    \n",
    "<li>Descargar datos de la Filarmónica</li>\n",
    "\n",
    "Aprendimos en la Clase 04 que la Filarmónica de NY tiene un repositorio de GitHub con los datos de todas las obras interpretadas desde 1842. El archivo JSON con toda la que se actualiza semana a semana está disponible en\n",
    "\n",
    "https://raw.githubusercontent.com/nyphilarchive/PerformanceHistory/main/Programs/json/complete.json\n",
    "    \n",
    "Usando la librería `requests` descargue y guarde en un archivo en su repositorio local.\n",
    "\n",
    "<br>\n",
    "    \n",
    "<li>Procesar los datos de la Filarmónica</li>\n",
    "\n",
    "Usando los elementos que están bajo la categoría `programs`, construya un DataFrame con los datos bajados del repositorio de la Filarmónica. Aplánelos usando la categoría `works` y genere un DataFrame filtrado que sólo tenga las obras de Mozart tocadas por la Filarmónica.\n",
    "    \n",
    "<br>\n",
    "\n",
    "<li>Conectar las bases de datos</li>\n",
    "<br>\n",
    "\n",
    "Conecte ambos DataFrames para generar un único DataFrame final, que tenga todas las columnas solicitadas de Wikipedia, y una columna adicional, llamada `ny phil` que contenga la cantidad de veces que la Orquesta Filarmónica ha interpretado esa obra. En esa sección podrá encontrar algunos códigos de apoyo para realizar esa parte.\n",
    "    \n",
    "<br>\n",
    "    \n",
    "<li>Pregunta</li>\n",
    "\n",
    "Usando la información de la nueva base de datos generada conteste, ¿Cuál es la 'opera de Mozart que más veces ha sido interpretada por la Orquesta Filarmónica de NY?"
   ]
  },
  {
   "cell_type": "markdown",
   "metadata": {},
   "source": [
    "## Rúbrica\n",
    "\n",
    "- Si han logrado todo: 7.0\n",
    "- Si han logrado hasta el punto 3: 5.0\n",
    "- Otro caso: 1.0"
   ]
  },
  {
   "cell_type": "code",
   "execution_count": null,
   "metadata": {},
   "outputs": [],
   "source": [
    "# librerías necesarias para el ejercicio\n",
    "import requests\n",
    "from bs4 import BeautifulSoup as bs\n",
    "import pandas as pd\n",
    "import json"
   ]
  },
  {
   "cell_type": "markdown",
   "metadata": {},
   "source": [
    "## 1. Obras para escenario\n",
    "\n",
    "A continuación use las celdas para leer y transformar en un DataFrame los datos de la tabla de óperas de Mozart. Como recomendación, revise la primera tabla que aparece, pues es la que tiene la información relevante. \n",
    "\n",
    "**IMPORTANTE**: La columna Köchel No, indica el ID de la obra en el cátalogo creado por Ludwig Ritter von Köchel. Esta es muy importante porque es como el RUT de la obra y nos permite revisar otras bases de datos y comprar, sin necesidad de traducir los títulos que a veces pueden venir con errores o cambios por diferentes idiomas. Le recomendamos limpiar esa columna de tal forma que sólo quede el número Köchel (formato K.xxx) para poder usarlo después."
   ]
  },
  {
   "cell_type": "code",
   "execution_count": null,
   "metadata": {},
   "outputs": [],
   "source": [
    "\n"
   ]
  },
  {
   "cell_type": "code",
   "execution_count": null,
   "metadata": {},
   "outputs": [],
   "source": []
  },
  {
   "cell_type": "code",
   "execution_count": null,
   "metadata": {},
   "outputs": [],
   "source": []
  },
  {
   "cell_type": "code",
   "execution_count": null,
   "metadata": {},
   "outputs": [],
   "source": []
  },
  {
   "cell_type": "code",
   "execution_count": null,
   "metadata": {},
   "outputs": [],
   "source": []
  },
  {
   "cell_type": "markdown",
   "metadata": {},
   "source": [
    "## 2. Descargar datos de la Filarmónica\n",
    "\n",
    "A continuación use las celdas para descargar los datos actualizados de la Filarmónica de NY."
   ]
  },
  {
   "cell_type": "code",
   "execution_count": null,
   "metadata": {},
   "outputs": [],
   "source": []
  },
  {
   "cell_type": "markdown",
   "metadata": {},
   "source": [
    "## 3. Procesar los datos de la Filarmónica\n",
    "\n",
    "A continuación procese los datos del archivo JSON de la filarmónica para crear un DataFrame con todas las interpretaciones de obras de Mozart. Revise la Clase 04 para ver cómo hacer parte de este proceso, y use el filtro `'Mozart,  Wolfgang  Amadeus'` para separar sus obras."
   ]
  },
  {
   "cell_type": "code",
   "execution_count": null,
   "metadata": {},
   "outputs": [],
   "source": []
  },
  {
   "cell_type": "code",
   "execution_count": null,
   "metadata": {
    "scrolled": true
   },
   "outputs": [],
   "source": []
  },
  {
   "cell_type": "code",
   "execution_count": null,
   "metadata": {
    "scrolled": false
   },
   "outputs": [],
   "source": []
  },
  {
   "cell_type": "markdown",
   "metadata": {},
   "source": [
    "## 4. Conectar las bases de datos\n",
    "\n",
    "En la columna `workTitle` del DataFrame de Mozart, debería tener el nombre completo de cada una de las obras interpretadas. Lamentablemente, este nombre no necesariamente coincide en forma exacta con el nombre de la tabla de Wikipedia. Por suerte, tanto la tabla de Wikipedia como la columna `workTitle` tienen un elemento identificador único: el número Köchel. Como comentamos antes, úmero Köchel es un índice musicológico de las obras de Mozart y es único por obra. La tabla de Wikipedia la tiene como una columna, pero la de la Filarmónica la tiene al final del texto del nombre de cada obra, por lo que tendremos que trabajar para extraerla.\n",
    "\n",
    "Por ejemplo, si queremos encontrar el texto `K.527` que corresponde a la famosa ópera \"Don Giovanni\", una forma fácil de hacerlo es la siguiente. Suponga que `wam` es el nombre del DataFrame con todas las obras de Mozart interpretadas por la filarmónica. Entonces podemos filtrar las filas que tienen ese número Köchel con el siguiente código:\n",
    "\n",
    "`textToSearch = 'K.527'`\n",
    "\n",
    "`wam[wam['workTitle'].str.contains(textToSearch)]`\n",
    "\n",
    "\n",
    "Pruebe esto en la siguiente celda."
   ]
  },
  {
   "cell_type": "code",
   "execution_count": null,
   "metadata": {
    "scrolled": false
   },
   "outputs": [],
   "source": [
    "# ejemplo de búsqueda\n",
    "textToSearch = 'K.527'\n",
    "wam[wam['workTitle'].str.contains(textToSearch)]"
   ]
  },
  {
   "cell_type": "markdown",
   "metadata": {},
   "source": [
    "Ahora agregue una nueva columna al DataFrame de Wikipedia, llamado `ny_phil`, agregando la cantidad de veces que la Filarmónica tocó cada obra. Para ello agregue una columna vacía de la siguiente forma:\n",
    "`\n",
    "df['ny phil'] = None\n",
    "`\n",
    "\n",
    "y luego itere sobre cada fila del DataFrame agregando la cantidad de veces que ocurrió cada obra. Use el comando `len()` para contar la cantidad de veces de cada obra. Puede iterar sobre el DataFrame usando el atributo `df.index`\n",
    "\n",
    "**IMPORTANTE**: con el método de filtrado anterior, la búsqueda de la obra `K.35` va a arrojar también las obras `K.350` o `K.351` dado que contienen `K.35` como parte del string. Si logra limpiar eso para las obras `K.35` y `K.38` tendrá +1.0 de bono en esta actividad, pero si no lo logra hacer, no será penalizado por ello."
   ]
  },
  {
   "cell_type": "code",
   "execution_count": null,
   "metadata": {},
   "outputs": [],
   "source": []
  },
  {
   "cell_type": "code",
   "execution_count": null,
   "metadata": {},
   "outputs": [],
   "source": []
  },
  {
   "cell_type": "markdown",
   "metadata": {},
   "source": [
    "## 5. Contestar la pregunta\n",
    "\n",
    "Ahora podemos contestar la pregunta original, ¿cuál es la ópera de Mozart más tocada por la Filarmónica de NY?\n",
    "\n",
    "Escriba el nombre directamente en la siguiente celda (no necesita automatizar el proceso usando código)."
   ]
  },
  {
   "cell_type": "markdown",
   "metadata": {},
   "source": [
    "**Respuesta**:"
   ]
  }
 ],
 "metadata": {
  "kernelspec": {
   "display_name": "Python 3 (ipykernel)",
   "language": "python",
   "name": "python3"
  },
  "language_info": {
   "codemirror_mode": {
    "name": "ipython",
    "version": 3
   },
   "file_extension": ".py",
   "mimetype": "text/x-python",
   "name": "python",
   "nbconvert_exporter": "python",
   "pygments_lexer": "ipython3",
   "version": "3.11.4"
  }
 },
 "nbformat": 4,
 "nbformat_minor": 2
}
