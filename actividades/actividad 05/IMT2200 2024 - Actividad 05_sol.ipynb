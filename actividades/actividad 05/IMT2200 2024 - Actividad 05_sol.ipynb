{
 "cells": [
  {
   "attachments": {},
   "cell_type": "markdown",
   "metadata": {},
   "source": [
    "# <img style=\"float: left; padding-right: 20px; width: 200px\" src=\"https://raw.githubusercontent.com/raxlab/imt2200-data/main/media/logo.jpg\">  IMT 2200 - Introducción a Ciencia de Datos\n",
    "**Pontificia Universidad Católica de Chile**<br>\n",
    "**Instituto de Ingeniería Matemática y Computacional**<br>\n",
    "**Semestre 2024-S2**<br>\n",
    "**Profesor:** Rodrigo A. Carrasco <br>"
   ]
  },
  {
   "cell_type": "markdown",
   "metadata": {},
   "source": [
    "# <h1><center>Actividad 05: Limpieza de datos</center></h1>\n",
    "\n",
    "Esta actividad busca aplicar los conocimientos en transformación de datos para contestar algunas preguntas."
   ]
  },
  {
   "cell_type": "markdown",
   "metadata": {},
   "source": [
    "## Instrucciones\n",
    "\n",
    "Esto Notebook contiene las instrucciones a realizar para la actividad. \n",
    "\n",
    "<b>Al finalizarla, deben subir el Notebook y los archivos generados en un único archivo .zip, al módulo de la Actividad 05 en Canvas. Entregas posteriores al cierre de la actividad serán evaluadas con nota 1.0.</b>"
   ]
  },
  {
   "cell_type": "markdown",
   "metadata": {},
   "source": [
    "## Actividad\n",
    "\n",
    "Para esta actividad usaremos una base de datos obtenida de AirBnb que hemos bajado para usted. La base está dispobible en la carpeta `data` y el archivo se llama `listings.csv`."
   ]
  },
  {
   "cell_type": "markdown",
   "metadata": {},
   "source": [
    "## Rúbrica\n",
    "\n",
    "- Si han logrado hasta el punto 3: 4.0\n",
    "- Si han logrado hasta el punto 5: 5.0\n",
    "- Si han logrado todo: 7.0"
   ]
  },
  {
   "cell_type": "code",
   "execution_count": 1,
   "metadata": {},
   "outputs": [],
   "source": [
    "# librerías necesarias para el ejercicio\n",
    "import pandas as pd"
   ]
  },
  {
   "cell_type": "markdown",
   "metadata": {},
   "source": [
    "## 1. Limpieza - datos relevantes\n",
    "\n",
    "A continuación use las celdas para leer y transformar en un único DataFrame los datos que están en el archivo `listings.csv`."
   ]
  },
  {
   "cell_type": "markdown",
   "metadata": {},
   "source": [
    "Lea el archivo y liste sus columnas."
   ]
  },
  {
   "cell_type": "code",
   "execution_count": 2,
   "metadata": {},
   "outputs": [
    {
     "data": {
      "text/plain": [
       "Index(['id', 'listing_url', 'scrape_id', 'last_scraped', 'name', 'summary',\n",
       "       'space', 'description', 'experiences_offered', 'neighborhood_overview',\n",
       "       ...\n",
       "       'instant_bookable', 'is_business_travel_ready', 'cancellation_policy',\n",
       "       'require_guest_profile_picture', 'require_guest_phone_verification',\n",
       "       'calculated_host_listings_count',\n",
       "       'calculated_host_listings_count_entire_homes',\n",
       "       'calculated_host_listings_count_private_rooms',\n",
       "       'calculated_host_listings_count_shared_rooms', 'reviews_per_month'],\n",
       "      dtype='object', length=106)"
      ]
     },
     "execution_count": 2,
     "metadata": {},
     "output_type": "execute_result"
    }
   ],
   "source": [
    "df0 = pd.read_csv('data\\listings.csv')\n",
    "df0.columns"
   ]
  },
  {
   "cell_type": "markdown",
   "metadata": {},
   "source": [
    "Para este trabajo, estaremos interesados sólo en las siguientes columnas:\n",
    "\n",
    "['id',\t'last_scraped',\t'name',\t'summary',\t'description', 'city', 'state', 'country_code',\t'latitude',\t'longitude',\t'room_type',\t'accommodates',\t'bathrooms',\t'bedrooms',\t'price',\t'cleaning_fee', 'review_scores_rating',\t'cancellation_policy']\n",
    "\n",
    "Limpie los datos crudos para crear un DataFrame que sólo contenga estas columnas de información."
   ]
  },
  {
   "cell_type": "code",
   "execution_count": 3,
   "metadata": {},
   "outputs": [],
   "source": [
    "df = df0.drop(columns=['listing_url','experiences_offered','neighborhood_overview','instant_bookable','instant_bookable', 'is_business_travel_ready', \n",
    "       'require_guest_profile_picture', 'require_guest_phone_verification',\n",
    "       'calculated_host_listings_count',\n",
    "       'calculated_host_listings_count_entire_homes',\n",
    "       'calculated_host_listings_count_private_rooms',\n",
    "       'calculated_host_listings_count_shared_rooms','transit', 'access', 'interaction',\n",
    "       'house_rules', 'thumbnail_url', 'medium_url', 'picture_url',\n",
    "       'xl_picture_url', 'host_id', 'host_url', 'host_name', 'host_since',\n",
    "       'host_location', 'host_about', 'host_response_time',\n",
    "       'host_response_rate', 'host_acceptance_rate', 'host_is_superhost',\n",
    "       'host_thumbnail_url', 'host_picture_url', 'host_neighbourhood',\n",
    "       'host_listings_count', 'host_total_listings_count',\n",
    "       'host_verifications', 'host_has_profile_pic', 'host_identity_verified','scrape_id','guests_included',\n",
    "       'extra_people', 'minimum_nights', 'maximum_nights','weekly_price',\n",
    "       'monthly_price', 'security_deposit','property_type',\n",
    "       'minimum_minimum_nights', 'maximum_minimum_nights','bed_type', 'amenities',\n",
    "       'minimum_maximum_nights', 'maximum_maximum_nights', 'market', 'smart_location',\n",
    "       'minimum_nights_avg_ntm', 'maximum_nights_avg_ntm', 'calendar_updated',\n",
    "       'has_availability', 'availability_30', 'availability_60','zipcode',\n",
    "       'availability_90', 'availability_365', 'calendar_last_scraped','review_scores_accuracy',\n",
    "       'review_scores_cleanliness', 'review_scores_checkin','neighbourhood_group_cleansed',\n",
    "       'review_scores_communication', 'review_scores_location', 'country','square_feet',\n",
    "       'review_scores_value', 'requires_license', 'license','notes', 'street',\n",
    "       'jurisdiction_names', 'reviews_per_month','is_location_exact', 'beds',\n",
    "       'number_of_reviews', 'number_of_reviews_ltm', 'first_review','neighbourhood', 'neighbourhood_cleansed',\n",
    "       'last_review',])"
   ]
  },
  {
   "cell_type": "code",
   "execution_count": 4,
   "metadata": {},
   "outputs": [
    {
     "name": "stdout",
     "output_type": "stream",
     "text": [
      "<class 'pandas.core.frame.DataFrame'>\n",
      "RangeIndex: 15984 entries, 0 to 15983\n",
      "Data columns (total 19 columns):\n",
      " #   Column                Non-Null Count  Dtype  \n",
      "---  ------                --------------  -----  \n",
      " 0   id                    15984 non-null  int64  \n",
      " 1   last_scraped          15984 non-null  object \n",
      " 2   name                  15973 non-null  object \n",
      " 3   summary               14796 non-null  object \n",
      " 4   space                 9470 non-null   object \n",
      " 5   description           15109 non-null  object \n",
      " 6   city                  15910 non-null  object \n",
      " 7   state                 15925 non-null  object \n",
      " 8   country_code          15984 non-null  object \n",
      " 9   latitude              15984 non-null  float64\n",
      " 10  longitude             15984 non-null  float64\n",
      " 11  room_type             15984 non-null  object \n",
      " 12  accommodates          15984 non-null  int64  \n",
      " 13  bathrooms             15937 non-null  float64\n",
      " 14  bedrooms              15951 non-null  float64\n",
      " 15  price                 15984 non-null  object \n",
      " 16  cleaning_fee          7923 non-null   object \n",
      " 17  review_scores_rating  8929 non-null   float64\n",
      " 18  cancellation_policy   15984 non-null  object \n",
      "dtypes: float64(5), int64(2), object(12)\n",
      "memory usage: 2.3+ MB\n"
     ]
    }
   ],
   "source": [
    "# revisamos nuestro nuevo dataframe\n",
    "df.info()"
   ]
  },
  {
   "cell_type": "markdown",
   "metadata": {},
   "source": [
    "## 2. Limpieza - datos duplicados\n",
    "\n",
    "Ahora asegure que en las filas de su DataFrame no existan datos duplicados. En caso de existir datos duplicados, dejar la primera aparición de los datos en el CSV como dato final. ¿Cuántos datos duplicados encontró?"
   ]
  },
  {
   "cell_type": "code",
   "execution_count": 5,
   "metadata": {},
   "outputs": [
    {
     "name": "stdout",
     "output_type": "stream",
     "text": [
      "<class 'pandas.core.frame.DataFrame'>\n",
      "Int64Index: 15970 entries, 0 to 15983\n",
      "Data columns (total 19 columns):\n",
      " #   Column                Non-Null Count  Dtype  \n",
      "---  ------                --------------  -----  \n",
      " 0   id                    15970 non-null  int64  \n",
      " 1   last_scraped          15970 non-null  object \n",
      " 2   name                  15959 non-null  object \n",
      " 3   summary               14782 non-null  object \n",
      " 4   space                 9460 non-null   object \n",
      " 5   description           15095 non-null  object \n",
      " 6   city                  15896 non-null  object \n",
      " 7   state                 15911 non-null  object \n",
      " 8   country_code          15970 non-null  object \n",
      " 9   latitude              15970 non-null  float64\n",
      " 10  longitude             15970 non-null  float64\n",
      " 11  room_type             15970 non-null  object \n",
      " 12  accommodates          15970 non-null  int64  \n",
      " 13  bathrooms             15923 non-null  float64\n",
      " 14  bedrooms              15937 non-null  float64\n",
      " 15  price                 15970 non-null  object \n",
      " 16  cleaning_fee          7913 non-null   object \n",
      " 17  review_scores_rating  8923 non-null   float64\n",
      " 18  cancellation_policy   15970 non-null  object \n",
      "dtypes: float64(5), int64(2), object(12)\n",
      "memory usage: 2.4+ MB\n"
     ]
    }
   ],
   "source": [
    "df = df.drop_duplicates(keep='first')\n",
    "df.info()"
   ]
  },
  {
   "cell_type": "markdown",
   "metadata": {},
   "source": [
    "Revisando ambas salidas vemos que había 14 registros eliminados por duplicidad."
   ]
  },
  {
   "cell_type": "markdown",
   "metadata": {},
   "source": [
    "## 3. Limpieza de texto y transformación\n",
    "\n",
    "En la columna `price` está como texto el precio de cada una de las publicaciones. Corrija esos datos para contestar: ¿Cuál es el precio promedio de arriendos de AirBnb en esta base de datos?"
   ]
  },
  {
   "cell_type": "code",
   "execution_count": 6,
   "metadata": {},
   "outputs": [
    {
     "name": "stderr",
     "output_type": "stream",
     "text": [
      "C:\\Users\\rodri\\AppData\\Local\\Temp\\ipykernel_17552\\1582348827.py:2: FutureWarning: The default value of regex will change from True to False in a future version. In addition, single character regular expressions will *not* be treated as literal strings when regex=True.\n",
      "  df['price'] = df['price'].str.replace('$','')\n"
     ]
    }
   ],
   "source": [
    "# debemos transformar el texto para eliminar los símbolos innecesarios y transformar a un número\n",
    "df['price'] = df['price'].str.replace('$','')\n",
    "df['price'] = df['price'].str.replace(',','')\n",
    "df['price'] = df['price'].astype('float')"
   ]
  },
  {
   "cell_type": "code",
   "execution_count": 7,
   "metadata": {},
   "outputs": [
    {
     "data": {
      "text/plain": [
       "count    1.597000e+04\n",
       "mean     9.094725e+04\n",
       "std      1.968204e+06\n",
       "min      0.000000e+00\n",
       "25%      1.879800e+04\n",
       "50%      3.023600e+04\n",
       "75%      4.495200e+04\n",
       "max      2.248781e+08\n",
       "Name: price, dtype: float64"
      ]
     },
     "execution_count": 7,
     "metadata": {},
     "output_type": "execute_result"
    }
   ],
   "source": [
    "df['price'].describe()"
   ]
  },
  {
   "cell_type": "code",
   "execution_count": 8,
   "metadata": {},
   "outputs": [
    {
     "data": {
      "text/plain": [
       "90947.24953036944"
      ]
     },
     "execution_count": 8,
     "metadata": {},
     "output_type": "execute_result"
    }
   ],
   "source": [
    "df['price'].mean()"
   ]
  },
  {
   "cell_type": "markdown",
   "metadata": {},
   "source": [
    "## 4. Variables categóricas\n",
    "\n",
    "La variable `cancellation_policy` corresponde a una variable categórica. Identifique qué categorías tiene esta columna."
   ]
  },
  {
   "cell_type": "code",
   "execution_count": 9,
   "metadata": {},
   "outputs": [
    {
     "data": {
      "text/plain": [
       "array(['moderate', 'flexible', 'strict_14_with_grace_period',\n",
       "       'super_strict_60', 'super_strict_30'], dtype=object)"
      ]
     },
     "execution_count": 9,
     "metadata": {},
     "output_type": "execute_result"
    }
   ],
   "source": [
    "categorias_orig = df['cancellation_policy'].unique()\n",
    "categorias_orig"
   ]
  },
  {
   "cell_type": "markdown",
   "metadata": {},
   "source": [
    "## 5. Cambios de categoría\n",
    "\n",
    "Para nuetro análisis, sólo trabajaremos con las siguientes categorías: `moderate`,`flexible`,`strict`. Transforme la columna `cancellation_policy` para que se adapte a sólo estos tres posibles valores. Si cree que no es obvia la transformación, explique cómo decisió mapear cada categoría original a las categorías finales. Verifique que el DataFrame final sólo tiene esas categorías y conteste: ¿Cuántas publicaciones tenían una categoría `flexible`?"
   ]
  },
  {
   "cell_type": "code",
   "execution_count": 10,
   "metadata": {
    "scrolled": true
   },
   "outputs": [
    {
     "data": {
      "text/plain": [
       "13763"
      ]
     },
     "execution_count": 10,
     "metadata": {},
     "output_type": "execute_result"
    }
   ],
   "source": [
    "# Lista de categorías finales\n",
    "cats_real=['flexible', 'moderate', 'strict']\n",
    "\n",
    "# Revisar registros que están en la lista de categorías deseadas\n",
    "df['cancellation_policy'].isin(cats_real).sum()"
   ]
  },
  {
   "cell_type": "code",
   "execution_count": 11,
   "metadata": {
    "scrolled": false
   },
   "outputs": [],
   "source": [
    "# mapeo de categorías originales y finales\n",
    "map_cats = {'strict_14_with_grace_period':'strict',\n",
    "          'super_strict_60':'strict',\n",
    "          'super_strict_30':'strict',\n",
    "             'flexible':'flexible',\n",
    "         'moderate':'moderate'}\n",
    "\n",
    "df['cancellation_policy'] = df['cancellation_policy'].map(map_cats)"
   ]
  },
  {
   "cell_type": "code",
   "execution_count": 12,
   "metadata": {},
   "outputs": [
    {
     "data": {
      "text/plain": [
       "array(['moderate', 'flexible', 'strict'], dtype=object)"
      ]
     },
     "execution_count": 12,
     "metadata": {},
     "output_type": "execute_result"
    }
   ],
   "source": [
    "df['cancellation_policy'].unique()"
   ]
  },
  {
   "cell_type": "code",
   "execution_count": 13,
   "metadata": {},
   "outputs": [
    {
     "data": {
      "text/plain": [
       "10239"
      ]
     },
     "execution_count": 13,
     "metadata": {},
     "output_type": "execute_result"
    }
   ],
   "source": [
    "df['cancellation_policy'].isin(['flexible']).sum()"
   ]
  },
  {
   "cell_type": "markdown",
   "metadata": {},
   "source": [
    "## 6. Valores fuera de rango\n",
    "\n",
    "Muchas veces las variables pueden tener valores furea de rango. Revise los datos de la columna `bedrooms`. ¿Encuentra que los valores están todos en un rango razonable? Si no lo están, revise el dato y verifique si hace sentido o no."
   ]
  },
  {
   "cell_type": "code",
   "execution_count": 14,
   "metadata": {
    "scrolled": false
   },
   "outputs": [
    {
     "data": {
      "text/plain": [
       "count    15937.000000\n",
       "mean         1.371463\n",
       "std          1.107459\n",
       "min          0.000000\n",
       "25%          1.000000\n",
       "50%          1.000000\n",
       "75%          2.000000\n",
       "max         50.000000\n",
       "Name: bedrooms, dtype: float64"
      ]
     },
     "execution_count": 14,
     "metadata": {},
     "output_type": "execute_result"
    }
   ],
   "source": [
    "df['bedrooms'].describe()"
   ]
  },
  {
   "cell_type": "markdown",
   "metadata": {},
   "source": [
    "Nos aparece que hay al menos una publicación con 0 piezas en arriendo y otra con 50. Sería extraño contar con un arriendo que no tiene piezas y suena extraño uno con tantas. Revisemos esos valores."
   ]
  },
  {
   "cell_type": "code",
   "execution_count": 15,
   "metadata": {},
   "outputs": [
    {
     "data": {
      "text/html": [
       "<div>\n",
       "<style scoped>\n",
       "    .dataframe tbody tr th:only-of-type {\n",
       "        vertical-align: middle;\n",
       "    }\n",
       "\n",
       "    .dataframe tbody tr th {\n",
       "        vertical-align: top;\n",
       "    }\n",
       "\n",
       "    .dataframe thead th {\n",
       "        text-align: right;\n",
       "    }\n",
       "</style>\n",
       "<table border=\"1\" class=\"dataframe\">\n",
       "  <thead>\n",
       "    <tr style=\"text-align: right;\">\n",
       "      <th></th>\n",
       "      <th>id</th>\n",
       "      <th>last_scraped</th>\n",
       "      <th>name</th>\n",
       "      <th>summary</th>\n",
       "      <th>space</th>\n",
       "      <th>description</th>\n",
       "      <th>city</th>\n",
       "      <th>state</th>\n",
       "      <th>country_code</th>\n",
       "      <th>latitude</th>\n",
       "      <th>longitude</th>\n",
       "      <th>room_type</th>\n",
       "      <th>accommodates</th>\n",
       "      <th>bathrooms</th>\n",
       "      <th>bedrooms</th>\n",
       "      <th>price</th>\n",
       "      <th>cleaning_fee</th>\n",
       "      <th>review_scores_rating</th>\n",
       "      <th>cancellation_policy</th>\n",
       "    </tr>\n",
       "  </thead>\n",
       "  <tbody>\n",
       "    <tr>\n",
       "      <th>439</th>\n",
       "      <td>2419113</td>\n",
       "      <td>2020-06-22</td>\n",
       "      <td>Departamento para 2 personas</td>\n",
       "      <td>Estudio amoblado , cama matrimonial , baño pri...</td>\n",
       "      <td>Apartamento capacidad para 2 personas , comple...</td>\n",
       "      <td>Estudio amoblado , cama matrimonial , baño pri...</td>\n",
       "      <td>Santiago</td>\n",
       "      <td>Región Metropolitana de Santiago de Chile</td>\n",
       "      <td>CL</td>\n",
       "      <td>-33.43967</td>\n",
       "      <td>-70.65694</td>\n",
       "      <td>Entire home/apt</td>\n",
       "      <td>2</td>\n",
       "      <td>1.0</td>\n",
       "      <td>0.0</td>\n",
       "      <td>40865.0</td>\n",
       "      <td>NaN</td>\n",
       "      <td>85.0</td>\n",
       "      <td>strict</td>\n",
       "    </tr>\n",
       "    <tr>\n",
       "      <th>506</th>\n",
       "      <td>2837601</td>\n",
       "      <td>2020-06-23</td>\n",
       "      <td>el colorado, edificio monteblanco</td>\n",
       "      <td>Excelente recién remodelado, tipo loft con 2 a...</td>\n",
       "      <td>Ski in/out 4 px Apt. Fully equipped at El Colo...</td>\n",
       "      <td>Excelente recién remodelado, tipo loft con 2 a...</td>\n",
       "      <td>Santiago</td>\n",
       "      <td>Región Metropolitana</td>\n",
       "      <td>CL</td>\n",
       "      <td>-33.34531</td>\n",
       "      <td>-70.29464</td>\n",
       "      <td>Entire home/apt</td>\n",
       "      <td>4</td>\n",
       "      <td>1.0</td>\n",
       "      <td>0.0</td>\n",
       "      <td>163438.0</td>\n",
       "      <td>$24,516.00</td>\n",
       "      <td>85.0</td>\n",
       "      <td>strict</td>\n",
       "    </tr>\n",
       "    <tr>\n",
       "      <th>511</th>\n",
       "      <td>2882770</td>\n",
       "      <td>2020-06-22</td>\n",
       "      <td>Apto. Studio Santiago Centro</td>\n",
       "      <td>Excelente ubicación del apartamento tipo Studi...</td>\n",
       "      <td>NaN</td>\n",
       "      <td>Excelente ubicación del apartamento tipo Studi...</td>\n",
       "      <td>Santiago</td>\n",
       "      <td>Región Metropolitana</td>\n",
       "      <td>CL</td>\n",
       "      <td>-33.44078</td>\n",
       "      <td>-70.65774</td>\n",
       "      <td>Entire home/apt</td>\n",
       "      <td>2</td>\n",
       "      <td>1.0</td>\n",
       "      <td>0.0</td>\n",
       "      <td>49038.0</td>\n",
       "      <td>NaN</td>\n",
       "      <td>NaN</td>\n",
       "      <td>flexible</td>\n",
       "    </tr>\n",
       "    <tr>\n",
       "      <th>567</th>\n",
       "      <td>3267803</td>\n",
       "      <td>2020-06-25</td>\n",
       "      <td>Departamento Estudio 1203</td>\n",
       "      <td>HERMOSO APARTAMENTO ESTUDIO AMOBLADO Y EQUIPAD...</td>\n",
       "      <td>Un ambiente , muy comodo cuenta con refrigerad...</td>\n",
       "      <td>HERMOSO APARTAMENTO ESTUDIO AMOBLADO Y EQUIPAD...</td>\n",
       "      <td>Santiago</td>\n",
       "      <td>Región Metropolitana</td>\n",
       "      <td>CL</td>\n",
       "      <td>-33.42568</td>\n",
       "      <td>-70.61553</td>\n",
       "      <td>Entire home/apt</td>\n",
       "      <td>2</td>\n",
       "      <td>1.0</td>\n",
       "      <td>0.0</td>\n",
       "      <td>33606.0</td>\n",
       "      <td>$0.00</td>\n",
       "      <td>91.0</td>\n",
       "      <td>flexible</td>\n",
       "    </tr>\n",
       "    <tr>\n",
       "      <th>573</th>\n",
       "      <td>3330669</td>\n",
       "      <td>2020-06-21</td>\n",
       "      <td>Downtown Santiago 2B/2B Modern Flat</td>\n",
       "      <td>Whether you are a couple, a family, a group of...</td>\n",
       "      <td>Modern, comfy, cozy and perfect location(safe ...</td>\n",
       "      <td>Whether you are a couple, a family, a group of...</td>\n",
       "      <td>Santiago</td>\n",
       "      <td>Santiago Metropolitan Region</td>\n",
       "      <td>CL</td>\n",
       "      <td>-33.45110</td>\n",
       "      <td>-70.65566</td>\n",
       "      <td>Entire home/apt</td>\n",
       "      <td>4</td>\n",
       "      <td>0.0</td>\n",
       "      <td>0.0</td>\n",
       "      <td>38413.0</td>\n",
       "      <td>$12,260.00</td>\n",
       "      <td>81.0</td>\n",
       "      <td>moderate</td>\n",
       "    </tr>\n",
       "    <tr>\n",
       "      <th>...</th>\n",
       "      <td>...</td>\n",
       "      <td>...</td>\n",
       "      <td>...</td>\n",
       "      <td>...</td>\n",
       "      <td>...</td>\n",
       "      <td>...</td>\n",
       "      <td>...</td>\n",
       "      <td>...</td>\n",
       "      <td>...</td>\n",
       "      <td>...</td>\n",
       "      <td>...</td>\n",
       "      <td>...</td>\n",
       "      <td>...</td>\n",
       "      <td>...</td>\n",
       "      <td>...</td>\n",
       "      <td>...</td>\n",
       "      <td>...</td>\n",
       "      <td>...</td>\n",
       "      <td>...</td>\n",
       "    </tr>\n",
       "    <tr>\n",
       "      <th>15918</th>\n",
       "      <td>43569457</td>\n",
       "      <td>2020-06-22</td>\n",
       "      <td>HABITACION PRIVADA 1 baño privado</td>\n",
       "      <td>NaN</td>\n",
       "      <td>NaN</td>\n",
       "      <td>NaN</td>\n",
       "      <td>Santiago</td>\n",
       "      <td>Región Metropolitana</td>\n",
       "      <td>CL</td>\n",
       "      <td>-33.43969</td>\n",
       "      <td>-70.65204</td>\n",
       "      <td>Private room</td>\n",
       "      <td>6</td>\n",
       "      <td>1.0</td>\n",
       "      <td>0.0</td>\n",
       "      <td>22884.0</td>\n",
       "      <td>$8,000.00</td>\n",
       "      <td>NaN</td>\n",
       "      <td>flexible</td>\n",
       "    </tr>\n",
       "    <tr>\n",
       "      <th>15921</th>\n",
       "      <td>43579692</td>\n",
       "      <td>2020-06-22</td>\n",
       "      <td>habitación Privada 1 baño privado</td>\n",
       "      <td>NaN</td>\n",
       "      <td>NaN</td>\n",
       "      <td>NaN</td>\n",
       "      <td>Santiago</td>\n",
       "      <td>Región Metropolitana</td>\n",
       "      <td>CL</td>\n",
       "      <td>-33.43889</td>\n",
       "      <td>-70.65055</td>\n",
       "      <td>Private room</td>\n",
       "      <td>2</td>\n",
       "      <td>0.5</td>\n",
       "      <td>0.0</td>\n",
       "      <td>17163.0</td>\n",
       "      <td>$4,000.00</td>\n",
       "      <td>NaN</td>\n",
       "      <td>strict</td>\n",
       "    </tr>\n",
       "    <tr>\n",
       "      <th>15926</th>\n",
       "      <td>43588797</td>\n",
       "      <td>2020-06-26</td>\n",
       "      <td>Habitacion y baño privado Parque Araucano / ex...</td>\n",
       "      <td>NaN</td>\n",
       "      <td>NaN</td>\n",
       "      <td>NaN</td>\n",
       "      <td>Las Condes</td>\n",
       "      <td>Región Metropolitana</td>\n",
       "      <td>CL</td>\n",
       "      <td>-33.40461</td>\n",
       "      <td>-70.57301</td>\n",
       "      <td>Private room</td>\n",
       "      <td>1</td>\n",
       "      <td>1.0</td>\n",
       "      <td>0.0</td>\n",
       "      <td>14676.0</td>\n",
       "      <td>NaN</td>\n",
       "      <td>NaN</td>\n",
       "      <td>flexible</td>\n",
       "    </tr>\n",
       "    <tr>\n",
       "      <th>15970</th>\n",
       "      <td>43834779</td>\n",
       "      <td>2020-06-21</td>\n",
       "      <td>Plaza de Armas 743</td>\n",
       "      <td>Lindo departamento Ubicado en zona céntrica de...</td>\n",
       "      <td>NaN</td>\n",
       "      <td>Lindo departamento Ubicado en zona céntrica de...</td>\n",
       "      <td>Santiago</td>\n",
       "      <td>Región Metropolitana</td>\n",
       "      <td>CL</td>\n",
       "      <td>-33.43899</td>\n",
       "      <td>-70.65068</td>\n",
       "      <td>Entire home/apt</td>\n",
       "      <td>2</td>\n",
       "      <td>1.0</td>\n",
       "      <td>0.0</td>\n",
       "      <td>27788.0</td>\n",
       "      <td>$7,000.00</td>\n",
       "      <td>NaN</td>\n",
       "      <td>strict</td>\n",
       "    </tr>\n",
       "    <tr>\n",
       "      <th>15982</th>\n",
       "      <td>43861718</td>\n",
       "      <td>2020-06-21</td>\n",
       "      <td>Plaza de Armas 742</td>\n",
       "      <td>Lindo departamento Ubicado en zona céntrica de...</td>\n",
       "      <td>NaN</td>\n",
       "      <td>Lindo departamento Ubicado en zona céntrica de...</td>\n",
       "      <td>Santiago</td>\n",
       "      <td>Región Metropolitana</td>\n",
       "      <td>CL</td>\n",
       "      <td>-33.43916</td>\n",
       "      <td>-70.65093</td>\n",
       "      <td>Entire home/apt</td>\n",
       "      <td>4</td>\n",
       "      <td>1.0</td>\n",
       "      <td>0.0</td>\n",
       "      <td>34327.0</td>\n",
       "      <td>$7,000.00</td>\n",
       "      <td>NaN</td>\n",
       "      <td>strict</td>\n",
       "    </tr>\n",
       "  </tbody>\n",
       "</table>\n",
       "<p>599 rows × 19 columns</p>\n",
       "</div>"
      ],
      "text/plain": [
       "             id last_scraped  \\\n",
       "439     2419113   2020-06-22   \n",
       "506     2837601   2020-06-23   \n",
       "511     2882770   2020-06-22   \n",
       "567     3267803   2020-06-25   \n",
       "573     3330669   2020-06-21   \n",
       "...         ...          ...   \n",
       "15918  43569457   2020-06-22   \n",
       "15921  43579692   2020-06-22   \n",
       "15926  43588797   2020-06-26   \n",
       "15970  43834779   2020-06-21   \n",
       "15982  43861718   2020-06-21   \n",
       "\n",
       "                                                    name  \\\n",
       "439                         Departamento para 2 personas   \n",
       "506                    el colorado, edificio monteblanco   \n",
       "511                         Apto. Studio Santiago Centro   \n",
       "567                            Departamento Estudio 1203   \n",
       "573                  Downtown Santiago 2B/2B Modern Flat   \n",
       "...                                                  ...   \n",
       "15918                  HABITACION PRIVADA 1 baño privado   \n",
       "15921                  habitación Privada 1 baño privado   \n",
       "15926  Habitacion y baño privado Parque Araucano / ex...   \n",
       "15970                                 Plaza de Armas 743   \n",
       "15982                                 Plaza de Armas 742   \n",
       "\n",
       "                                                 summary  \\\n",
       "439    Estudio amoblado , cama matrimonial , baño pri...   \n",
       "506    Excelente recién remodelado, tipo loft con 2 a...   \n",
       "511    Excelente ubicación del apartamento tipo Studi...   \n",
       "567    HERMOSO APARTAMENTO ESTUDIO AMOBLADO Y EQUIPAD...   \n",
       "573    Whether you are a couple, a family, a group of...   \n",
       "...                                                  ...   \n",
       "15918                                                NaN   \n",
       "15921                                                NaN   \n",
       "15926                                                NaN   \n",
       "15970  Lindo departamento Ubicado en zona céntrica de...   \n",
       "15982  Lindo departamento Ubicado en zona céntrica de...   \n",
       "\n",
       "                                                   space  \\\n",
       "439    Apartamento capacidad para 2 personas , comple...   \n",
       "506    Ski in/out 4 px Apt. Fully equipped at El Colo...   \n",
       "511                                                  NaN   \n",
       "567    Un ambiente , muy comodo cuenta con refrigerad...   \n",
       "573    Modern, comfy, cozy and perfect location(safe ...   \n",
       "...                                                  ...   \n",
       "15918                                                NaN   \n",
       "15921                                                NaN   \n",
       "15926                                                NaN   \n",
       "15970                                                NaN   \n",
       "15982                                                NaN   \n",
       "\n",
       "                                             description        city  \\\n",
       "439    Estudio amoblado , cama matrimonial , baño pri...    Santiago   \n",
       "506    Excelente recién remodelado, tipo loft con 2 a...    Santiago   \n",
       "511    Excelente ubicación del apartamento tipo Studi...    Santiago   \n",
       "567    HERMOSO APARTAMENTO ESTUDIO AMOBLADO Y EQUIPAD...    Santiago   \n",
       "573    Whether you are a couple, a family, a group of...    Santiago   \n",
       "...                                                  ...         ...   \n",
       "15918                                                NaN    Santiago   \n",
       "15921                                                NaN    Santiago   \n",
       "15926                                                NaN  Las Condes   \n",
       "15970  Lindo departamento Ubicado en zona céntrica de...    Santiago   \n",
       "15982  Lindo departamento Ubicado en zona céntrica de...    Santiago   \n",
       "\n",
       "                                           state country_code  latitude  \\\n",
       "439    Región Metropolitana de Santiago de Chile           CL -33.43967   \n",
       "506                         Región Metropolitana           CL -33.34531   \n",
       "511                         Región Metropolitana           CL -33.44078   \n",
       "567                         Región Metropolitana           CL -33.42568   \n",
       "573                 Santiago Metropolitan Region           CL -33.45110   \n",
       "...                                          ...          ...       ...   \n",
       "15918                       Región Metropolitana           CL -33.43969   \n",
       "15921                       Región Metropolitana           CL -33.43889   \n",
       "15926                       Región Metropolitana           CL -33.40461   \n",
       "15970                       Región Metropolitana           CL -33.43899   \n",
       "15982                       Región Metropolitana           CL -33.43916   \n",
       "\n",
       "       longitude        room_type  accommodates  bathrooms  bedrooms  \\\n",
       "439    -70.65694  Entire home/apt             2        1.0       0.0   \n",
       "506    -70.29464  Entire home/apt             4        1.0       0.0   \n",
       "511    -70.65774  Entire home/apt             2        1.0       0.0   \n",
       "567    -70.61553  Entire home/apt             2        1.0       0.0   \n",
       "573    -70.65566  Entire home/apt             4        0.0       0.0   \n",
       "...          ...              ...           ...        ...       ...   \n",
       "15918  -70.65204     Private room             6        1.0       0.0   \n",
       "15921  -70.65055     Private room             2        0.5       0.0   \n",
       "15926  -70.57301     Private room             1        1.0       0.0   \n",
       "15970  -70.65068  Entire home/apt             2        1.0       0.0   \n",
       "15982  -70.65093  Entire home/apt             4        1.0       0.0   \n",
       "\n",
       "          price cleaning_fee  review_scores_rating cancellation_policy  \n",
       "439     40865.0          NaN                  85.0              strict  \n",
       "506    163438.0   $24,516.00                  85.0              strict  \n",
       "511     49038.0          NaN                   NaN            flexible  \n",
       "567     33606.0        $0.00                  91.0            flexible  \n",
       "573     38413.0   $12,260.00                  81.0            moderate  \n",
       "...         ...          ...                   ...                 ...  \n",
       "15918   22884.0    $8,000.00                   NaN            flexible  \n",
       "15921   17163.0    $4,000.00                   NaN              strict  \n",
       "15926   14676.0          NaN                   NaN            flexible  \n",
       "15970   27788.0    $7,000.00                   NaN              strict  \n",
       "15982   34327.0    $7,000.00                   NaN              strict  \n",
       "\n",
       "[599 rows x 19 columns]"
      ]
     },
     "execution_count": 15,
     "metadata": {},
     "output_type": "execute_result"
    }
   ],
   "source": [
    "df[df['bedrooms']==0]"
   ]
  },
  {
   "cell_type": "markdown",
   "metadata": {},
   "source": [
    "Vemos que en este caso parece haber errores en la columna de `bedrooms` pues la descripción en todos esto habla de al menos una pieza disponible. Veamos ahora el caso con 50."
   ]
  },
  {
   "cell_type": "code",
   "execution_count": 16,
   "metadata": {},
   "outputs": [
    {
     "data": {
      "text/html": [
       "<div>\n",
       "<style scoped>\n",
       "    .dataframe tbody tr th:only-of-type {\n",
       "        vertical-align: middle;\n",
       "    }\n",
       "\n",
       "    .dataframe tbody tr th {\n",
       "        vertical-align: top;\n",
       "    }\n",
       "\n",
       "    .dataframe thead th {\n",
       "        text-align: right;\n",
       "    }\n",
       "</style>\n",
       "<table border=\"1\" class=\"dataframe\">\n",
       "  <thead>\n",
       "    <tr style=\"text-align: right;\">\n",
       "      <th></th>\n",
       "      <th>id</th>\n",
       "      <th>last_scraped</th>\n",
       "      <th>name</th>\n",
       "      <th>summary</th>\n",
       "      <th>space</th>\n",
       "      <th>description</th>\n",
       "      <th>city</th>\n",
       "      <th>state</th>\n",
       "      <th>country_code</th>\n",
       "      <th>latitude</th>\n",
       "      <th>longitude</th>\n",
       "      <th>room_type</th>\n",
       "      <th>accommodates</th>\n",
       "      <th>bathrooms</th>\n",
       "      <th>bedrooms</th>\n",
       "      <th>price</th>\n",
       "      <th>cleaning_fee</th>\n",
       "      <th>review_scores_rating</th>\n",
       "      <th>cancellation_policy</th>\n",
       "    </tr>\n",
       "  </thead>\n",
       "  <tbody>\n",
       "    <tr>\n",
       "      <th>15878</th>\n",
       "      <td>43389813</td>\n",
       "      <td>2020-06-22</td>\n",
       "      <td>Hotel Brasilia, La capital del barrio Brasil</td>\n",
       "      <td>El Hotel Brasilia se encuentra a 5 km del Pati...</td>\n",
       "      <td>NaN</td>\n",
       "      <td>El Hotel Brasilia se encuentra a 5 km del Pati...</td>\n",
       "      <td>Santiago</td>\n",
       "      <td>Región Metropolitana</td>\n",
       "      <td>CL</td>\n",
       "      <td>-33.43831</td>\n",
       "      <td>-70.66847</td>\n",
       "      <td>Private room</td>\n",
       "      <td>2</td>\n",
       "      <td>50.0</td>\n",
       "      <td>50.0</td>\n",
       "      <td>67836.0</td>\n",
       "      <td>NaN</td>\n",
       "      <td>NaN</td>\n",
       "      <td>flexible</td>\n",
       "    </tr>\n",
       "  </tbody>\n",
       "</table>\n",
       "</div>"
      ],
      "text/plain": [
       "             id last_scraped                                          name  \\\n",
       "15878  43389813   2020-06-22  Hotel Brasilia, La capital del barrio Brasil   \n",
       "\n",
       "                                                 summary space  \\\n",
       "15878  El Hotel Brasilia se encuentra a 5 km del Pati...   NaN   \n",
       "\n",
       "                                             description      city  \\\n",
       "15878  El Hotel Brasilia se encuentra a 5 km del Pati...  Santiago   \n",
       "\n",
       "                      state country_code  latitude  longitude     room_type  \\\n",
       "15878  Región Metropolitana           CL -33.43831  -70.66847  Private room   \n",
       "\n",
       "       accommodates  bathrooms  bedrooms    price cleaning_fee  \\\n",
       "15878             2       50.0      50.0  67836.0          NaN   \n",
       "\n",
       "       review_scores_rating cancellation_policy  \n",
       "15878                   NaN            flexible  "
      ]
     },
     "execution_count": 16,
     "metadata": {},
     "output_type": "execute_result"
    }
   ],
   "source": [
    "df[df['bedrooms']==50]"
   ]
  },
  {
   "cell_type": "markdown",
   "metadata": {},
   "source": [
    "Vemos que en esta caso es un hotel, que bien puede tener 50 piezas a arrendar, por lo que podría no ser un error.\n",
    "\n",
    "Otra forma de ver los puntos que son `outlier` es usando boxplots."
   ]
  },
  {
   "cell_type": "code",
   "execution_count": 17,
   "metadata": {},
   "outputs": [
    {
     "data": {
      "text/plain": [
       "<Axes: >"
      ]
     },
     "execution_count": 17,
     "metadata": {},
     "output_type": "execute_result"
    },
    {
     "data": {
      "image/png": "[encoded data removed]",
      "text/plain": [
       "<Figure size 1800x700 with 1 Axes>"
      ]
     },
     "metadata": {},
     "output_type": "display_data"
    }
   ],
   "source": [
    "import matplotlib.pyplot as plt\n",
    "\n",
    "fig = plt.figure(figsize=(18,7))\n",
    "df['bedrooms'].plot.box(notch ='True', vert = 0)"
   ]
  },
  {
   "cell_type": "code",
   "execution_count": null,
   "metadata": {},
   "outputs": [],
   "source": []
  }
 ],
 "metadata": {
  "kernelspec": {
   "display_name": "Python 3 (ipykernel)",
   "language": "python",
   "name": "python3"
  },
  "language_info": {
   "codemirror_mode": {
    "name": "ipython",
    "version": 3
   },
   "file_extension": ".py",
   "mimetype": "text/x-python",
   "name": "python",
   "nbconvert_exporter": "python",
   "pygments_lexer": "ipython3",
   "version": "3.11.4"
  }
 },
 "nbformat": 4,
 "nbformat_minor": 2
}
