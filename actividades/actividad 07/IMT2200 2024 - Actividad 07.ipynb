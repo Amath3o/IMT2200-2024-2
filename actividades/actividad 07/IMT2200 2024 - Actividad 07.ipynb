{
 "cells": [
  {
   "cell_type": "markdown",
   "metadata": {},
   "source": [
    "# <img style=\"float: left; padding-right: 20px; width: 200px\" src=\"https://raw.githubusercontent.com/raxlab/imt2200-data/main/media/logo.jpg\">  IMT 2200 - Introducción a Ciencia de Datos\n",
    "**Pontificia Universidad Católica de Chile**<br>\n",
    "**Instituto de Ingeniería Matemática y Computacional**<br>\n",
    "**Semestre 2024-S2**<br>\n",
    "**Profesor:** Rodrigo A. Carrasco <br>"
   ]
  },
  {
   "cell_type": "markdown",
   "metadata": {},
   "source": [
    "# <h1><center>Actividad 07: Actividad de Integración</center></h1>\n",
    "\n",
    "Esta actividad busca que los estudiantes conecten el trabajo de agrupación y de resumen, junto con el poder calcular estadísticas de datos así como también realizar visualización básica."
   ]
  },
  {
   "cell_type": "markdown",
   "metadata": {},
   "source": [
    "## Instrucciones\n",
    "\n",
    "Esto Notebook contiene todas las instrucciones a realizar para la actividad. Si siente que falta alguna información debe agregar un supuesto en una celda adicional. No hay preguntas durante el trabajo.\n",
    "\n",
    "Al finalizarla, deben subir el Notebook a la actividad disponible en Canvas, en la sección deTareas bajo \"Actividad 07\".\n",
    "    \n",
    "**La actividad debe ser subida antes del final de la clase. Entregas posteriores a esa fecha serán evaluadas con nota 1.0.**\n",
    "\n",
    "**Conteste las preguntas en forma precisa y usando celdas de Markdown cuando sea necesario para dejar clara la respuesta.**"
   ]
  },
  {
   "cell_type": "markdown",
   "metadata": {},
   "source": [
    "## Actividad\n",
    "\n",
    "Para esta actividad usaremos una base de datos de calidad de vino generada por Crtex et al. para su paper \"Modeling wine preferences by data mining from physicochemical properties\". Pueden encontrar el paper acá: https://www.sciencedirect.com/science/article/abs/pii/S0167923609001377?via%3Dihub.\n",
    "\n",
    "En la carpeta `data` están los dos archivos de datos, que fueron donados al repositorio de datos para Machine Learning de UC Irvine (https://archive.ics.uci.edu/dataset/186/wine+quality), además de un archivo de texto que explica algunos detalles de los datos disponibles en los archivos `.csv`."
   ]
  },
  {
   "cell_type": "markdown",
   "metadata": {},
   "source": [
    "## Rúbrica\n",
    "\n",
    "- Si han logrado el punto 1: 4.0\n",
    "- Si han logrado hasta el punto 2: 5.0\n",
    "- Si han logrado todo: 7.0"
   ]
  },
  {
   "cell_type": "code",
   "execution_count": null,
   "metadata": {},
   "outputs": [],
   "source": [
    "# librerías necesarias para el ejercicio\n",
    "import numpy as np\n",
    "import pandas as pd\n",
    "import matplotlib.pyplot as plt\n",
    "import seaborn as sns"
   ]
  },
  {
   "cell_type": "markdown",
   "metadata": {},
   "source": [
    "## 1. Base de datos unificada\n",
    "\n",
    "### 1.1 Lectura\n",
    "La carpeta cuenta con dos archivos `csv` con los datos relevantes. El archivo `winequality-red.csv` tiene los datos de vinos tinto y `winequality-white.csv` de vinos blancos. Lea cada uno de los dos archivos `.csv` de la carpeta, dejando la información en un DataFrame para cada uno. Antes de hacer esto no olvide revisar el archivo CSV para ver el tipo de separador que se usa y leerlo correctamente.\n",
    "\n",
    "### 1.2 Revisión inicial\n",
    "Revise qué tipos de datos tiene cada columna y asegúrese que sea el tipo adecuado. ¿Hay datos faltantes o nulos? ¿Hay algún dato que debería ser categórico? Transforme la base de ser necesario.\n",
    "\n",
    "### 1.3 Base unificada\n",
    "Junte ambos DataFrames en un único DataFrame llamado `datos_vino`. Agregue una columna llamada `type` que permita identificar el tipo de vino al que corresponde cada fila (rojo o blanco)."
   ]
  },
  {
   "cell_type": "code",
   "execution_count": null,
   "metadata": {
    "scrolled": true
   },
   "outputs": [],
   "source": []
  },
  {
   "cell_type": "markdown",
   "metadata": {},
   "source": [
    "## 2. Revisión de la base\n",
    "\n",
    "Las siguientes actividades debe realizarlas sobre el DataFrame `datos_vino`.\n",
    "\n",
    "### 2.1 Análisis de la base compelta\n",
    "Analice la base de datos agrupada contestando las siguientes preguntas.\n",
    "- a. ¿Cuántos datos en total tiene la base conjunta?\n",
    "- b. ¿Cuál es el valor promedio y desviación estándar de todas las columnas con datos numéricos?\n",
    "- c. ¿Cuántos valores diferentes de `calidad` hay en la base?\n",
    "\n",
    "### 2.2 Agrupaciones\n",
    "Usando los métodos de agrupación que vimos en clases, como tablas pivote o agrupaciones, conteste las siguientes preguntas:\n",
    "- a. ¿Hay diferencia en la densidad promedio de los vinos rojos y blancos?\n",
    "- b. ¿Hay diferencia en el valor promedio y la desviación estándar del nivel de ácido cítrico que tienen los vinos rojos y blancos?"
   ]
  },
  {
   "cell_type": "code",
   "execution_count": null,
   "metadata": {},
   "outputs": [],
   "source": []
  },
  {
   "cell_type": "markdown",
   "metadata": {},
   "source": [
    "## 3. Análisis exploratorio\n",
    "\n",
    "Las siguientes actividades debe realizarlas sobre el DataFrame `datos_vino`.\n",
    "\n",
    "### 3.1 Estadísticas de resumen\n",
    "Conteste las siguientes preguntas sólo considerando los vinos tintos (rojos):\n",
    "- a. ¿Cuál es la varianza del pH que tiene ese tipo de vino?\n",
    "- b. ¿Cual es el valor mínimo de pH que tiene el decil más alto? (el decil más alto es lo mismo que el percentil 90).\n",
    "- c. ¿Cuál es el coefficiente de correlación entre el nivel de azúcar residual y el nivel de alcohol?\n",
    "- d. ¿Qué implica ese valor de correlación?\n",
    "\n",
    "### 3.2 Visualización\n",
    "Para los vinos blancos, realice las siguientes actividades de visualización. No olvide poner nombres en los ejes.\n",
    "\n",
    "- a. Haga un histograma que grafique la distribución de valores de pH los vinos blancos en la base de datos.\n",
    "- b. Haga un `scatter plot` que permita ver la relación entre el nivel de alcohol de los vinos blancos y su nivel de azúcar residual. ¿Observa alguna relación? ¿Hay algún dato que podría considerar como `outlier`?"
   ]
  },
  {
   "cell_type": "code",
   "execution_count": null,
   "metadata": {},
   "outputs": [],
   "source": []
  }
 ],
 "metadata": {
  "kernelspec": {
   "display_name": "Python 3 (ipykernel)",
   "language": "python",
   "name": "python3"
  },
  "language_info": {
   "codemirror_mode": {
    "name": "ipython",
    "version": 3
   },
   "file_extension": ".py",
   "mimetype": "text/x-python",
   "name": "python",
   "nbconvert_exporter": "python",
   "pygments_lexer": "ipython3",
   "version": "3.11.5"
  }
 },
 "nbformat": 4,
 "nbformat_minor": 2
}
