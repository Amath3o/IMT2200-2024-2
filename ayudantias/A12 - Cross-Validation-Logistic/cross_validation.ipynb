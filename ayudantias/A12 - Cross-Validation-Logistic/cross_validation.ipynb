{
 "cells": [
  {
   "cell_type": "markdown",
   "metadata": {},
   "source": [
    "# Ayudantía 12"
   ]
  },
  {
   "cell_type": "code",
   "execution_count": 2,
   "metadata": {},
   "outputs": [],
   "source": [
    "\n",
    "import numpy as np\n",
    "import matplotlib.pyplot as plt \n",
    "\n",
    "import pandas as pd  \n",
    "import seaborn as sns \n",
    "import numpy as np\n",
    "import pandas as pd\n",
    "from sklearn.model_selection import train_test_split\n",
    "from sklearn.model_selection import cross_val_score\n",
    "from sklearn.metrics import accuracy_score\n",
    "\n",
    "from sklearn.linear_model import LogisticRegression"
   ]
  },
  {
   "cell_type": "markdown",
   "metadata": {},
   "source": [
    "<div align=\"center\">\n",
    "  <h1>Cross Validation</h1>\n",
    "</div>\n"
   ]
  },
  {
   "cell_type": "markdown",
   "metadata": {},
   "source": [
    "<h2>¿Qué es la Validación Cruzada?</h2>\n",
    "<p>\n",
    "    La <strong>validación cruzada</strong> es una técnica de evaluación utilizada para estimar el rendimiento de un modelo de machine learning. Se utiliza principalmente para asegurar que el modelo generalice bien a datos no vistos y no se ajuste excesivamente (overfitting) a los datos de entrenamiento.\n",
    "</p>\n",
    "\n",
    "<h3>¿Para qué sirve la Validación Cruzada?</h3>\n",
    "<ul>\n",
    "    <li><strong>Evaluación del modelo:</strong> Permite obtener una estimación más confiable del rendimiento del modelo al evaluar su desempeño en múltiples subconjuntos de datos.</li>\n",
    "    <li><strong>Detección de sobreajuste:</strong> Ayuda a identificar si un modelo está sobreajustado al conjunto de entrenamiento, lo que puede resultar en un mal rendimiento en datos nuevos.</li>\n",
    "    <li><strong>Selección de hiperparámetros:</strong> Facilita la optimización de los hiperparámetros del modelo al probar diferentes configuraciones y seleccionar la que mejor rendimiento obtiene.</li>\n",
    "\n",
    "</ul>\n",
    "\n",
    "<h3>Validación Cruzada que veremos en esta ayudantia</h3>\n",
    "<ul>\n",
    "    <li><strong>k-fold Cross-Validation:</strong> Los datos se dividen en k subconjuntos (o pliegues). El modelo se entrena en k-1 subconjuntos y se evalúa en el subconjunto restante. Este proceso se repite k veces, y los resultados se promedian.</li>\n",
    "\n",
    "</ul>\n",
    "\n",
    "\n"
   ]
  },
  {
   "cell_type": "markdown",
   "metadata": {},
   "source": [
    "<div align=\"center\">\n",
    "  <h1>Recordatorio</h1>\n",
    "</div>\n"
   ]
  },
  {
   "cell_type": "markdown",
   "metadata": {},
   "source": [
    "### Regresión Lineal ###\n",
    "$\\hat{y_i} = \\alpha x_i + \\beta$\n",
    "\n",
    "<img src=\"lineal.png\" alt=\"Regresión Lineal\" width=\"300\" />\n",
    "\n",
    "\n"
   ]
  },
  {
   "cell_type": "markdown",
   "metadata": {},
   "source": [
    "### Regresión Polinomial ###\n",
    " $ \\hat{y_i} = \\alpha_0 + \\alpha_1 x_i + \\alpha_2 x_i^2 + \\cdots + \\alpha_p x_i^p $\n",
    " \n",
    "![image.png](data:image/png;base64,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)\n",
    "\n"
   ]
  },
  {
   "cell_type": "markdown",
   "metadata": {},
   "source": [
    "### Regresión Multilineal ###\n",
    "$\\hat{y_i} = \\beta_0 + \\beta_1 x_{1i} + \\beta_2 x_{2i} + \\cdots + \\beta_k x_{ki}\n",
    "$\n",
    "\n",
    "<img src=\"linealmultiple.png\" alt=\"Regresión Lineal\" width=\"300\" />\n",
    "\n",
    "\n"
   ]
  },
  {
   "cell_type": "markdown",
   "metadata": {},
   "source": [
    "## Indicadores para evaluar la calidad de nuestros modelos "
   ]
  },
  {
   "cell_type": "markdown",
   "metadata": {},
   "source": [
    "### Coefficient of Determination.\n",
    "\n",
    "$ R^2 = 1 - \\frac{\\sum_{i=1}^{n} (y_i - \\hat{y_i})^2}{\\sum_{i=1}^{n} (y_i - \\bar{y})^2} $\n"
   ]
  },
  {
   "cell_type": "markdown",
   "metadata": {},
   "source": [
    "\n",
    "\n",
    "### Relación entre SST, SSR, SSE y \\( R^2 \\)\n",
    "\n",
    "1. **Suma Total de Cuadrados (SST)**:\n",
    "   - $$ \\text{SST} = \\sum_{i=1}^{n} (y_i - \\bar{y})^2 $$\n",
    "     - **Variables**:\n",
    "       - $ \\ y_i \\ $: Valores observados de la variable dependiente.\n",
    "       - $ \\bar{y} $: Media de los valores observados.\n",
    "\n",
    "2. **Suma de Cuadrados de la Regresión (SSR)**:\n",
    "   - $$ \\text{SSR} = \\sum_{i=1}^{n} (\\hat{y}_i - \\bar{y})^2 $$\n",
    "     - **Variables**:\n",
    "       - $ \\hat{y}_i $: Valores predichos por el modelo.\n",
    "       - $ \\bar{y} $: Media de los valores observados.\n",
    "\n",
    "3. **Suma de Cuadrados del Error (SSE)**:\n",
    "   - $$ \\text{SSE} = \\sum_{i=1}^{n} (y_i - \\hat{y}_i)^2 $$\n",
    "     - **Variables**:\n",
    "       - $ \\ y_i \\ $: Valores observados de la variable dependiente.\n",
    "       - $ \\hat{y}_i $: Valores predichos por el modelo.\n",
    "\n",
    "### Relación entre SST, SSR y SSE:\n",
    "- $$ \\text{SST} = \\text{SSR} + \\text{SSE} $$\n",
    "\n",
    "### Coeficiente de Determinación \\( R^2 \\):\n",
    "- $$ R^2 = \\frac{\\text{SSR}}{\\text{SST}} = 1 - \\frac{\\text{SSE}}{\\text{SST}} $$\n",
    "\n",
    "### Resumen:\n",
    "- El coeficiente de determinación \\( R^2 \\) mide la proporción de la varianza en la variable dependiente que es predecible a partir de las variables independientes.\n"
   ]
  },
  {
   "cell_type": "markdown",
   "metadata": {},
   "source": [
    "\n",
    "\n",
    "### Root Mean Squared Error"
   ]
  },
  {
   "cell_type": "markdown",
   "metadata": {},
   "source": [
    "$RMSE = \\sqrt{\\frac{1}{n} \\sum_{i=1}^{n} (y_i - \\hat{y_i})^2}\n",
    "$"
   ]
  },
  {
   "cell_type": "markdown",
   "metadata": {},
   "source": [
    "\n",
    "<div align=\"center\">\n",
    "  <p>Trabajaremos con los  mismos datos  de la ayudantia 10, Boston Housing Data set que es un conjunto de datos que contiene información sobre el mercado de viviendas en Boston, las columnas de este dataset son las siguientes</p>\n",
    "</div>\n"
   ]
  },
  {
   "cell_type": "markdown",
   "metadata": {},
   "source": [
    "<div align=\"center\">\n",
    "  <p>Columnas</p>\n",
    "</div>\n",
    "\n",
    "\n",
    "- **crim**: Tasa de criminalidad per cápita por ciudad\n",
    "- **zn**: Proporción de terrenos residenciales zonificados para lotes de más de 25,000 pies cuadrados\n",
    "- **indus**: Proporción de acres de negocios no minoristas por ciudad\n",
    "- **chas**: Variable ficticia del río Charles (= 1 si el área limita con el río; 0 de lo contrario)\n",
    "- **nox**: Concentración de óxidos de nitrógeno (partes por 10 millones)\n",
    "- **rm**: Número promedio de habitaciones por vivienda\n",
    "- **age**: Proporción de unidades ocupadas por propietarios construidas antes de 1940\n",
    "- **dis**: Distancias ponderadas a cinco centros de empleo de Boston\n",
    "- **rad**: Índice de accesibilidad a autopistas radiales\n",
    "- **tax**: Tasa de impuestos sobre la propiedad de valor total por cada $10,000\n",
    "- **b**: 1000(Bk - 0.63)², donde Bk es la proporción de [personas de ascendencia afroamericana] por ciudad\n",
    "- **lstat**: Porcentaje de población de estatus socioeconómico bajo\n",
    "- **medv**: Valor mediano de las viviendas ocupadas por sus propietarios en miles de dólares\n"
   ]
  },
  {
   "cell_type": "markdown",
   "metadata": {},
   "source": [
    "Cargamos nuestro dataset"
   ]
  },
  {
   "cell_type": "code",
   "execution_count": 3,
   "metadata": {},
   "outputs": [],
   "source": [
    "df = pd.read_csv('BostonHousing.csv')"
   ]
  },
  {
   "cell_type": "markdown",
   "metadata": {},
   "source": [
    "Limpiamos nuestro dataset"
   ]
  },
  {
   "cell_type": "code",
   "execution_count": 4,
   "metadata": {},
   "outputs": [],
   "source": [
    "df = df.dropna()"
   ]
  },
  {
   "cell_type": "markdown",
   "metadata": {},
   "source": [
    "####  Filtremos nuestros Datos por nuestras columnas de interes medv (Valor mediano de las viviendas), rm (Numero Promedio habtiaciones por vivienda) y lstat (Porcentaje de poblacíon de estatus socioeconomico bajo)\n"
   ]
  },
  {
   "cell_type": "code",
   "execution_count": 5,
   "metadata": {},
   "outputs": [],
   "source": [
    "df = df[['medv' ,'rm', 'lstat']]"
   ]
  },
  {
   "cell_type": "code",
   "execution_count": 6,
   "metadata": {},
   "outputs": [
    {
     "data": {
      "text/html": [
       "<div>\n",
       "<style scoped>\n",
       "    .dataframe tbody tr th:only-of-type {\n",
       "        vertical-align: middle;\n",
       "    }\n",
       "\n",
       "    .dataframe tbody tr th {\n",
       "        vertical-align: top;\n",
       "    }\n",
       "\n",
       "    .dataframe thead th {\n",
       "        text-align: right;\n",
       "    }\n",
       "</style>\n",
       "<table border=\"1\" class=\"dataframe\">\n",
       "  <thead>\n",
       "    <tr style=\"text-align: right;\">\n",
       "      <th></th>\n",
       "      <th>medv</th>\n",
       "      <th>rm</th>\n",
       "      <th>lstat</th>\n",
       "    </tr>\n",
       "  </thead>\n",
       "  <tbody>\n",
       "    <tr>\n",
       "      <th>0</th>\n",
       "      <td>24.0</td>\n",
       "      <td>6.575</td>\n",
       "      <td>4.98</td>\n",
       "    </tr>\n",
       "    <tr>\n",
       "      <th>1</th>\n",
       "      <td>21.6</td>\n",
       "      <td>6.421</td>\n",
       "      <td>9.14</td>\n",
       "    </tr>\n",
       "    <tr>\n",
       "      <th>2</th>\n",
       "      <td>34.7</td>\n",
       "      <td>7.185</td>\n",
       "      <td>4.03</td>\n",
       "    </tr>\n",
       "    <tr>\n",
       "      <th>3</th>\n",
       "      <td>33.4</td>\n",
       "      <td>6.998</td>\n",
       "      <td>2.94</td>\n",
       "    </tr>\n",
       "    <tr>\n",
       "      <th>4</th>\n",
       "      <td>36.2</td>\n",
       "      <td>7.147</td>\n",
       "      <td>5.33</td>\n",
       "    </tr>\n",
       "    <tr>\n",
       "      <th>...</th>\n",
       "      <td>...</td>\n",
       "      <td>...</td>\n",
       "      <td>...</td>\n",
       "    </tr>\n",
       "    <tr>\n",
       "      <th>501</th>\n",
       "      <td>22.4</td>\n",
       "      <td>6.593</td>\n",
       "      <td>9.67</td>\n",
       "    </tr>\n",
       "    <tr>\n",
       "      <th>502</th>\n",
       "      <td>20.6</td>\n",
       "      <td>6.120</td>\n",
       "      <td>9.08</td>\n",
       "    </tr>\n",
       "    <tr>\n",
       "      <th>503</th>\n",
       "      <td>23.9</td>\n",
       "      <td>6.976</td>\n",
       "      <td>5.64</td>\n",
       "    </tr>\n",
       "    <tr>\n",
       "      <th>504</th>\n",
       "      <td>22.0</td>\n",
       "      <td>6.794</td>\n",
       "      <td>6.48</td>\n",
       "    </tr>\n",
       "    <tr>\n",
       "      <th>505</th>\n",
       "      <td>11.9</td>\n",
       "      <td>6.030</td>\n",
       "      <td>7.88</td>\n",
       "    </tr>\n",
       "  </tbody>\n",
       "</table>\n",
       "<p>501 rows × 3 columns</p>\n",
       "</div>"
      ],
      "text/plain": [
       "     medv     rm  lstat\n",
       "0    24.0  6.575   4.98\n",
       "1    21.6  6.421   9.14\n",
       "2    34.7  7.185   4.03\n",
       "3    33.4  6.998   2.94\n",
       "4    36.2  7.147   5.33\n",
       "..    ...    ...    ...\n",
       "501  22.4  6.593   9.67\n",
       "502  20.6  6.120   9.08\n",
       "503  23.9  6.976   5.64\n",
       "504  22.0  6.794   6.48\n",
       "505  11.9  6.030   7.88\n",
       "\n",
       "[501 rows x 3 columns]"
      ]
     },
     "execution_count": 6,
     "metadata": {},
     "output_type": "execute_result"
    }
   ],
   "source": [
    "df"
   ]
  },
  {
   "cell_type": "markdown",
   "metadata": {},
   "source": [
    "#### Primer paso encontrar correlaciones"
   ]
  },
  {
   "cell_type": "code",
   "execution_count": 7,
   "metadata": {},
   "outputs": [
    {
     "data": {
      "image/png": "[encoded data removed]",
      "text/plain": [
       "<Figure size 1200x800 with 2 Axes>"
      ]
     },
     "metadata": {},
     "output_type": "display_data"
    }
   ],
   "source": [
    "corr_matrix = df.corr()\n",
    "\n",
    "plt.figure(figsize=(12, 8))\n",
    "sns.heatmap(corr_matrix, annot=True, cmap='coolwarm')\n",
    "plt.show()"
   ]
  },
  {
   "cell_type": "markdown",
   "metadata": {},
   "source": [
    "#### Analizamos con pairplot como se ven las correlaciones\n"
   ]
  },
  {
   "cell_type": "code",
   "execution_count": 8,
   "metadata": {},
   "outputs": [
    {
     "data": {
      "text/plain": [
       "<seaborn.axisgrid.PairGrid at 0x1c41859ab00>"
      ]
     },
     "execution_count": 8,
     "metadata": {},
     "output_type": "execute_result"
    },
    {
     "data": {
      "image/png": "[encoded data removed]",
      "text/plain": [
       "<Figure size 250x250 with 1 Axes>"
      ]
     },
     "metadata": {},
     "output_type": "display_data"
    }
   ],
   "source": [
    "sns.pairplot(data=df, y_vars='medv', x_vars='rm')"
   ]
  },
  {
   "cell_type": "code",
   "execution_count": 9,
   "metadata": {},
   "outputs": [
    {
     "data": {
      "text/plain": [
       "<seaborn.axisgrid.PairGrid at 0x1c43e687970>"
      ]
     },
     "execution_count": 9,
     "metadata": {},
     "output_type": "execute_result"
    },
    {
     "data": {
      "image/png": "[encoded data removed]",
      "text/plain": [
       "<Figure size 250x250 with 1 Axes>"
      ]
     },
     "metadata": {},
     "output_type": "display_data"
    }
   ],
   "source": [
    "sns.pairplot(data=df, y_vars='medv', x_vars='lstat')"
   ]
  },
  {
   "cell_type": "markdown",
   "metadata": {},
   "source": [
    "<h3>Caso de uso de Cross-Validation de esta ayudantia</h3>\n",
    "<ul>\n",
    "    <li><strong>Evaluación del modelo:</strong> Permite obtener una estimación más confiable del rendimiento del modelo al evaluar su desempeño en múltiples subconjuntos de datos.</li>\n",
    "\n",
    "   <p> Compararemos el modelo de regresion tradicional, regression Lasso y de Ridge\n",
    "\n",
    "\n",
    "</ul>"
   ]
  },
  {
   "cell_type": "markdown",
   "metadata": {},
   "source": [
    "<div align=\"center\">\n",
    "  <h2>Validacíon Tradicional</h2>\n",
    "</div>"
   ]
  },
  {
   "cell_type": "markdown",
   "metadata": {},
   "source": [
    "<div style=\"width: 100%; display: flex; font-family: Arial, sans-serif; margin-top: 20px;\">\n",
    "  <!-- Sección de Entrenamiento -->\n",
    "  <div style=\"width: 75%; background-color: #004080; color: white; text-align: center; padding: 10px 0; font-weight: bold;\">\n",
    "    Entrenamiento (75%)\n",
    "  </div>\n",
    "  \n",
    "  <!-- Sección de Prueba -->\n",
    "  <div style=\"width: 25%; background-color: #4CAF50; color: white; text-align: center; padding: 10px 0; font-weight: bold;\">\n",
    "    Prueba (25%)\n",
    "  </div>\n",
    "</div>\n"
   ]
  },
  {
   "cell_type": "markdown",
   "metadata": {},
   "source": [
    "### Ejemplo"
   ]
  },
  {
   "cell_type": "code",
   "execution_count": 10,
   "metadata": {},
   "outputs": [],
   "source": [
    "from sklearn.model_selection import train_test_split\n",
    "train, test = train_test_split(df, test_size=0.25, random_state=42)"
   ]
  },
  {
   "cell_type": "code",
   "execution_count": 11,
   "metadata": {},
   "outputs": [],
   "source": [
    "\n",
    "y_train = np.array(train.medv)\n",
    "y_test = np.array(test.medv)\n",
    "X_train = np.array(train.rm)\n",
    "X_train = X_train.reshape(X_train.shape[0], 1)\n",
    "X_test = np.array(test.rm)\n",
    "X_test = X_test.reshape(X_test.shape[0], 1)"
   ]
  },
  {
   "cell_type": "markdown",
   "metadata": {},
   "source": [
    "<div>\n",
    "  <h3>Donde cada iteración es llamado fold o pliegue </h3>\n",
    "</div>"
   ]
  },
  {
   "cell_type": "markdown",
   "metadata": {},
   "source": [
    "<div align=\"center\">\n",
    "  <h4>Regresíon Lineal</h4>\n",
    "</div>"
   ]
  },
  {
   "cell_type": "code",
   "execution_count": 12,
   "metadata": {},
   "outputs": [
    {
     "data": {
      "text/html": [
       "<style>#sk-container-id-1 {\n",
       "  /* Definition of color scheme common for light and dark mode */\n",
       "  --sklearn-color-text: black;\n",
       "  --sklearn-color-line: gray;\n",
       "  /* Definition of color scheme for unfitted estimators */\n",
       "  --sklearn-color-unfitted-level-0: #fff5e6;\n",
       "  --sklearn-color-unfitted-level-1: #f6e4d2;\n",
       "  --sklearn-color-unfitted-level-2: #ffe0b3;\n",
       "  --sklearn-color-unfitted-level-3: chocolate;\n",
       "  /* Definition of color scheme for fitted estimators */\n",
       "  --sklearn-color-fitted-level-0: #f0f8ff;\n",
       "  --sklearn-color-fitted-level-1: #d4ebff;\n",
       "  --sklearn-color-fitted-level-2: #b3dbfd;\n",
       "  --sklearn-color-fitted-level-3: cornflowerblue;\n",
       "\n",
       "  /* Specific color for light theme */\n",
       "  --sklearn-color-text-on-default-background: var(--sg-text-color, var(--theme-code-foreground, var(--jp-content-font-color1, black)));\n",
       "  --sklearn-color-background: var(--sg-background-color, var(--theme-background, var(--jp-layout-color0, white)));\n",
       "  --sklearn-color-border-box: var(--sg-text-color, var(--theme-code-foreground, var(--jp-content-font-color1, black)));\n",
       "  --sklearn-color-icon: #696969;\n",
       "\n",
       "  @media (prefers-color-scheme: dark) {\n",
       "    /* Redefinition of color scheme for dark theme */\n",
       "    --sklearn-color-text-on-default-background: var(--sg-text-color, var(--theme-code-foreground, var(--jp-content-font-color1, white)));\n",
       "    --sklearn-color-background: var(--sg-background-color, var(--theme-background, var(--jp-layout-color0, #111)));\n",
       "    --sklearn-color-border-box: var(--sg-text-color, var(--theme-code-foreground, var(--jp-content-font-color1, white)));\n",
       "    --sklearn-color-icon: #878787;\n",
       "  }\n",
       "}\n",
       "\n",
       "#sk-container-id-1 {\n",
       "  color: var(--sklearn-color-text);\n",
       "}\n",
       "\n",
       "#sk-container-id-1 pre {\n",
       "  padding: 0;\n",
       "}\n",
       "\n",
       "#sk-container-id-1 input.sk-hidden--visually {\n",
       "  border: 0;\n",
       "  clip: rect(1px 1px 1px 1px);\n",
       "  clip: rect(1px, 1px, 1px, 1px);\n",
       "  height: 1px;\n",
       "  margin: -1px;\n",
       "  overflow: hidden;\n",
       "  padding: 0;\n",
       "  position: absolute;\n",
       "  width: 1px;\n",
       "}\n",
       "\n",
       "#sk-container-id-1 div.sk-dashed-wrapped {\n",
       "  border: 1px dashed var(--sklearn-color-line);\n",
       "  margin: 0 0.4em 0.5em 0.4em;\n",
       "  box-sizing: border-box;\n",
       "  padding-bottom: 0.4em;\n",
       "  background-color: var(--sklearn-color-background);\n",
       "}\n",
       "\n",
       "#sk-container-id-1 div.sk-container {\n",
       "  /* jupyter's `normalize.less` sets `[hidden] { display: none; }`\n",
       "     but bootstrap.min.css set `[hidden] { display: none !important; }`\n",
       "     so we also need the `!important` here to be able to override the\n",
       "     default hidden behavior on the sphinx rendered scikit-learn.org.\n",
       "     See: https://github.com/scikit-learn/scikit-learn/issues/21755 */\n",
       "  display: inline-block !important;\n",
       "  position: relative;\n",
       "}\n",
       "\n",
       "#sk-container-id-1 div.sk-text-repr-fallback {\n",
       "  display: none;\n",
       "}\n",
       "\n",
       "div.sk-parallel-item,\n",
       "div.sk-serial,\n",
       "div.sk-item {\n",
       "  /* draw centered vertical line to link estimators */\n",
       "  background-image: linear-gradient(var(--sklearn-color-text-on-default-background), var(--sklearn-color-text-on-default-background));\n",
       "  background-size: 2px 100%;\n",
       "  background-repeat: no-repeat;\n",
       "  background-position: center center;\n",
       "}\n",
       "\n",
       "/* Parallel-specific style estimator block */\n",
       "\n",
       "#sk-container-id-1 div.sk-parallel-item::after {\n",
       "  content: \"\";\n",
       "  width: 100%;\n",
       "  border-bottom: 2px solid var(--sklearn-color-text-on-default-background);\n",
       "  flex-grow: 1;\n",
       "}\n",
       "\n",
       "#sk-container-id-1 div.sk-parallel {\n",
       "  display: flex;\n",
       "  align-items: stretch;\n",
       "  justify-content: center;\n",
       "  background-color: var(--sklearn-color-background);\n",
       "  position: relative;\n",
       "}\n",
       "\n",
       "#sk-container-id-1 div.sk-parallel-item {\n",
       "  display: flex;\n",
       "  flex-direction: column;\n",
       "}\n",
       "\n",
       "#sk-container-id-1 div.sk-parallel-item:first-child::after {\n",
       "  align-self: flex-end;\n",
       "  width: 50%;\n",
       "}\n",
       "\n",
       "#sk-container-id-1 div.sk-parallel-item:last-child::after {\n",
       "  align-self: flex-start;\n",
       "  width: 50%;\n",
       "}\n",
       "\n",
       "#sk-container-id-1 div.sk-parallel-item:only-child::after {\n",
       "  width: 0;\n",
       "}\n",
       "\n",
       "/* Serial-specific style estimator block */\n",
       "\n",
       "#sk-container-id-1 div.sk-serial {\n",
       "  display: flex;\n",
       "  flex-direction: column;\n",
       "  align-items: center;\n",
       "  background-color: var(--sklearn-color-background);\n",
       "  padding-right: 1em;\n",
       "  padding-left: 1em;\n",
       "}\n",
       "\n",
       "\n",
       "/* Toggleable style: style used for estimator/Pipeline/ColumnTransformer box that is\n",
       "clickable and can be expanded/collapsed.\n",
       "- Pipeline and ColumnTransformer use this feature and define the default style\n",
       "- Estimators will overwrite some part of the style using the `sk-estimator` class\n",
       "*/\n",
       "\n",
       "/* Pipeline and ColumnTransformer style (default) */\n",
       "\n",
       "#sk-container-id-1 div.sk-toggleable {\n",
       "  /* Default theme specific background. It is overwritten whether we have a\n",
       "  specific estimator or a Pipeline/ColumnTransformer */\n",
       "  background-color: var(--sklearn-color-background);\n",
       "}\n",
       "\n",
       "/* Toggleable label */\n",
       "#sk-container-id-1 label.sk-toggleable__label {\n",
       "  cursor: pointer;\n",
       "  display: block;\n",
       "  width: 100%;\n",
       "  margin-bottom: 0;\n",
       "  padding: 0.5em;\n",
       "  box-sizing: border-box;\n",
       "  text-align: center;\n",
       "}\n",
       "\n",
       "#sk-container-id-1 label.sk-toggleable__label-arrow:before {\n",
       "  /* Arrow on the left of the label */\n",
       "  content: \"▸\";\n",
       "  float: left;\n",
       "  margin-right: 0.25em;\n",
       "  color: var(--sklearn-color-icon);\n",
       "}\n",
       "\n",
       "#sk-container-id-1 label.sk-toggleable__label-arrow:hover:before {\n",
       "  color: var(--sklearn-color-text);\n",
       "}\n",
       "\n",
       "/* Toggleable content - dropdown */\n",
       "\n",
       "#sk-container-id-1 div.sk-toggleable__content {\n",
       "  max-height: 0;\n",
       "  max-width: 0;\n",
       "  overflow: hidden;\n",
       "  text-align: left;\n",
       "  /* unfitted */\n",
       "  background-color: var(--sklearn-color-unfitted-level-0);\n",
       "}\n",
       "\n",
       "#sk-container-id-1 div.sk-toggleable__content.fitted {\n",
       "  /* fitted */\n",
       "  background-color: var(--sklearn-color-fitted-level-0);\n",
       "}\n",
       "\n",
       "#sk-container-id-1 div.sk-toggleable__content pre {\n",
       "  margin: 0.2em;\n",
       "  border-radius: 0.25em;\n",
       "  color: var(--sklearn-color-text);\n",
       "  /* unfitted */\n",
       "  background-color: var(--sklearn-color-unfitted-level-0);\n",
       "}\n",
       "\n",
       "#sk-container-id-1 div.sk-toggleable__content.fitted pre {\n",
       "  /* unfitted */\n",
       "  background-color: var(--sklearn-color-fitted-level-0);\n",
       "}\n",
       "\n",
       "#sk-container-id-1 input.sk-toggleable__control:checked~div.sk-toggleable__content {\n",
       "  /* Expand drop-down */\n",
       "  max-height: 200px;\n",
       "  max-width: 100%;\n",
       "  overflow: auto;\n",
       "}\n",
       "\n",
       "#sk-container-id-1 input.sk-toggleable__control:checked~label.sk-toggleable__label-arrow:before {\n",
       "  content: \"▾\";\n",
       "}\n",
       "\n",
       "/* Pipeline/ColumnTransformer-specific style */\n",
       "\n",
       "#sk-container-id-1 div.sk-label input.sk-toggleable__control:checked~label.sk-toggleable__label {\n",
       "  color: var(--sklearn-color-text);\n",
       "  background-color: var(--sklearn-color-unfitted-level-2);\n",
       "}\n",
       "\n",
       "#sk-container-id-1 div.sk-label.fitted input.sk-toggleable__control:checked~label.sk-toggleable__label {\n",
       "  background-color: var(--sklearn-color-fitted-level-2);\n",
       "}\n",
       "\n",
       "/* Estimator-specific style */\n",
       "\n",
       "/* Colorize estimator box */\n",
       "#sk-container-id-1 div.sk-estimator input.sk-toggleable__control:checked~label.sk-toggleable__label {\n",
       "  /* unfitted */\n",
       "  background-color: var(--sklearn-color-unfitted-level-2);\n",
       "}\n",
       "\n",
       "#sk-container-id-1 div.sk-estimator.fitted input.sk-toggleable__control:checked~label.sk-toggleable__label {\n",
       "  /* fitted */\n",
       "  background-color: var(--sklearn-color-fitted-level-2);\n",
       "}\n",
       "\n",
       "#sk-container-id-1 div.sk-label label.sk-toggleable__label,\n",
       "#sk-container-id-1 div.sk-label label {\n",
       "  /* The background is the default theme color */\n",
       "  color: var(--sklearn-color-text-on-default-background);\n",
       "}\n",
       "\n",
       "/* On hover, darken the color of the background */\n",
       "#sk-container-id-1 div.sk-label:hover label.sk-toggleable__label {\n",
       "  color: var(--sklearn-color-text);\n",
       "  background-color: var(--sklearn-color-unfitted-level-2);\n",
       "}\n",
       "\n",
       "/* Label box, darken color on hover, fitted */\n",
       "#sk-container-id-1 div.sk-label.fitted:hover label.sk-toggleable__label.fitted {\n",
       "  color: var(--sklearn-color-text);\n",
       "  background-color: var(--sklearn-color-fitted-level-2);\n",
       "}\n",
       "\n",
       "/* Estimator label */\n",
       "\n",
       "#sk-container-id-1 div.sk-label label {\n",
       "  font-family: monospace;\n",
       "  font-weight: bold;\n",
       "  display: inline-block;\n",
       "  line-height: 1.2em;\n",
       "}\n",
       "\n",
       "#sk-container-id-1 div.sk-label-container {\n",
       "  text-align: center;\n",
       "}\n",
       "\n",
       "/* Estimator-specific */\n",
       "#sk-container-id-1 div.sk-estimator {\n",
       "  font-family: monospace;\n",
       "  border: 1px dotted var(--sklearn-color-border-box);\n",
       "  border-radius: 0.25em;\n",
       "  box-sizing: border-box;\n",
       "  margin-bottom: 0.5em;\n",
       "  /* unfitted */\n",
       "  background-color: var(--sklearn-color-unfitted-level-0);\n",
       "}\n",
       "\n",
       "#sk-container-id-1 div.sk-estimator.fitted {\n",
       "  /* fitted */\n",
       "  background-color: var(--sklearn-color-fitted-level-0);\n",
       "}\n",
       "\n",
       "/* on hover */\n",
       "#sk-container-id-1 div.sk-estimator:hover {\n",
       "  /* unfitted */\n",
       "  background-color: var(--sklearn-color-unfitted-level-2);\n",
       "}\n",
       "\n",
       "#sk-container-id-1 div.sk-estimator.fitted:hover {\n",
       "  /* fitted */\n",
       "  background-color: var(--sklearn-color-fitted-level-2);\n",
       "}\n",
       "\n",
       "/* Specification for estimator info (e.g. \"i\" and \"?\") */\n",
       "\n",
       "/* Common style for \"i\" and \"?\" */\n",
       "\n",
       ".sk-estimator-doc-link,\n",
       "a:link.sk-estimator-doc-link,\n",
       "a:visited.sk-estimator-doc-link {\n",
       "  float: right;\n",
       "  font-size: smaller;\n",
       "  line-height: 1em;\n",
       "  font-family: monospace;\n",
       "  background-color: var(--sklearn-color-background);\n",
       "  border-radius: 1em;\n",
       "  height: 1em;\n",
       "  width: 1em;\n",
       "  text-decoration: none !important;\n",
       "  margin-left: 1ex;\n",
       "  /* unfitted */\n",
       "  border: var(--sklearn-color-unfitted-level-1) 1pt solid;\n",
       "  color: var(--sklearn-color-unfitted-level-1);\n",
       "}\n",
       "\n",
       ".sk-estimator-doc-link.fitted,\n",
       "a:link.sk-estimator-doc-link.fitted,\n",
       "a:visited.sk-estimator-doc-link.fitted {\n",
       "  /* fitted */\n",
       "  border: var(--sklearn-color-fitted-level-1) 1pt solid;\n",
       "  color: var(--sklearn-color-fitted-level-1);\n",
       "}\n",
       "\n",
       "/* On hover */\n",
       "div.sk-estimator:hover .sk-estimator-doc-link:hover,\n",
       ".sk-estimator-doc-link:hover,\n",
       "div.sk-label-container:hover .sk-estimator-doc-link:hover,\n",
       ".sk-estimator-doc-link:hover {\n",
       "  /* unfitted */\n",
       "  background-color: var(--sklearn-color-unfitted-level-3);\n",
       "  color: var(--sklearn-color-background);\n",
       "  text-decoration: none;\n",
       "}\n",
       "\n",
       "div.sk-estimator.fitted:hover .sk-estimator-doc-link.fitted:hover,\n",
       ".sk-estimator-doc-link.fitted:hover,\n",
       "div.sk-label-container:hover .sk-estimator-doc-link.fitted:hover,\n",
       ".sk-estimator-doc-link.fitted:hover {\n",
       "  /* fitted */\n",
       "  background-color: var(--sklearn-color-fitted-level-3);\n",
       "  color: var(--sklearn-color-background);\n",
       "  text-decoration: none;\n",
       "}\n",
       "\n",
       "/* Span, style for the box shown on hovering the info icon */\n",
       ".sk-estimator-doc-link span {\n",
       "  display: none;\n",
       "  z-index: 9999;\n",
       "  position: relative;\n",
       "  font-weight: normal;\n",
       "  right: .2ex;\n",
       "  padding: .5ex;\n",
       "  margin: .5ex;\n",
       "  width: min-content;\n",
       "  min-width: 20ex;\n",
       "  max-width: 50ex;\n",
       "  color: var(--sklearn-color-text);\n",
       "  box-shadow: 2pt 2pt 4pt #999;\n",
       "  /* unfitted */\n",
       "  background: var(--sklearn-color-unfitted-level-0);\n",
       "  border: .5pt solid var(--sklearn-color-unfitted-level-3);\n",
       "}\n",
       "\n",
       ".sk-estimator-doc-link.fitted span {\n",
       "  /* fitted */\n",
       "  background: var(--sklearn-color-fitted-level-0);\n",
       "  border: var(--sklearn-color-fitted-level-3);\n",
       "}\n",
       "\n",
       ".sk-estimator-doc-link:hover span {\n",
       "  display: block;\n",
       "}\n",
       "\n",
       "/* \"?\"-specific style due to the `<a>` HTML tag */\n",
       "\n",
       "#sk-container-id-1 a.estimator_doc_link {\n",
       "  float: right;\n",
       "  font-size: 1rem;\n",
       "  line-height: 1em;\n",
       "  font-family: monospace;\n",
       "  background-color: var(--sklearn-color-background);\n",
       "  border-radius: 1rem;\n",
       "  height: 1rem;\n",
       "  width: 1rem;\n",
       "  text-decoration: none;\n",
       "  /* unfitted */\n",
       "  color: var(--sklearn-color-unfitted-level-1);\n",
       "  border: var(--sklearn-color-unfitted-level-1) 1pt solid;\n",
       "}\n",
       "\n",
       "#sk-container-id-1 a.estimator_doc_link.fitted {\n",
       "  /* fitted */\n",
       "  border: var(--sklearn-color-fitted-level-1) 1pt solid;\n",
       "  color: var(--sklearn-color-fitted-level-1);\n",
       "}\n",
       "\n",
       "/* On hover */\n",
       "#sk-container-id-1 a.estimator_doc_link:hover {\n",
       "  /* unfitted */\n",
       "  background-color: var(--sklearn-color-unfitted-level-3);\n",
       "  color: var(--sklearn-color-background);\n",
       "  text-decoration: none;\n",
       "}\n",
       "\n",
       "#sk-container-id-1 a.estimator_doc_link.fitted:hover {\n",
       "  /* fitted */\n",
       "  background-color: var(--sklearn-color-fitted-level-3);\n",
       "}\n",
       "</style><div id=\"sk-container-id-1\" class=\"sk-top-container\"><div class=\"sk-text-repr-fallback\"><pre>LinearRegression()</pre><b>In a Jupyter environment, please rerun this cell to show the HTML representation or trust the notebook. <br />On GitHub, the HTML representation is unable to render, please try loading this page with nbviewer.org.</b></div><div class=\"sk-container\" hidden><div class=\"sk-item\"><div class=\"sk-estimator fitted sk-toggleable\"><input class=\"sk-toggleable__control sk-hidden--visually\" id=\"sk-estimator-id-1\" type=\"checkbox\" checked><label for=\"sk-estimator-id-1\" class=\"sk-toggleable__label fitted sk-toggleable__label-arrow fitted\">&nbsp;&nbsp;LinearRegression<a class=\"sk-estimator-doc-link fitted\" rel=\"noreferrer\" target=\"_blank\" href=\"https://scikit-learn.org/1.5/modules/generated/sklearn.linear_model.LinearRegression.html\">?<span>Documentation for LinearRegression</span></a><span class=\"sk-estimator-doc-link fitted\">i<span>Fitted</span></span></label><div class=\"sk-toggleable__content fitted\"><pre>LinearRegression()</pre></div> </div></div></div></div>"
      ],
      "text/plain": [
       "LinearRegression()"
      ]
     },
     "execution_count": 12,
     "metadata": {},
     "output_type": "execute_result"
    }
   ],
   "source": [
    "from sklearn.linear_model import LinearRegression\n",
    "from sklearn.metrics import mean_squared_error, r2_score\n",
    "\n",
    "# Creamos nuestro modelo\n",
    "linreg = LinearRegression()\n",
    "\n",
    "## Le pasamos los datos de entrenamiento\n",
    "linreg.fit(X_train, y_train)"
   ]
  },
  {
   "cell_type": "code",
   "execution_count": 13,
   "metadata": {},
   "outputs": [
    {
     "name": "stdout",
     "output_type": "stream",
     "text": [
      "\n",
      "Conjunto de prueba\n",
      "R^2 (test) 0.5139029661697858\n",
      "RMSE (test) 36.82808053589672\n"
     ]
    }
   ],
   "source": [
    "y_pred_test = linreg.predict(X_test)\n",
    "R2_lineal_test = r2_score(y_test, y_pred_test)\n",
    "rmse_test = mean_squared_error(y_test, y_pred_test)\n",
    "print('\\nConjunto de prueba')\n",
    "print(r'R^2 (test)',R2_lineal_test)\n",
    "print('RMSE (test)', rmse_test)"
   ]
  },
  {
   "cell_type": "markdown",
   "metadata": {},
   "source": [
    "<div align=\"center\">\n",
    "  <h4>Regresíon Ridge</h4>\n",
    "</div>"
   ]
  },
  {
   "cell_type": "code",
   "execution_count": 14,
   "metadata": {},
   "outputs": [],
   "source": [
    "from sklearn.linear_model import Ridge\n",
    "\n",
    "ridge = Ridge(alpha=1.0)\n"
   ]
  },
  {
   "cell_type": "code",
   "execution_count": 15,
   "metadata": {},
   "outputs": [],
   "source": [
    "\n",
    "ridge.fit(X_train, y_train)\n",
    "\n",
    "\n",
    "y_pred_ridge = ridge.predict(X_test)"
   ]
  },
  {
   "cell_type": "code",
   "execution_count": 16,
   "metadata": {},
   "outputs": [
    {
     "name": "stdout",
     "output_type": "stream",
     "text": [
      "\n",
      "Conjunto de prueba\n",
      "R^2 (test) 0.5139403777218376\n",
      "RMSE (test) 36.825246131331276\n"
     ]
    }
   ],
   "source": [
    "R2_ridge_test_ = r2_score(y_test, y_pred_ridge)\n",
    "rmse_test_ridge = mean_squared_error(y_test, y_pred_ridge)\n",
    "print('\\nConjunto de prueba')\n",
    "print(r'R^2 (test)',R2_ridge_test_)\n",
    "print('RMSE (test)', rmse_test_ridge)"
   ]
  },
  {
   "cell_type": "markdown",
   "metadata": {},
   "source": [
    "<div align=\"center\">\n",
    "  <h4>Regresíon Lasso</h4>\n",
    "</div>"
   ]
  },
  {
   "cell_type": "code",
   "execution_count": 17,
   "metadata": {},
   "outputs": [],
   "source": [
    "from sklearn.linear_model import Lasso\n",
    "\n",
    "lasso = Lasso(alpha=1.0)"
   ]
  },
  {
   "cell_type": "code",
   "execution_count": 18,
   "metadata": {},
   "outputs": [],
   "source": [
    "lasso.fit(X_train, y_train)\n",
    "\n",
    "\n",
    "y_pred_lasso = lasso.predict(X_test)"
   ]
  },
  {
   "cell_type": "code",
   "execution_count": 19,
   "metadata": {},
   "outputs": [
    {
     "name": "stdout",
     "output_type": "stream",
     "text": [
      "\n",
      "Conjunto de prueba\n",
      "R^2 (test) 0.5139403777218376\n",
      "RMSE (test) 36.825246131331276\n"
     ]
    }
   ],
   "source": [
    "R2_lasso_test_ = r2_score(y_test, y_pred_lasso)\n",
    "rmse_test_lasso = mean_squared_error(y_test, y_pred_lasso)\n",
    "print('\\nConjunto de prueba')\n",
    "print(r'R^2 (test)',R2_ridge_test_)\n",
    "print('RMSE (test)', rmse_test_ridge)"
   ]
  },
  {
   "cell_type": "markdown",
   "metadata": {},
   "source": [
    "<div align=\"center\">\n",
    "  <h2>Representacion gráfica de lo que realiza al hacer cross validation</h2>\n",
    "</div>"
   ]
  },
  {
   "cell_type": "markdown",
   "metadata": {},
   "source": [
    "<table style=\"width: 100%; border-collapse: collapse; font-family: Arial, sans-serif;\">\n",
    "  <thead>\n",
    "    <tr>\n",
    "      <th style=\"border: 1px solid #ddd; padding: 8px; background-color: #black;\">Iteración</th>\n",
    "      <th style=\"border: 1px solid #ddd; padding: 8px; background-color: #black;\">Set 1</th>\n",
    "      <th style=\"border: 1px solid #ddd; padding: 8px; background-color: #black;\">Set 2</th>\n",
    "      <th style=\"border: 1px solid #ddd; padding: 8px; background-color: #black;\">Set 3</th>\n",
    "      <th style=\"border: 1px solid #ddd; padding: 8px; background-color: #black;\">Set 4</th>\n",
    "      <th style=\"border: 1px solid #ddd; padding: 8px; background-color: #black;\">Set 5</th>\n",
    "      <th style=\"border: 1px solid #ddd; padding: 8px; background-color: #black;\">MSE, R2 o cualquier otra</th>\n",
    "    </tr>\n",
    "  </thead>\n",
    "  <tbody>\n",
    "    <tr>\n",
    "      <td style=\"border: 1px solid #ddd; padding: 8px;\">1</td>\n",
    "      <td style=\"border: 1px solid #ddd; padding: 8px; background-color: #4CAF50; color: white;\"><strong>Test</strong></td>\n",
    "      <td style=\"border: 1px solid #ddd; padding: 8px; background-color: #004080; color: white;\">Train</td>\n",
    "      <td style=\"border: 1px solid #ddd; padding: 8px; background-color: #004080; color: white;\">Train</td>\n",
    "      <td style=\"border: 1px solid #ddd; padding: 8px; background-color: #004080; color: white;\">Train</td>\n",
    "      <td style=\"border: 1px solid #ddd; padding: 8px; background-color: #004080; color: white;\">Train</td>\n",
    "      <td>0.89</td>\n",
    "    </tr>\n",
    "    <tr>\n",
    "      <td style=\"border: 1px solid #ddd; padding: 8px;\">2</td>\n",
    "      <td style=\"border: 1px solid #ddd; padding: 8px; background-color: #004080; color: white;\">Train</td>\n",
    "      <td style=\"border: 1px solid #ddd; padding: 8px; background-color: #4CAF50; color: white;\"><strong>Test</strong></td>\n",
    "      <td style=\"border: 1px solid #ddd; padding: 8px; background-color: #004080; color: white;\">Train</td>\n",
    "      <td style=\"border: 1px solid #ddd; padding: 8px; background-color: #004080; color: white;\">Train</td>\n",
    "      <td style=\"border: 1px solid #ddd; padding: 8px; background-color: #004080; color: white;\">Train</td>\n",
    "      <td>0.81</td>\n",
    "    </tr>\n",
    "    <tr>\n",
    "      <td style=\"border: 1px solid #ddd; padding: 8px;\">3</td>\n",
    "      <td style=\"border: 1px solid #ddd; padding: 8px; background-color: #004080; color: white;\">Train</td>\n",
    "      <td style=\"border: 1px solid #ddd; padding: 8px; background-color: #004080; color: white;\">Train</td>\n",
    "      <td style=\"border: 1px solid #ddd; padding: 8px; background-color: #4CAF50; color: white;\"><strong>Test</strong></td>\n",
    "      <td style=\"border: 1px solid #ddd; padding: 8px; background-color: #004080; color: white;\">Train</td>\n",
    "      <td style=\"border: 1px solid #ddd; padding: 8px; background-color: #004080; color: white;\">Train</td>\n",
    "      <td>0.84</td>\n",
    "    </tr>\n",
    "    <tr>\n",
    "      <td style=\"border: 1px solid #ddd; padding: 8px;\">4</td>\n",
    "      <td style=\"border: 1px solid #ddd; padding: 8px; background-color: #004080; color: white;\">Train</td>\n",
    "      <td style=\"border: 1px solid #ddd; padding: 8px; background-color: #004080; color: white;\">Train</td>\n",
    "      <td style=\"border: 1px solid #ddd; padding: 8px; background-color: #004080; color: white;\">Train</td>\n",
    "      <td style=\"border: 1px solid #ddd; padding: 8px; background-color: #4CAF50; color: white;\"><strong>Test</strong></td>\n",
    "      <td style=\"border: 1px solid #ddd; padding: 8px; background-color: #004080; color: white;\">Train</td>\n",
    "      <td>0.80</td>\n",
    "    </tr>\n",
    "    <tr>\n",
    "      <td style=\"border: 1px solid #ddd; padding: 8px;\">5</td>\n",
    "      <td style=\"border: 1px solid #ddd; padding: 8px; background-color: #004080; color: white;\">Train</td>\n",
    "      <td style=\"border: 1px solid #ddd; padding: 8px; background-color: #004080; color: white;\">Train</td>\n",
    "      <td style=\"border: 1px solid #ddd; padding: 8px; background-color: #004080; color: white;\">Train</td>\n",
    "      <td style=\"border: 1px solid #ddd; padding: 8px; background-color: #004080; color: white;\">Train</td>\n",
    "      <td style=\"border: 1px solid #ddd; padding: 8px; background-color: #4CAF50; color: white;\"><strong>Test</strong></td>\n",
    "       <td>0.89</td>\n",
    "    </tr>\n",
    "  </tbody>\n",
    "</table>\n"
   ]
  },
  {
   "cell_type": "markdown",
   "metadata": {},
   "source": [
    "### variable objetivo (lo que quieres predecir)\n"
   ]
  },
  {
   "cell_type": "code",
   "execution_count": 20,
   "metadata": {},
   "outputs": [],
   "source": [
    "y = df['medv']"
   ]
  },
  {
   "cell_type": "code",
   "execution_count": 21,
   "metadata": {},
   "outputs": [],
   "source": [
    "X = df[['rm']]"
   ]
  },
  {
   "cell_type": "code",
   "execution_count": 26,
   "metadata": {},
   "outputs": [
    {
     "name": "stdout",
     "output_type": "stream",
     "text": [
      "[  9.77486433  38.24952084  33.15483531 108.71772533  73.20921073]\n",
      "52.621231308494956\n"
     ]
    }
   ],
   "source": [
    "cantidad_folds = 5\n",
    "\n",
    "mse_score_linereg = cross_val_score(linreg, X, y, cv=cantidad_folds, scoring='neg_mean_squared_error')\n",
    "\n",
    "neg_mean_squared_error =-(mse_score_linereg)\n",
    "print(neg_mean_squared_error)\n",
    "\n",
    "mean_accuracy_lr = sum(neg_mean_squared_error)/cantidad_folds\n",
    "\n",
    "print(mean_accuracy_lr)\n"
   ]
  },
  {
   "cell_type": "code",
   "execution_count": 27,
   "metadata": {},
   "outputs": [
    {
     "name": "stdout",
     "output_type": "stream",
     "text": [
      "[  9.79842177  38.44828281  33.51533269 108.28352945  73.14105945]\n",
      "52.63732523255478\n"
     ]
    }
   ],
   "source": [
    "mse_score_ridge = cross_val_score(ridge, X, y, cv=cantidad_folds, scoring='neg_mean_squared_error')\n",
    "\n",
    "neg_mean_squared_error =-(mse_score_ridge)\n",
    "print(neg_mean_squared_error)\n",
    "\n",
    "mean_accuracy_lr = sum(neg_mean_squared_error)/cantidad_folds\n",
    "\n",
    "print(mean_accuracy_lr)"
   ]
  },
  {
   "cell_type": "code",
   "execution_count": 28,
   "metadata": {},
   "outputs": [
    {
     "name": "stdout",
     "output_type": "stream",
     "text": [
      "[11.57399916 50.28350851 57.08717823 95.21981553 71.44550713]\n",
      "57.12200171159155\n"
     ]
    }
   ],
   "source": [
    "mse_score_lasso = cross_val_score(lasso, X, y, cv=cantidad_folds, scoring='neg_mean_squared_error')\n",
    "\n",
    "neg_mean_squared_error =-(mse_score_lasso)\n",
    "print(neg_mean_squared_error)\n",
    "\n",
    "mean_accuracy_lr = sum(neg_mean_squared_error)/cantidad_folds\n",
    "\n",
    "print(mean_accuracy_lr)"
   ]
  },
  {
   "cell_type": "markdown",
   "metadata": {},
   "source": [
    "### ¿Qué modelo tiene mejores métricas?"
   ]
  },
  {
   "cell_type": "code",
   "execution_count": null,
   "metadata": {},
   "outputs": [],
   "source": []
  }
 ],
 "metadata": {
  "kernelspec": {
   "display_name": "Python 3 (ipykernel)",
   "language": "python",
   "name": "python3"
  },
  "language_info": {
   "codemirror_mode": {
    "name": "ipython",
    "version": 3
   },
   "file_extension": ".py",
   "mimetype": "text/x-python",
   "name": "python",
   "nbconvert_exporter": "python",
   "pygments_lexer": "ipython3",
   "version": "3.12.4"
  }
 },
 "nbformat": 4,
 "nbformat_minor": 4
}
