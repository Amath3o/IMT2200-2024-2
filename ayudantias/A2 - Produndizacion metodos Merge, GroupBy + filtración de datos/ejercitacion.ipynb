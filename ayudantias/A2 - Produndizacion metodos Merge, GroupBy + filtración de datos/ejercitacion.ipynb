{
 "cells": [
  {
   "cell_type": "code",
   "execution_count": 56,
   "metadata": {},
   "outputs": [],
   "source": [
    "import pandas as pd"
   ]
  },
  {
   "cell_type": "markdown",
   "metadata": {},
   "source": [
    "1) Cargue en dataframes los archivos .parquet que se encuentran en la carpeta data "
   ]
  },
  {
   "cell_type": "code",
   "execution_count": null,
   "metadata": {},
   "outputs": [],
   "source": []
  },
  {
   "cell_type": "code",
   "execution_count": 57,
   "metadata": {},
   "outputs": [
    {
     "data": {
      "text/html": [
       "<div>\n",
       "<style scoped>\n",
       "    .dataframe tbody tr th:only-of-type {\n",
       "        vertical-align: middle;\n",
       "    }\n",
       "\n",
       "    .dataframe tbody tr th {\n",
       "        vertical-align: top;\n",
       "    }\n",
       "\n",
       "    .dataframe thead th {\n",
       "        text-align: right;\n",
       "    }\n",
       "</style>\n",
       "<table border=\"1\" class=\"dataframe\">\n",
       "  <thead>\n",
       "    <tr style=\"text-align: right;\">\n",
       "      <th></th>\n",
       "      <th>COD_REG_RBD</th>\n",
       "      <th>Nombre de la Región</th>\n",
       "    </tr>\n",
       "  </thead>\n",
       "  <tbody>\n",
       "    <tr>\n",
       "      <th>0</th>\n",
       "      <td>1</td>\n",
       "      <td>Región de Tarapacá</td>\n",
       "    </tr>\n",
       "    <tr>\n",
       "      <th>1</th>\n",
       "      <td>2</td>\n",
       "      <td>Región de Antofagasta</td>\n",
       "    </tr>\n",
       "    <tr>\n",
       "      <th>2</th>\n",
       "      <td>3</td>\n",
       "      <td>Región de Atacama</td>\n",
       "    </tr>\n",
       "    <tr>\n",
       "      <th>3</th>\n",
       "      <td>4</td>\n",
       "      <td>Región de Coquimbo</td>\n",
       "    </tr>\n",
       "    <tr>\n",
       "      <th>4</th>\n",
       "      <td>5</td>\n",
       "      <td>Región de Valparaíso</td>\n",
       "    </tr>\n",
       "    <tr>\n",
       "      <th>5</th>\n",
       "      <td>6</td>\n",
       "      <td>Región del Libertador Gral. Bernardo O'Higgins</td>\n",
       "    </tr>\n",
       "    <tr>\n",
       "      <th>6</th>\n",
       "      <td>7</td>\n",
       "      <td>Región del Maule</td>\n",
       "    </tr>\n",
       "    <tr>\n",
       "      <th>7</th>\n",
       "      <td>8</td>\n",
       "      <td>Región del Biobío</td>\n",
       "    </tr>\n",
       "    <tr>\n",
       "      <th>8</th>\n",
       "      <td>9</td>\n",
       "      <td>Región de La Araucanía</td>\n",
       "    </tr>\n",
       "    <tr>\n",
       "      <th>9</th>\n",
       "      <td>10</td>\n",
       "      <td>Región de Los Lagos</td>\n",
       "    </tr>\n",
       "    <tr>\n",
       "      <th>10</th>\n",
       "      <td>11</td>\n",
       "      <td>Región de Aysén del Gral. Carlos Ibáñez del Campo</td>\n",
       "    </tr>\n",
       "    <tr>\n",
       "      <th>11</th>\n",
       "      <td>12</td>\n",
       "      <td>Región de Magallanes y de la Antártica Chilena</td>\n",
       "    </tr>\n",
       "    <tr>\n",
       "      <th>12</th>\n",
       "      <td>13</td>\n",
       "      <td>Región Metropolitana de Santiago</td>\n",
       "    </tr>\n",
       "    <tr>\n",
       "      <th>13</th>\n",
       "      <td>14</td>\n",
       "      <td>Región de Los Ríos</td>\n",
       "    </tr>\n",
       "    <tr>\n",
       "      <th>14</th>\n",
       "      <td>15</td>\n",
       "      <td>Región de Arica y Parinacota</td>\n",
       "    </tr>\n",
       "    <tr>\n",
       "      <th>15</th>\n",
       "      <td>16</td>\n",
       "      <td>Región de Ñuble</td>\n",
       "    </tr>\n",
       "  </tbody>\n",
       "</table>\n",
       "</div>"
      ],
      "text/plain": [
       "    COD_REG_RBD                                Nombre de la Región\n",
       "0             1                                 Región de Tarapacá\n",
       "1             2                              Región de Antofagasta\n",
       "2             3                                  Región de Atacama\n",
       "3             4                                 Región de Coquimbo\n",
       "4             5                               Región de Valparaíso\n",
       "5             6     Región del Libertador Gral. Bernardo O'Higgins\n",
       "6             7                                   Región del Maule\n",
       "7             8                                  Región del Biobío\n",
       "8             9                             Región de La Araucanía\n",
       "9            10                                Región de Los Lagos\n",
       "10           11  Región de Aysén del Gral. Carlos Ibáñez del Campo\n",
       "11           12     Región de Magallanes y de la Antártica Chilena\n",
       "12           13                   Región Metropolitana de Santiago\n",
       "13           14                                 Región de Los Ríos\n",
       "14           15                       Región de Arica y Parinacota\n",
       "15           16                                    Región de Ñuble"
      ]
     },
     "execution_count": 57,
     "metadata": {},
     "output_type": "execute_result"
    }
   ],
   "source": [
    "import pandas as pd\n",
    "\n",
    "# Crear el DataFrame manualmente\n",
    "data = {\n",
    "    \"COD_REG_RBD\": [1, 2, 3, 4, 5, 6, 7, 8, 9, 10, 11, 12, 13, 14, 15,16],\n",
    "    \"Nombre de la Región\": [\n",
    "        \"Región de Tarapacá\", \"Región de Antofagasta\", \"Región de Atacama\",\n",
    "        \"Región de Coquimbo\", \"Región de Valparaíso\", \n",
    "        \"Región del Libertador Gral. Bernardo O'Higgins\", \"Región del Maule\",\n",
    "        \"Región del Biobío\", \"Región de La Araucanía\", \"Región de Los Lagos\",\n",
    "        \"Región de Aysén del Gral. Carlos Ibáñez del Campo\", \n",
    "        \"Región de Magallanes y de la Antártica Chilena\", \n",
    "        \"Región Metropolitana de Santiago\", \"Región de Los Ríos\", \"Región de Arica y Parinacota\",\n",
    "        \"Región de Ñuble\"\n",
    "    ]\n",
    "}\n",
    "\n",
    "df_regiones = pd.DataFrame(data)\n",
    "\n",
    "df_regiones\n"
   ]
  },
  {
   "cell_type": "markdown",
   "metadata": {},
   "source": [
    "2. Agregue al dataframe que proviene del archivo establecimientos_2023.parquet los nombres de las regiones al cual pertenecen los establecimientos, esto lo pueden hacer mediante el dataframe entregado al principio que contiene 'COD_REG_RBD' y el nombre de la región."
   ]
  },
  {
   "cell_type": "code",
   "execution_count": null,
   "metadata": {},
   "outputs": [],
   "source": []
  },
  {
   "cell_type": "markdown",
   "metadata": {},
   "source": [
    "3) Una vez agregado los nombres de las regiones al cual pertenecen los establecimientos, mediante uno de los métodos entregados anteriormente COMO `groupby`, entregue un dataframe que muestre el promedio tanto del puntaje de matemática `MATE1_MAX` y lenguaje `CLEC_MAX`  que se obtuvo en las regiones (Región Metropolitana de Santiago, Región del Biobío  y  Región de Arica y Parinacota)\n",
    "\n",
    "\n",
    "\n",
    "aunque suene raro, `MATE1_MAX` `CLEC_MAX` indican el promedio que se obtuvo en ese establecimiento en específico\n"
   ]
  },
  {
   "cell_type": "code",
   "execution_count": null,
   "metadata": {},
   "outputs": [],
   "source": []
  },
  {
   "cell_type": "markdown",
   "metadata": {},
   "source": [
    "4. mediante los dataframes que obtuvo de estudiantes_municipales_2023, estudiantes_particulares_2023 y estudiantes_particulares_2023_s cree con el metodo `concat()` un solo dataframe que muestre a todos los estudiantes \n"
   ]
  }
 ],
 "metadata": {
  "kernelspec": {
   "display_name": "Python 3",
   "language": "python",
   "name": "python3"
  },
  "language_info": {
   "codemirror_mode": {
    "name": "ipython",
    "version": 3
   },
   "file_extension": ".py",
   "mimetype": "text/x-python",
   "name": "python",
   "nbconvert_exporter": "python",
   "pygments_lexer": "ipython3",
   "version": "3.12.5"
  }
 },
 "nbformat": 4,
 "nbformat_minor": 2
}
