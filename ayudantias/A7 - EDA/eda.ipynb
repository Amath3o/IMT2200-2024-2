{
 "cells": [
  {
   "cell_type": "code",
   "execution_count": 1,
   "metadata": {},
   "outputs": [],
   "source": [
    "import pandas as pd\n",
    "import numpy as np"
   ]
  },
  {
   "cell_type": "markdown",
   "metadata": {},
   "source": [
    "# Análisis exploratorio de datos\n",
    "\n",
    "Desde el comienzo del curso hemos utilizado herramientas para explorar los datos propias de pandas. Tail, Head, Info, Describe, Unique, isnull, entre otras, así como también hemos introducido la librería Matplotlib para poder graficar los datos y con esto tener una interpretación esquemática o geométrica.\n",
    "\n",
    "Sin embargo no hemos ahondado en herramientas estadísticas que nos pueden ser útil para tener una interpretación de los datos en dicho sentido. \n",
    "\n",
    "Para ello vamos a introducir algunos estadísticos y gráficos útiles."
   ]
  },
  {
   "cell_type": "markdown",
   "metadata": {},
   "source": [
    "## ¿Qué es un estadístico?\n",
    "\n",
    "Vamos a dar una definición matemática de un estadístico, ya que es un concepto que nos va a acompañar durante toda la carrera y es útil conocerlo.\n",
    "\n",
    "Sea una muestra de datos $X_1,..., X_n$, un estadístico $T(X_1,..., X_n)$ es una transformación de la muestra a un número (o vector) que resume alguna propiedad o característica propia de la muestra."
   ]
  },
  {
   "cell_type": "markdown",
   "metadata": {},
   "source": [
    "### Es decir, que podemos meter los datos en un estadístico, realizar operaciones y obtener un valor representativo que nos da cierta información de interés de la muestra. "
   ]
  },
  {
   "cell_type": "markdown",
   "metadata": {},
   "source": [
    "Ejemplo de estadísticos son:\n",
    "\n",
    "- la misma muestra\n",
    "- la media aritmética (o promedio)\n",
    "- La varianza muestral\n",
    "- el máximo (y mínimo) de la muestra (Los cuales son conocidos como estadísticos de orden)\n",
    "- Cualquier función que se te ocurra que pueda mapear los datos a algo (Obviamente hay estadísticos que pueden no entregarnos algo importante, pero eso es discusión para otro ramo)\n",
    "\n",
    "\n",
    "Dicho esto, vamos a ver los estadísticos que fueron introducidos en clases.\n",
    "\n",
    "### Primero vamos a crear un dataset sintético "
   ]
  },
  {
   "cell_type": "code",
   "execution_count": 2,
   "metadata": {},
   "outputs": [
    {
     "data": {
      "text/html": [
       "<div>\n",
       "<style scoped>\n",
       "    .dataframe tbody tr th:only-of-type {\n",
       "        vertical-align: middle;\n",
       "    }\n",
       "\n",
       "    .dataframe tbody tr th {\n",
       "        vertical-align: top;\n",
       "    }\n",
       "\n",
       "    .dataframe thead th {\n",
       "        text-align: right;\n",
       "    }\n",
       "</style>\n",
       "<table border=\"1\" class=\"dataframe\">\n",
       "  <thead>\n",
       "    <tr style=\"text-align: right;\">\n",
       "      <th></th>\n",
       "      <th>col1</th>\n",
       "      <th>col2</th>\n",
       "      <th>col3</th>\n",
       "      <th>col4</th>\n",
       "      <th>col5</th>\n",
       "    </tr>\n",
       "  </thead>\n",
       "  <tbody>\n",
       "    <tr>\n",
       "      <th>0</th>\n",
       "      <td>5408.250514</td>\n",
       "      <td>2810.182035</td>\n",
       "      <td>7008.691186</td>\n",
       "      <td>4738.973705</td>\n",
       "      <td>1438.148109</td>\n",
       "    </tr>\n",
       "    <tr>\n",
       "      <th>1</th>\n",
       "      <td>3205.194161</td>\n",
       "      <td>8333.414208</td>\n",
       "      <td>3482.800534</td>\n",
       "      <td>6736.887755</td>\n",
       "      <td>3235.886793</td>\n",
       "    </tr>\n",
       "    <tr>\n",
       "      <th>2</th>\n",
       "      <td>4987.059107</td>\n",
       "      <td>731.718140</td>\n",
       "      <td>6298.463776</td>\n",
       "      <td>914.101667</td>\n",
       "      <td>4384.325366</td>\n",
       "    </tr>\n",
       "    <tr>\n",
       "      <th>3</th>\n",
       "      <td>2875.412265</td>\n",
       "      <td>6514.204033</td>\n",
       "      <td>6774.632690</td>\n",
       "      <td>9524.429482</td>\n",
       "      <td>7865.510412</td>\n",
       "    </tr>\n",
       "    <tr>\n",
       "      <th>4</th>\n",
       "      <td>2429.178751</td>\n",
       "      <td>2063.654442</td>\n",
       "      <td>1848.797229</td>\n",
       "      <td>4567.572255</td>\n",
       "      <td>842.060025</td>\n",
       "    </tr>\n",
       "    <tr>\n",
       "      <th>...</th>\n",
       "      <td>...</td>\n",
       "      <td>...</td>\n",
       "      <td>...</td>\n",
       "      <td>...</td>\n",
       "      <td>...</td>\n",
       "    </tr>\n",
       "    <tr>\n",
       "      <th>995</th>\n",
       "      <td>2761.745700</td>\n",
       "      <td>2535.592909</td>\n",
       "      <td>2016.090494</td>\n",
       "      <td>3450.382263</td>\n",
       "      <td>3591.925489</td>\n",
       "    </tr>\n",
       "    <tr>\n",
       "      <th>996</th>\n",
       "      <td>9761.928898</td>\n",
       "      <td>3998.253449</td>\n",
       "      <td>8377.395571</td>\n",
       "      <td>9483.226805</td>\n",
       "      <td>7159.330868</td>\n",
       "    </tr>\n",
       "    <tr>\n",
       "      <th>997</th>\n",
       "      <td>5080.329297</td>\n",
       "      <td>8044.914685</td>\n",
       "      <td>2825.079092</td>\n",
       "      <td>8235.766055</td>\n",
       "      <td>5682.393854</td>\n",
       "    </tr>\n",
       "    <tr>\n",
       "      <th>998</th>\n",
       "      <td>254.116462</td>\n",
       "      <td>7330.684128</td>\n",
       "      <td>527.536666</td>\n",
       "      <td>5176.870782</td>\n",
       "      <td>1524.242260</td>\n",
       "    </tr>\n",
       "    <tr>\n",
       "      <th>999</th>\n",
       "      <td>8071.631860</td>\n",
       "      <td>162.680017</td>\n",
       "      <td>7399.863094</td>\n",
       "      <td>7883.923533</td>\n",
       "      <td>7057.068619</td>\n",
       "    </tr>\n",
       "  </tbody>\n",
       "</table>\n",
       "<p>1000 rows × 5 columns</p>\n",
       "</div>"
      ],
      "text/plain": [
       "            col1         col2         col3         col4         col5\n",
       "0    5408.250514  2810.182035  7008.691186  4738.973705  1438.148109\n",
       "1    3205.194161  8333.414208  3482.800534  6736.887755  3235.886793\n",
       "2    4987.059107   731.718140  6298.463776   914.101667  4384.325366\n",
       "3    2875.412265  6514.204033  6774.632690  9524.429482  7865.510412\n",
       "4    2429.178751  2063.654442  1848.797229  4567.572255   842.060025\n",
       "..           ...          ...          ...          ...          ...\n",
       "995  2761.745700  2535.592909  2016.090494  3450.382263  3591.925489\n",
       "996  9761.928898  3998.253449  8377.395571  9483.226805  7159.330868\n",
       "997  5080.329297  8044.914685  2825.079092  8235.766055  5682.393854\n",
       "998   254.116462  7330.684128   527.536666  5176.870782  1524.242260\n",
       "999  8071.631860   162.680017  7399.863094  7883.923533  7057.068619\n",
       "\n",
       "[1000 rows x 5 columns]"
      ]
     },
     "execution_count": 2,
     "metadata": {},
     "output_type": "execute_result"
    }
   ],
   "source": [
    "col1, col2, col3, col4, col5 = np.random.rand(5, 1000)*10000\n",
    "df = pd.DataFrame({'col1': col1, 'col2': col2, 'col3': col3, 'col4': col4, 'col5': col5})\n",
    "df\n"
   ]
  },
  {
   "cell_type": "markdown",
   "metadata": {},
   "source": [
    "# Muestras numéricas"
   ]
  },
  {
   "cell_type": "markdown",
   "metadata": {},
   "source": [
    "# La media:\n",
    "\n",
    "Se define como el cociente entre la suma de toda la muestra y el tamaño de la misma.\n",
    "\n",
    "$$\\bar{X} = \\frac{1}{n} \\sum_{i=1}^{n} X_i$$\n"
   ]
  },
  {
   "cell_type": "code",
   "execution_count": 3,
   "metadata": {},
   "outputs": [
    {
     "data": {
      "text/plain": [
       "4758.872572550906"
      ]
     },
     "execution_count": 3,
     "metadata": {},
     "output_type": "execute_result"
    }
   ],
   "source": [
    "def mean(col):\n",
    "    return sum(col1)/len(col1)\n",
    "\n",
    "mean(col1)"
   ]
  },
  {
   "cell_type": "code",
   "execution_count": 4,
   "metadata": {},
   "outputs": [
    {
     "data": {
      "text/plain": [
       "4758.872572550908"
      ]
     },
     "execution_count": 4,
     "metadata": {},
     "output_type": "execute_result"
    }
   ],
   "source": [
    "#con pandas\n",
    "df['col1'].mean()"
   ]
  },
  {
   "cell_type": "markdown",
   "metadata": {},
   "source": [
    "# Mediana\n",
    "La mediana de una muestra $X_1,..,X_n$:\n",
    "\\begin{cases} \n",
    "X_{\\left(\\frac{n+1}{2}\\right)} & \\text{si } n \\text{ es impar} \\\\\n",
    "\\frac{1}{2} \\left( X_{\\left(\\frac{n}{2}\\right)} + X_{\\left(\\frac{n}{2}+1\\right)} \\right) & \\text{si } n \\text{ es par}\n",
    "\\end{cases}\n"
   ]
  },
  {
   "cell_type": "code",
   "execution_count": 5,
   "metadata": {},
   "outputs": [
    {
     "data": {
      "text/plain": [
       "4800.859606421025"
      ]
     },
     "execution_count": 5,
     "metadata": {},
     "output_type": "execute_result"
    }
   ],
   "source": [
    "def median(col):\n",
    "    col = sorted(col)\n",
    "    if len(col) % 2 == 0:\n",
    "        return (col[len(col)//2] + col[len(col)//2 - 1])/2\n",
    "    else:\n",
    "        return col[len(col)//2]\n",
    "    \n",
    "median(col1)"
   ]
  },
  {
   "cell_type": "code",
   "execution_count": 6,
   "metadata": {},
   "outputs": [
    {
     "data": {
      "text/plain": [
       "4800.859606421025"
      ]
     },
     "execution_count": 6,
     "metadata": {},
     "output_type": "execute_result"
    }
   ],
   "source": [
    "#con pandas\n",
    "df['col1'].median()"
   ]
  },
  {
   "cell_type": "markdown",
   "metadata": {},
   "source": [
    "# Desviación Estandar\n",
    "\n",
    "Es una medida para evaluar que tan dispersos son los datos.\n",
    "\n",
    "$\\sigma = \\sqrt{\\frac{1}{n} \\sum_{i=1}^{n} (X_i - \\mu)^2}$\n",
    "\n"
   ]
  },
  {
   "cell_type": "code",
   "execution_count": 7,
   "metadata": {},
   "outputs": [
    {
     "data": {
      "text/plain": [
       "2833.3007678630233"
      ]
     },
     "execution_count": 7,
     "metadata": {},
     "output_type": "execute_result"
    }
   ],
   "source": [
    "def standard_deviation(col):\n",
    "    return (sum([(i - mean(col))**2 for i in col])/(len(col)-1))**0.5\n",
    "\n",
    "standard_deviation(col1)\n"
   ]
  },
  {
   "cell_type": "code",
   "execution_count": 8,
   "metadata": {},
   "outputs": [
    {
     "data": {
      "text/plain": [
       "2833.300767863022"
      ]
     },
     "execution_count": 8,
     "metadata": {},
     "output_type": "execute_result"
    }
   ],
   "source": [
    "#con pandas\n",
    "df['col1'].std()"
   ]
  },
  {
   "cell_type": "markdown",
   "metadata": {},
   "source": [
    "# Varianza\n",
    "\n",
    "Es una medida de dispersión, que corresponde al cuadrado de la desviación estándar (No es recomendable usarla ya que influye mucho el 'peso' de los datos)"
   ]
  },
  {
   "cell_type": "code",
   "execution_count": 9,
   "metadata": {},
   "outputs": [
    {
     "data": {
      "text/plain": [
       "8027593.2411731975"
      ]
     },
     "execution_count": 9,
     "metadata": {},
     "output_type": "execute_result"
    }
   ],
   "source": [
    "def variance(col):\n",
    "    return standard_deviation(col)**2\n",
    "\n",
    "variance(col1)\n"
   ]
  },
  {
   "cell_type": "code",
   "execution_count": 10,
   "metadata": {},
   "outputs": [
    {
     "data": {
      "text/plain": [
       "8027593.241173189"
      ]
     },
     "execution_count": 10,
     "metadata": {},
     "output_type": "execute_result"
    }
   ],
   "source": [
    "#con pandas\n",
    "df['col1'].var()"
   ]
  },
  {
   "cell_type": "markdown",
   "metadata": {},
   "source": [
    "# Covarianza\n",
    "\n",
    "es una medida de cómo dos cantidades varían juntas\n",
    "\n",
    "$\\text{Cov}(X, Y) = \\frac{1}{n} \\sum_{i=1}^{n} (X_i - \\mu_X)(Y_i - \\mu_Y)$\n",
    "\n",
    "\n",
    "La interpretación de este valor es la siguiente:\n",
    "\n",
    "- Si el valor positivo, quiere decir que cuando uno aumenta, el otro también.\n",
    "- Si es negativo, quiere decir que cuando uno aumenta, el otro disminuye.\n",
    "- Si es cercana a cero, quiere decir que no hay una relación lineal entre los datos."
   ]
  },
  {
   "cell_type": "code",
   "execution_count": 11,
   "metadata": {},
   "outputs": [
    {
     "data": {
      "text/html": [
       "<div>\n",
       "<style scoped>\n",
       "    .dataframe tbody tr th:only-of-type {\n",
       "        vertical-align: middle;\n",
       "    }\n",
       "\n",
       "    .dataframe tbody tr th {\n",
       "        vertical-align: top;\n",
       "    }\n",
       "\n",
       "    .dataframe thead th {\n",
       "        text-align: right;\n",
       "    }\n",
       "</style>\n",
       "<table border=\"1\" class=\"dataframe\">\n",
       "  <thead>\n",
       "    <tr style=\"text-align: right;\">\n",
       "      <th></th>\n",
       "      <th>col1</th>\n",
       "      <th>col2</th>\n",
       "      <th>col3</th>\n",
       "      <th>col4</th>\n",
       "      <th>col5</th>\n",
       "    </tr>\n",
       "  </thead>\n",
       "  <tbody>\n",
       "    <tr>\n",
       "      <th>col1</th>\n",
       "      <td>8.027593e+06</td>\n",
       "      <td>-1.751647e+05</td>\n",
       "      <td>5.363690e+04</td>\n",
       "      <td>3.701920e+05</td>\n",
       "      <td>6.775089e+04</td>\n",
       "    </tr>\n",
       "    <tr>\n",
       "      <th>col2</th>\n",
       "      <td>-1.751647e+05</td>\n",
       "      <td>8.391173e+06</td>\n",
       "      <td>-3.724858e+05</td>\n",
       "      <td>8.940755e+04</td>\n",
       "      <td>-6.189226e+04</td>\n",
       "    </tr>\n",
       "    <tr>\n",
       "      <th>col3</th>\n",
       "      <td>5.363690e+04</td>\n",
       "      <td>-3.724858e+05</td>\n",
       "      <td>8.117721e+06</td>\n",
       "      <td>-4.481674e+05</td>\n",
       "      <td>-3.635062e+05</td>\n",
       "    </tr>\n",
       "    <tr>\n",
       "      <th>col4</th>\n",
       "      <td>3.701920e+05</td>\n",
       "      <td>8.940755e+04</td>\n",
       "      <td>-4.481674e+05</td>\n",
       "      <td>8.413867e+06</td>\n",
       "      <td>3.131401e+04</td>\n",
       "    </tr>\n",
       "    <tr>\n",
       "      <th>col5</th>\n",
       "      <td>6.775089e+04</td>\n",
       "      <td>-6.189226e+04</td>\n",
       "      <td>-3.635062e+05</td>\n",
       "      <td>3.131401e+04</td>\n",
       "      <td>8.192647e+06</td>\n",
       "    </tr>\n",
       "  </tbody>\n",
       "</table>\n",
       "</div>"
      ],
      "text/plain": [
       "              col1          col2          col3          col4          col5\n",
       "col1  8.027593e+06 -1.751647e+05  5.363690e+04  3.701920e+05  6.775089e+04\n",
       "col2 -1.751647e+05  8.391173e+06 -3.724858e+05  8.940755e+04 -6.189226e+04\n",
       "col3  5.363690e+04 -3.724858e+05  8.117721e+06 -4.481674e+05 -3.635062e+05\n",
       "col4  3.701920e+05  8.940755e+04 -4.481674e+05  8.413867e+06  3.131401e+04\n",
       "col5  6.775089e+04 -6.189226e+04 -3.635062e+05  3.131401e+04  8.192647e+06"
      ]
     },
     "execution_count": 11,
     "metadata": {},
     "output_type": "execute_result"
    }
   ],
   "source": [
    "#covarianza con pandas\n",
    "df.cov()"
   ]
  },
  {
   "cell_type": "markdown",
   "metadata": {},
   "source": [
    "# Coeficiente Pearson\n",
    "\n",
    "$r = \\frac{\\text{Cov}(X, Y)}{\\sigma_X \\sigma_Y}$\n",
    "\n",
    "\n",
    "El coeficiente de Pearson es una versión adimensional de la covarianza. Es decir, que nos permite obtener relaciones entre variables quitando la dimensionalidad (Unidades de medida). \n",
    "\n",
    "Este coeficiente es el utilizado para generar la 'matriz de correlación'.\n",
    "\n",
    "- 1 significa una correlación lineal positiva perfecta.\n",
    "- -1 significa una correlación lineal negativa perfecta.\n",
    "- 0 significa que no hay correlación lineal."
   ]
  },
  {
   "cell_type": "code",
   "execution_count": 12,
   "metadata": {},
   "outputs": [
    {
     "data": {
      "text/html": [
       "<div>\n",
       "<style scoped>\n",
       "    .dataframe tbody tr th:only-of-type {\n",
       "        vertical-align: middle;\n",
       "    }\n",
       "\n",
       "    .dataframe tbody tr th {\n",
       "        vertical-align: top;\n",
       "    }\n",
       "\n",
       "    .dataframe thead th {\n",
       "        text-align: right;\n",
       "    }\n",
       "</style>\n",
       "<table border=\"1\" class=\"dataframe\">\n",
       "  <thead>\n",
       "    <tr style=\"text-align: right;\">\n",
       "      <th></th>\n",
       "      <th>col1</th>\n",
       "      <th>col2</th>\n",
       "      <th>col3</th>\n",
       "      <th>col4</th>\n",
       "      <th>col5</th>\n",
       "    </tr>\n",
       "  </thead>\n",
       "  <tbody>\n",
       "    <tr>\n",
       "      <th>col1</th>\n",
       "      <td>1.000000</td>\n",
       "      <td>-0.021342</td>\n",
       "      <td>0.006644</td>\n",
       "      <td>0.045044</td>\n",
       "      <td>0.008354</td>\n",
       "    </tr>\n",
       "    <tr>\n",
       "      <th>col2</th>\n",
       "      <td>-0.021342</td>\n",
       "      <td>1.000000</td>\n",
       "      <td>-0.045132</td>\n",
       "      <td>0.010641</td>\n",
       "      <td>-0.007465</td>\n",
       "    </tr>\n",
       "    <tr>\n",
       "      <th>col3</th>\n",
       "      <td>0.006644</td>\n",
       "      <td>-0.045132</td>\n",
       "      <td>1.000000</td>\n",
       "      <td>-0.054228</td>\n",
       "      <td>-0.044574</td>\n",
       "    </tr>\n",
       "    <tr>\n",
       "      <th>col4</th>\n",
       "      <td>0.045044</td>\n",
       "      <td>0.010641</td>\n",
       "      <td>-0.054228</td>\n",
       "      <td>1.000000</td>\n",
       "      <td>0.003772</td>\n",
       "    </tr>\n",
       "    <tr>\n",
       "      <th>col5</th>\n",
       "      <td>0.008354</td>\n",
       "      <td>-0.007465</td>\n",
       "      <td>-0.044574</td>\n",
       "      <td>0.003772</td>\n",
       "      <td>1.000000</td>\n",
       "    </tr>\n",
       "  </tbody>\n",
       "</table>\n",
       "</div>"
      ],
      "text/plain": [
       "          col1      col2      col3      col4      col5\n",
       "col1  1.000000 -0.021342  0.006644  0.045044  0.008354\n",
       "col2 -0.021342  1.000000 -0.045132  0.010641 -0.007465\n",
       "col3  0.006644 -0.045132  1.000000 -0.054228 -0.044574\n",
       "col4  0.045044  0.010641 -0.054228  1.000000  0.003772\n",
       "col5  0.008354 -0.007465 -0.044574  0.003772  1.000000"
      ]
     },
     "execution_count": 12,
     "metadata": {},
     "output_type": "execute_result"
    }
   ],
   "source": [
    "df.corr()"
   ]
  },
  {
   "cell_type": "markdown",
   "metadata": {},
   "source": [
    "# Cuartiles, quintiles, deciles y percentiles\n",
    "\n",
    "Corresponde a una división de los datos en partes iguales. Una condición importante es que los datos deben estar ordenados.\n",
    "\n",
    "Siempre la cantidad de algún 'n-ciles' es n-1 (Por ejemplo hay 3 cuartiles, 4 quintiles, 9 deciles y 99 percentiles)\n"
   ]
  },
  {
   "cell_type": "code",
   "execution_count": 24,
   "metadata": {},
   "outputs": [
    {
     "data": {
      "text/html": [
       "<div>\n",
       "<style scoped>\n",
       "    .dataframe tbody tr th:only-of-type {\n",
       "        vertical-align: middle;\n",
       "    }\n",
       "\n",
       "    .dataframe tbody tr th {\n",
       "        vertical-align: top;\n",
       "    }\n",
       "\n",
       "    .dataframe thead th {\n",
       "        text-align: right;\n",
       "    }\n",
       "</style>\n",
       "<table border=\"1\" class=\"dataframe\">\n",
       "  <thead>\n",
       "    <tr style=\"text-align: right;\">\n",
       "      <th></th>\n",
       "      <th>col1</th>\n",
       "      <th>col2</th>\n",
       "      <th>col3</th>\n",
       "      <th>col4</th>\n",
       "      <th>col5</th>\n",
       "    </tr>\n",
       "  </thead>\n",
       "  <tbody>\n",
       "    <tr>\n",
       "      <th>count</th>\n",
       "      <td>1000.000000</td>\n",
       "      <td>1000.000000</td>\n",
       "      <td>1000.000000</td>\n",
       "      <td>1000.000000</td>\n",
       "      <td>1000.000000</td>\n",
       "    </tr>\n",
       "    <tr>\n",
       "      <th>mean</th>\n",
       "      <td>5063.100988</td>\n",
       "      <td>4995.087386</td>\n",
       "      <td>5150.237418</td>\n",
       "      <td>4875.042203</td>\n",
       "      <td>4867.297319</td>\n",
       "    </tr>\n",
       "    <tr>\n",
       "      <th>std</th>\n",
       "      <td>2873.845262</td>\n",
       "      <td>2982.120557</td>\n",
       "      <td>2884.766687</td>\n",
       "      <td>2912.316500</td>\n",
       "      <td>2835.918078</td>\n",
       "    </tr>\n",
       "    <tr>\n",
       "      <th>min</th>\n",
       "      <td>1.571182</td>\n",
       "      <td>2.961133</td>\n",
       "      <td>3.236567</td>\n",
       "      <td>12.830794</td>\n",
       "      <td>11.159699</td>\n",
       "    </tr>\n",
       "    <tr>\n",
       "      <th>25%</th>\n",
       "      <td>2606.962863</td>\n",
       "      <td>2351.918758</td>\n",
       "      <td>2634.265177</td>\n",
       "      <td>2374.328005</td>\n",
       "      <td>2513.031320</td>\n",
       "    </tr>\n",
       "    <tr>\n",
       "      <th>50%</th>\n",
       "      <td>5010.447753</td>\n",
       "      <td>4947.927997</td>\n",
       "      <td>5250.808004</td>\n",
       "      <td>4686.506027</td>\n",
       "      <td>4756.719337</td>\n",
       "    </tr>\n",
       "    <tr>\n",
       "      <th>75%</th>\n",
       "      <td>7520.893268</td>\n",
       "      <td>7717.429690</td>\n",
       "      <td>7561.063932</td>\n",
       "      <td>7448.103072</td>\n",
       "      <td>7158.277745</td>\n",
       "    </tr>\n",
       "    <tr>\n",
       "      <th>max</th>\n",
       "      <td>9992.992211</td>\n",
       "      <td>9974.970371</td>\n",
       "      <td>9995.676160</td>\n",
       "      <td>9996.101110</td>\n",
       "      <td>9988.091844</td>\n",
       "    </tr>\n",
       "  </tbody>\n",
       "</table>\n",
       "</div>"
      ],
      "text/plain": [
       "              col1         col2         col3         col4         col5\n",
       "count  1000.000000  1000.000000  1000.000000  1000.000000  1000.000000\n",
       "mean   5063.100988  4995.087386  5150.237418  4875.042203  4867.297319\n",
       "std    2873.845262  2982.120557  2884.766687  2912.316500  2835.918078\n",
       "min       1.571182     2.961133     3.236567    12.830794    11.159699\n",
       "25%    2606.962863  2351.918758  2634.265177  2374.328005  2513.031320\n",
       "50%    5010.447753  4947.927997  5250.808004  4686.506027  4756.719337\n",
       "75%    7520.893268  7717.429690  7561.063932  7448.103072  7158.277745\n",
       "max    9992.992211  9974.970371  9995.676160  9996.101110  9988.091844"
      ]
     },
     "execution_count": 24,
     "metadata": {},
     "output_type": "execute_result"
    }
   ],
   "source": [
    "#Con pandas\n",
    "\n",
    "df.describe()"
   ]
  },
  {
   "cell_type": "code",
   "execution_count": 29,
   "metadata": {},
   "outputs": [
    {
     "data": {
      "text/plain": [
       "9992.992210557075"
      ]
     },
     "execution_count": 29,
     "metadata": {},
     "output_type": "execute_result"
    }
   ],
   "source": [
    "#Calcular percentiles\n",
    "def percentil(col, p):\n",
    "    col = sorted(col) # Ordenamos la columna de datos\n",
    "    return col[int(len(col)*p)] # Devolvemos el valor que se encuentra en la posición correspondiente al percentil.\n",
    "\n",
    "percentil(col1, 0.9999)"
   ]
  },
  {
   "cell_type": "markdown",
   "metadata": {},
   "source": [
    "# Muestras categóricas"
   ]
  },
  {
   "cell_type": "markdown",
   "metadata": {},
   "source": [
    "Ahora imaginemos que tenemos un dataset con datos categóricos, por ejemplo tenemos una columna de percepción de la temperatura.\n",
    "\n",
    "Creamos un dataset sintético de temperaturas con 100 registros. Si T>30, diremos que es caluroso, si es entre 20 y 30, templado, si es <20, frío.\n"
   ]
  },
  {
   "cell_type": "code",
   "execution_count": 30,
   "metadata": {},
   "outputs": [
    {
     "data": {
      "text/html": [
       "<div>\n",
       "<style scoped>\n",
       "    .dataframe tbody tr th:only-of-type {\n",
       "        vertical-align: middle;\n",
       "    }\n",
       "\n",
       "    .dataframe tbody tr th {\n",
       "        vertical-align: top;\n",
       "    }\n",
       "\n",
       "    .dataframe thead th {\n",
       "        text-align: right;\n",
       "    }\n",
       "</style>\n",
       "<table border=\"1\" class=\"dataframe\">\n",
       "  <thead>\n",
       "    <tr style=\"text-align: right;\">\n",
       "      <th></th>\n",
       "      <th>temperatura</th>\n",
       "      <th>categoria</th>\n",
       "    </tr>\n",
       "  </thead>\n",
       "  <tbody>\n",
       "    <tr>\n",
       "      <th>0</th>\n",
       "      <td>35</td>\n",
       "      <td>caluroso</td>\n",
       "    </tr>\n",
       "    <tr>\n",
       "      <th>1</th>\n",
       "      <td>15</td>\n",
       "      <td>frío</td>\n",
       "    </tr>\n",
       "    <tr>\n",
       "      <th>2</th>\n",
       "      <td>25</td>\n",
       "      <td>templado</td>\n",
       "    </tr>\n",
       "    <tr>\n",
       "      <th>3</th>\n",
       "      <td>23</td>\n",
       "      <td>templado</td>\n",
       "    </tr>\n",
       "    <tr>\n",
       "      <th>4</th>\n",
       "      <td>28</td>\n",
       "      <td>templado</td>\n",
       "    </tr>\n",
       "    <tr>\n",
       "      <th>...</th>\n",
       "      <td>...</td>\n",
       "      <td>...</td>\n",
       "    </tr>\n",
       "    <tr>\n",
       "      <th>95</th>\n",
       "      <td>32</td>\n",
       "      <td>caluroso</td>\n",
       "    </tr>\n",
       "    <tr>\n",
       "      <th>96</th>\n",
       "      <td>16</td>\n",
       "      <td>frío</td>\n",
       "    </tr>\n",
       "    <tr>\n",
       "      <th>97</th>\n",
       "      <td>32</td>\n",
       "      <td>caluroso</td>\n",
       "    </tr>\n",
       "    <tr>\n",
       "      <th>98</th>\n",
       "      <td>36</td>\n",
       "      <td>caluroso</td>\n",
       "    </tr>\n",
       "    <tr>\n",
       "      <th>99</th>\n",
       "      <td>28</td>\n",
       "      <td>templado</td>\n",
       "    </tr>\n",
       "  </tbody>\n",
       "</table>\n",
       "<p>100 rows × 2 columns</p>\n",
       "</div>"
      ],
      "text/plain": [
       "    temperatura categoria\n",
       "0            35  caluroso\n",
       "1            15      frío\n",
       "2            25  templado\n",
       "3            23  templado\n",
       "4            28  templado\n",
       "..          ...       ...\n",
       "95           32  caluroso\n",
       "96           16      frío\n",
       "97           32  caluroso\n",
       "98           36  caluroso\n",
       "99           28  templado\n",
       "\n",
       "[100 rows x 2 columns]"
      ]
     },
     "execution_count": 30,
     "metadata": {},
     "output_type": "execute_result"
    }
   ],
   "source": [
    "temperaturas = np.random.randint(10, 40, 100)\n",
    "df = pd.DataFrame({'temperatura': temperaturas})\n",
    "df['categoria'] = df['temperatura'].apply(lambda x: 'caluroso' if x>30 else 'templado' if x>=20 and x<=30 else 'frío')\n",
    "df"
   ]
  },
  {
   "cell_type": "markdown",
   "metadata": {},
   "source": [
    "Si queremos hacer análisis de los datos, no podemos usar las categorías como tal. Necesitaremos procesarlas."
   ]
  },
  {
   "cell_type": "markdown",
   "metadata": {},
   "source": [
    "# Count Value\n",
    "\n",
    "Permite medir la frecuencia de cada categoría."
   ]
  },
  {
   "cell_type": "code",
   "execution_count": 31,
   "metadata": {},
   "outputs": [
    {
     "data": {
      "text/plain": [
       "categoria\n",
       "templado    45\n",
       "caluroso    30\n",
       "frío        25\n",
       "Name: count, dtype: int64"
      ]
     },
     "execution_count": 31,
     "metadata": {},
     "output_type": "execute_result"
    }
   ],
   "source": [
    "#Con pandas\n",
    "df['categoria'].value_counts()\n"
   ]
  },
  {
   "cell_type": "code",
   "execution_count": 38,
   "metadata": {},
   "outputs": [
    {
     "data": {
      "text/plain": [
       "categoria\n",
       "caluroso    30\n",
       "frío        25\n",
       "templado    45\n",
       "dtype: int64"
      ]
     },
     "execution_count": 38,
     "metadata": {},
     "output_type": "execute_result"
    }
   ],
   "source": [
    "#Otra forma es con grouby\n",
    "count = df.groupby('categoria') #Creamos el objeto groupby\n",
    "count.size() #Contamos los elementos de cada grupo"
   ]
  },
  {
   "cell_type": "markdown",
   "metadata": {},
   "source": [
    "# Dummy variables\n",
    "\n",
    "Convertimos cada categoría en una columna, donde 0 indica que no es la categoría y 1 que sí.\n"
   ]
  },
  {
   "cell_type": "code",
   "execution_count": 36,
   "metadata": {},
   "outputs": [
    {
     "name": "stderr",
     "output_type": "stream",
     "text": [
      "/var/folders/z2/flhcyvts0wx4h743w2gy_yxm0000gn/T/ipykernel_16760/3295046050.py:2: FutureWarning: DataFrame.applymap has been deprecated. Use DataFrame.map instead.\n",
      "  dummy = dummy.applymap(lambda x: 1 if x == True else 0) #Esto convierte las variables True en 1 y las False en 0\n"
     ]
    }
   ],
   "source": [
    "dummy = pd.get_dummies(df['categoria']) #Esto primero arroja un dataset con variables False o True\n",
    "dummy = dummy.applymap(lambda x: 1 if x == True else 0) #Esto convierte las variables True en 1 y las False en 0\n",
    "df = pd.concat([df, dummy], axis=1) #Concatenamos el dataset original con el dataset de variables dummy"
   ]
  },
  {
   "cell_type": "code",
   "execution_count": 37,
   "metadata": {},
   "outputs": [
    {
     "data": {
      "text/html": [
       "<div>\n",
       "<style scoped>\n",
       "    .dataframe tbody tr th:only-of-type {\n",
       "        vertical-align: middle;\n",
       "    }\n",
       "\n",
       "    .dataframe tbody tr th {\n",
       "        vertical-align: top;\n",
       "    }\n",
       "\n",
       "    .dataframe thead th {\n",
       "        text-align: right;\n",
       "    }\n",
       "</style>\n",
       "<table border=\"1\" class=\"dataframe\">\n",
       "  <thead>\n",
       "    <tr style=\"text-align: right;\">\n",
       "      <th></th>\n",
       "      <th>temperatura</th>\n",
       "      <th>categoria</th>\n",
       "      <th>caluroso</th>\n",
       "      <th>frío</th>\n",
       "      <th>templado</th>\n",
       "    </tr>\n",
       "  </thead>\n",
       "  <tbody>\n",
       "    <tr>\n",
       "      <th>0</th>\n",
       "      <td>35</td>\n",
       "      <td>caluroso</td>\n",
       "      <td>1</td>\n",
       "      <td>0</td>\n",
       "      <td>0</td>\n",
       "    </tr>\n",
       "    <tr>\n",
       "      <th>1</th>\n",
       "      <td>15</td>\n",
       "      <td>frío</td>\n",
       "      <td>0</td>\n",
       "      <td>1</td>\n",
       "      <td>0</td>\n",
       "    </tr>\n",
       "    <tr>\n",
       "      <th>2</th>\n",
       "      <td>25</td>\n",
       "      <td>templado</td>\n",
       "      <td>0</td>\n",
       "      <td>0</td>\n",
       "      <td>1</td>\n",
       "    </tr>\n",
       "    <tr>\n",
       "      <th>3</th>\n",
       "      <td>23</td>\n",
       "      <td>templado</td>\n",
       "      <td>0</td>\n",
       "      <td>0</td>\n",
       "      <td>1</td>\n",
       "    </tr>\n",
       "    <tr>\n",
       "      <th>4</th>\n",
       "      <td>28</td>\n",
       "      <td>templado</td>\n",
       "      <td>0</td>\n",
       "      <td>0</td>\n",
       "      <td>1</td>\n",
       "    </tr>\n",
       "    <tr>\n",
       "      <th>...</th>\n",
       "      <td>...</td>\n",
       "      <td>...</td>\n",
       "      <td>...</td>\n",
       "      <td>...</td>\n",
       "      <td>...</td>\n",
       "    </tr>\n",
       "    <tr>\n",
       "      <th>95</th>\n",
       "      <td>32</td>\n",
       "      <td>caluroso</td>\n",
       "      <td>1</td>\n",
       "      <td>0</td>\n",
       "      <td>0</td>\n",
       "    </tr>\n",
       "    <tr>\n",
       "      <th>96</th>\n",
       "      <td>16</td>\n",
       "      <td>frío</td>\n",
       "      <td>0</td>\n",
       "      <td>1</td>\n",
       "      <td>0</td>\n",
       "    </tr>\n",
       "    <tr>\n",
       "      <th>97</th>\n",
       "      <td>32</td>\n",
       "      <td>caluroso</td>\n",
       "      <td>1</td>\n",
       "      <td>0</td>\n",
       "      <td>0</td>\n",
       "    </tr>\n",
       "    <tr>\n",
       "      <th>98</th>\n",
       "      <td>36</td>\n",
       "      <td>caluroso</td>\n",
       "      <td>1</td>\n",
       "      <td>0</td>\n",
       "      <td>0</td>\n",
       "    </tr>\n",
       "    <tr>\n",
       "      <th>99</th>\n",
       "      <td>28</td>\n",
       "      <td>templado</td>\n",
       "      <td>0</td>\n",
       "      <td>0</td>\n",
       "      <td>1</td>\n",
       "    </tr>\n",
       "  </tbody>\n",
       "</table>\n",
       "<p>100 rows × 5 columns</p>\n",
       "</div>"
      ],
      "text/plain": [
       "    temperatura categoria  caluroso  frío  templado\n",
       "0            35  caluroso         1     0         0\n",
       "1            15      frío         0     1         0\n",
       "2            25  templado         0     0         1\n",
       "3            23  templado         0     0         1\n",
       "4            28  templado         0     0         1\n",
       "..          ...       ...       ...   ...       ...\n",
       "95           32  caluroso         1     0         0\n",
       "96           16      frío         0     1         0\n",
       "97           32  caluroso         1     0         0\n",
       "98           36  caluroso         1     0         0\n",
       "99           28  templado         0     0         1\n",
       "\n",
       "[100 rows x 5 columns]"
      ]
     },
     "execution_count": 37,
     "metadata": {},
     "output_type": "execute_result"
    }
   ],
   "source": [
    "df"
   ]
  }
 ],
 "metadata": {
  "kernelspec": {
   "display_name": "Python 3 (ipykernel)",
   "language": "python",
   "name": "python3"
  },
  "language_info": {
   "codemirror_mode": {
    "name": "ipython",
    "version": 3
   },
   "file_extension": ".py",
   "mimetype": "text/x-python",
   "name": "python",
   "nbconvert_exporter": "python",
   "pygments_lexer": "ipython3",
   "version": "3.12.4"
  }
 },
 "nbformat": 4,
 "nbformat_minor": 4
}
