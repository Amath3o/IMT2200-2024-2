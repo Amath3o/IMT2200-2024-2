{
 "cells": [
  {
   "cell_type": "markdown",
   "id": "dc695dd9",
   "metadata": {},
   "source": [
    "# <img style=\"float: left; padding-right: 20px; width: 200px\" src=\"https://raw.githubusercontent.com/raxlab/imt2200-data/main/media/logo.jpg\">  IMT 2200 - Introducción a Ciencia de Datos\n",
    "**Pontificia Universidad Católica de Chile**<br>\n",
    "**Instituto de Ingeniería Matemática y Computacional**<br>\n",
    "**Semestre 2024-S2**<br>\n",
    "**Profesor:** Rodrigo A. Carrasco <br>\n",
    "---"
   ]
  },
  {
   "cell_type": "markdown",
   "id": "6c6c9ee9",
   "metadata": {},
   "source": [
    "# <h1><center>Tarea 01: Herramientas Computacionales para Ciencia de Datos </center></h1>\n",
    "\n",
    "## Instrucciones\n",
    "\n",
    "- Fecha de publicación: martes 13 de agosto de 2024.\n",
    "\n",
    "- Fecha de límite de entrega: martes 3 de septiembre de 2024, a las 23:59.\n",
    "\n",
    "- Vía de entrega: Módulo de Tareas en Canvas.\n",
    "\n",
    "- Esta Tarea debe desarrollarse de manera totalmente *individual*, de acuerdo a lo establecido en la sección de Integridad Académica en el programa del curso.\n",
    "\n",
    "- La Tarea debe ser desarrollada en lenguaje de programación Python y la entrega en formato Jupyter Notebook.\n",
    "\n",
    "- El desarrollo del Notebook debe ser claro y ordenado, incluyendo anotaciones (markdown) y comentarios que permitan seguir fácilmente el código y los pasos implementados a los correctores, y siguiendo buenas prácticas de programación. La presentación y claridad del notebook y código forman parte de la evaluación de la tarea.\n",
    "\n",
    "- Se sugiere hacer consultas y comentarios sobre la Tarea a traves del canal de Tareas en el Foro del curso en Canvas.\n",
    "\n",
    "\n",
    "## 1. Objetivos de la Tarea\n",
    "\n",
    "### 1.1 Objetivo educacional\n",
    "\n",
    "Esta Tarea tiene como objetivo que los estudiantes desarrollen la capacidade de manejar algunas de las librerías centrales para el desarrollo de Ciencia de Datos, con foco en la lectura y exploración de datos. \n",
    "\n",
    "En los ejercicios a desarrollar a continuación, usted deberá leer, inspeccionar, manipular y graficar conjuntos de datos en distintos formatos, de manera de responder las preguntas de cada parte de la Tarea.\n",
    "\n",
    "### 1.2 Pregunta de ciencia de datos\n",
    "\n",
    "Como comentamos en clases, el objetivo final de las herramientas en ciencia de datos es poder entender mejor un fenómeno o contestar alguna pregunta relevante. \n",
    "\n",
    "En este caso, queremos entender mejor cómo ha cambiado el comportamiento de la gente respecto de sus viajes antes y después de la pandemia en la Ciudad de Nueva York. En esa ciudad, entre el 17 de marzo de 2020 y el 14 de mayo del mismo año se implementaron cuarentenas estrictas que limitaron la movilidad de las personas. Queremos ver el impacto que tuvo en el uso de algunos sistemas de transporte y cómo se ha mantenido en el tiempo."
   ]
  },
  {
   "cell_type": "markdown",
   "id": "2fc7c8be",
   "metadata": {},
   "source": [
    "## 2. Datos\n",
    "\n",
    "Para esta tarea estaremos aprovechando el repositorio abierto de datos de la ciudad de Nueva York. En particular, usaremos la base de datos de viajes en los Taxis Amarillos en la ciudad (Yellow Taxi Trip Records), creada por la Comisión de Taxis y Limosinas de NYC: https://www.nyc.gov/site/tlc/about/tlc-trip-record-data.page\n",
    "\n",
    "### 2.1 Nueva librería\n",
    "\n",
    "Los datos de esta base, están en formato PARQUET. El formato PARQUET, que es open-source desarrollado por Apache, es un formato eficiente para almacenar y leer bases de datos de gran tamaño. Para poder leer este formato desde Python, deberán instalar una nueva librería llamada ' `pyarrow` '. Para instalarla use el comando:\n",
    "\n",
    "<code>> conda install pyarrow</code>\n",
    "\n",
    "Si desea usar sólo Pandas también se pueden leer estos archivos usando la función ' `pd.read_parquet(filename)` '.\n",
    "\n",
    "### 2.2 Descargar datos\n",
    "\n",
    "Para esta tarea deberá descargar todos los meses de datos de 2019, 2020 y 2023 de los viajes en Taxi Amarillo (Yellow Taxi Trip Records). Esto resultará en 36 archivos PARQUET, uno por cada mes de esos tres años de datos.\n",
    "\n",
    "### 2.3 Librerias a usar\n",
    "\n",
    "Para esta tarea recomendamos al menos usar las librerías indicadas en la siguiente celda del Notebook. Puede agregar otras si lo estima conveniente para responder de mejor forma las preguntas de la Tarea."
   ]
  },
  {
   "cell_type": "code",
   "execution_count": null,
   "id": "cdbb598f",
   "metadata": {},
   "outputs": [],
   "source": [
    "# Importación de librerías: importe las siguientes librerías, usando alias comunes\n",
    "import numpy as np\n",
    "import pandas as pd\n",
    "import geopandas as gpd\n",
    "import matplotlib.pyplot as plt\n",
    "import pyarrow.parquet as pq\n",
    "import pyarrow as pa"
   ]
  },
  {
   "cell_type": "markdown",
   "id": "dd824ef0",
   "metadata": {},
   "source": [
    "## 3. Desarrollo\n",
    "\n",
    "Para cada una de las siguientes preguntas o actividades incluya una o más celdas de código y markdown con las respuestas o comentarios necesarios para contestar la pregunta o lograr la actividad. Agregue sus celdas a continuación de cada pregunta para que el Notebook quede ordenado.\n",
    "\n",
    "En el caso de gráficos, figuras o tablas, asegúrese que todas tengan título, etiquetas en los ejes o haya claridad de los contenidos."
   ]
  },
  {
   "cell_type": "markdown",
   "id": "8353c837",
   "metadata": {},
   "source": [
    "### 3.1 Base de datos simplificada (1 punto)\n",
    "\n",
    "Queremos analizar cómo cambia la cantidad de pasajeros diarios que hay en los diferentes años. Como los datos están parcelados por cada mes en el repositorio, armaremos primero una base de datos única con todos los datos que bajó. Dado que son más de 2.0 Gb de archivos, sería tremendamente ineficiente armar una única base con **todos** los datos, cuando sólo estamos interesados en la cantidad diaria, así que le recomendamos hacer una transformación de cada archivo, para resumir los datos y obtener la cantidad de viajes mensual.\n",
    "\n",
    "Usando la estragia que usted prefiera, cargue los datos descargados en el punto 2.2 y genere un único DataFrame que tenga el total de viajes de cada día para cada año de interés (uno para 2019, uno para 2020 y uno para 2023). Le recomendamos usar '`.dt.day_of_year`' para agrupar los datos de un mismo día (según la columna de fecha de toma del pasajero '`tpep_pickup_datetime`') sumar la cantidad de pasajeros de cada día y luego usar '`.add()`' para concatenar cada DataFrame mensual.\n",
    "\n",
    "Posteriormente, almacene cada DataFrame en un único archivo. Puede ser un archivo de tipo \"pickle\" o tipo \"parquet\". Si lo almacena en un tipo \"pickle\", puede encontrar información de este tipo de archivos en el siguiente enlace: https://pandas.pydata.org/docs/reference/api/pandas.DataFrame.to_pickle.html. Si decide almacenarlo en formato \"parquet\", use la librería '`pyarrow`' para hacerlo, con las funciones '`pa.Table.from_pandas()`' y '`pq.write_table()`'.\n",
    "\n",
    "Conteste las siguientes preguntas:\n",
    "- ¿Cuanto espacio en disco usan todos los archivos separados que bajó para 2019, 2020 y 2023?\n",
    "- ¿Cuánto espacio en disco usa cada uno de los tres archivos resumen creados con los datos agrupados?"
   ]
  },
  {
   "cell_type": "code",
   "execution_count": null,
   "id": "9cab2874",
   "metadata": {},
   "outputs": [],
   "source": []
  },
  {
   "cell_type": "markdown",
   "id": "637e6d80",
   "metadata": {},
   "source": [
    "respuesta:"
   ]
  },
  {
   "cell_type": "markdown",
   "id": "aa08b4b3",
   "metadata": {},
   "source": [
    "### 3.2 Viajes anuales (2 puntos)\n",
    "\n",
    "Inspeccionando los datos de las bases bajadas conteste las siguientes preguntas:\n",
    "\n",
    "**a)** ¿Cuantos pasajeros viajaron en total en 2019, 2020 y 2023? (1 punto)\n",
    "\n",
    "**b)** ¿En qué porcentaje disminuyeron los pasajeros en 2020 con respecto a 2019? (0.5 puntos)\n",
    "\n",
    "**c)** ¿En qué porcentaje respecto del total de pasajeros de 2019 viajaron en 2023? (0.5 puntos)"
   ]
  },
  {
   "cell_type": "code",
   "execution_count": null,
   "id": "f9bf5e98",
   "metadata": {},
   "outputs": [],
   "source": []
  },
  {
   "cell_type": "markdown",
   "id": "e55e4d7a",
   "metadata": {},
   "source": [
    "### 3.3 Analisis de los viajes (1 punto)\n",
    "\n",
    "**a)** Elija un mes y un año. ¿Cuál es el viaje más largo y más corto realizado ese mes? ¿Son razonables esos valores? (0.5 puntos)"
   ]
  },
  {
   "cell_type": "code",
   "execution_count": null,
   "id": "96b2df47",
   "metadata": {},
   "outputs": [],
   "source": []
  },
  {
   "cell_type": "markdown",
   "id": "c1c3b172",
   "metadata": {},
   "source": [
    "respuesta:"
   ]
  },
  {
   "cell_type": "markdown",
   "id": "954d2860",
   "metadata": {},
   "source": [
    "**b)** Limpie los datos del mes seleccionado para dejar sólo aquellos que tienen alguna distancia recorrida y al menos un pasajero. Con esta base filtrada, ¿Cuál es el viaje más largo y más corto realizado ese mes? ¿Son razonables esos nuevos valores? (0.5 puntos)"
   ]
  },
  {
   "cell_type": "code",
   "execution_count": null,
   "id": "51ee7bab",
   "metadata": {},
   "outputs": [],
   "source": []
  },
  {
   "cell_type": "markdown",
   "id": "e7ceeb05",
   "metadata": {},
   "source": [
    "### 3.4 Análisis de pasajeros (3 puntos)\n",
    "\n",
    "El lugar más importante en términos de tomar y dejar pasajeros en NYC es el aeropuerto internacional JFK. Este se encuentra la zona con el ID 132 como vimos en clases.\n",
    "\n",
    "<img style=\"width: 400px\" src=\"https://www.nyc.gov/assets/tlc/images/content/pages/about/taxi_zone_map_queens.jpg\">\n",
    "\n",
    "\n",
    "**a)** ¿Cuál es el total de pasajeros tomados en la zona 132 en abril de 2019? (0.5 puntos)"
   ]
  },
  {
   "cell_type": "code",
   "execution_count": null,
   "id": "360aaa93",
   "metadata": {},
   "outputs": [],
   "source": []
  },
  {
   "cell_type": "markdown",
   "id": "f56870cd",
   "metadata": {},
   "source": [
    "**b)** ¿Cuál es el total de pasajeros tomados en la zona 132 en abril de 2020? (0.5 puntos)"
   ]
  },
  {
   "cell_type": "code",
   "execution_count": null,
   "id": "9617c152",
   "metadata": {},
   "outputs": [],
   "source": []
  },
  {
   "cell_type": "markdown",
   "id": "988db03f",
   "metadata": {},
   "source": [
    "**c)** Genere un DataFrame que tenga los pasajeros totales tomados en la zona 132 por día para 2019, otro para 2020 y un último para 2023. Asegúrese que las fechas estén en el rango correcto para cada año pues algunos de los archivos tienen errores de fechas. (0.5 puntos)"
   ]
  },
  {
   "cell_type": "code",
   "execution_count": null,
   "id": "cc9327a7",
   "metadata": {},
   "outputs": [],
   "source": []
  },
  {
   "cell_type": "markdown",
   "id": "e42972df",
   "metadata": {},
   "source": [
    "**d)** Grafique las tres series en el mismo gráfico para poder comparar las fechas entre un año y otro. Preocúpese de ponerle etiquetas al gráfico para identificar cada serie y una leyenda donde se muestre cada una. (0.5 puntos)"
   ]
  },
  {
   "cell_type": "code",
   "execution_count": null,
   "id": "59d2b72e",
   "metadata": {},
   "outputs": [],
   "source": []
  },
  {
   "cell_type": "markdown",
   "id": "6cf2674c",
   "metadata": {},
   "source": [
    "**e)** Comente sobre los gráficos anteriores. ¿Tuvieron éxito las cuarentenas en NY? ¿Se ha recuperado el número de pasajeros en 2023 respecto de los que viajaban en 2019?. (1 punto)"
   ]
  },
  {
   "cell_type": "code",
   "execution_count": null,
   "id": "2e088cf1",
   "metadata": {},
   "outputs": [],
   "source": []
  },
  {
   "cell_type": "markdown",
   "id": "25cb437a",
   "metadata": {},
   "source": [
    "### 3.5 Análisis de zonas (3 puntos)\n",
    "\n",
    "Usando los datos de ambos años conteste las siguientes preguntas.\n",
    "\n",
    "**a)** ¿Cuál es la zona que tuvo la mayor reducción de pasajeros diarios entre abril de 2019 y abril de 2020? (0.3 puntos)"
   ]
  },
  {
   "cell_type": "code",
   "execution_count": null,
   "id": "f0610a33",
   "metadata": {},
   "outputs": [],
   "source": []
  },
  {
   "cell_type": "markdown",
   "id": "3818b338",
   "metadata": {},
   "source": [
    "**b)** ¿Cuál es la zona que tuvo la menor reducción de pasajeros diarios entre abril de 2019 y abril de 2020? (0.2 puntos)"
   ]
  },
  {
   "cell_type": "code",
   "execution_count": null,
   "id": "e4d94ecf",
   "metadata": {},
   "outputs": [],
   "source": []
  },
  {
   "cell_type": "markdown",
   "id": "f676af94",
   "metadata": {},
   "source": [
    "**c)** ¿Cuál es la zona que en 2023 está más cerca de la cantidad que tenía en 2019? (0.5 puntos)"
   ]
  },
  {
   "cell_type": "code",
   "execution_count": null,
   "id": "0428d0d2",
   "metadata": {},
   "outputs": [],
   "source": []
  },
  {
   "cell_type": "markdown",
   "id": "5c015bd1",
   "metadata": {},
   "source": [
    "**d)** En la página de NYC, descargue el archivo \"Taxi Zone Shapefile\" que contiene el mapa con las zonas de NYC. Genere una imagen con el mapa de NYC en que las zonas tengan un color dependiendo de la reducción de pasajeros entre abril de 2019 y 2020. (2.0 puntos) "
   ]
  },
  {
   "cell_type": "code",
   "execution_count": null,
   "id": "c221e815",
   "metadata": {},
   "outputs": [],
   "source": []
  }
 ],
 "metadata": {
  "kernelspec": {
   "display_name": "Python 3 (ipykernel)",
   "language": "python",
   "name": "python3"
  },
  "language_info": {
   "codemirror_mode": {
    "name": "ipython",
    "version": 3
   },
   "file_extension": ".py",
   "mimetype": "text/x-python",
   "name": "python",
   "nbconvert_exporter": "python",
   "pygments_lexer": "ipython3",
   "version": "3.11.5"
  }
 },
 "nbformat": 4,
 "nbformat_minor": 5
}
