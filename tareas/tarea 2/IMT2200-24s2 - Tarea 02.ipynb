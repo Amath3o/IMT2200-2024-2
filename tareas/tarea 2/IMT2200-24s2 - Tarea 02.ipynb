{
 "cells": [
  {
   "cell_type": "markdown",
   "id": "dc695dd9",
   "metadata": {},
   "source": [
    "# <img style=\"float: left; padding-right: 20px; width: 200px\" src=\"https://raw.githubusercontent.com/raxlab/imt2200-data/main/media/logo.jpg\">  IMT 2200 - Introducción a Ciencia de Datos\n",
    "**Pontificia Universidad Católica de Chile**<br>\n",
    "**Instituto de Ingeniería Matemática y Computacional**<br>\n",
    "**Semestre 2024-S2**<br>\n",
    "**Profesor:** Rodrigo A. Carrasco <br>\n",
    "---"
   ]
  },
  {
   "cell_type": "markdown",
   "id": "6c6c9ee9",
   "metadata": {},
   "source": [
    "# <h1><center>Tarea 02: Extracción y Transformación de Datos </center></h1>\n",
    "\n",
    "## Instrucciones\n",
    "\n",
    "- Fecha de publicación: martes 10 de septiembre de 2024.\n",
    "\n",
    "- Fecha de límite de entrega: martes 1 de octubre de 2024, a las 23:59.\n",
    "\n",
    "- Vía de entrega: En el módulo de tareas en Canvas, en el ítem 'Tarea 2'.\n",
    "\n",
    "- Esta Tarea debe desarrollarse de manera totalmente *individual*, de acuerdo a lo establecido en la sección de Integridad Académica en el programa del curso.\n",
    "\n",
    "- La Tarea debe ser desarrollada en lenguaje de programación Python y la entrega en formato Jupyter Notebook.\n",
    "\n",
    "- El desarrollo del Notebook debe ser claro y ordenado, incluyendo anotaciones (markdown) y comentarios que permitan seguir fácilmente el código y los pasos implementados a los correctores, y siguiendo buenas prácticas de programación. La presentación y claridad del notebook y código forman parte de la evaluación de la tarea.\n",
    "\n",
    "- Se sugiere hacer consultas y comentarios sobre la Tarea a traves del canal de Tareas en el Foro del curso en Canvas.\n",
    "\n",
    "\n",
    "## 1. Objetivos de la Tarea\n",
    "\n",
    "### 1.1 Objetivo educacional\n",
    "\n",
    "Esta Tarea tiene como objetivo que los estudiantes desarrollen la capacidad de manejar algunas de las librerías centrales para el desarrollo de Ciencia de Datos, con foco en la extracción de datos principalmente, con algo de transformación también. \n",
    "\n",
    "En los ejercicios a desarrollar a continuación, usted deberá extraer y transformar datos en distintos formatos, de manera de responder las preguntas de cada parte de la Tarea.\n",
    "\n",
    "\n",
    "### 1.2 Pregunta de ciencia de datos\n",
    "\n",
    "Como comentamos en clases, el objetivo final de las herramientas en ciencia de datos es poder entender mejor un fenómeno o contestar alguna pregunta relevante. En este caso, queremos saber cuáles son las películas más importantes de habla hispana, sus ingresos a nivel mundial y de qué país proceden."
   ]
  },
  {
   "cell_type": "markdown",
   "id": "2fc7c8be",
   "metadata": {},
   "source": [
    "## 2. Datos\n",
    "\n",
    "Para esta tarea estaremos aprovechando la base de datos de `The Movie Data Base TMDB` que está disponible acá: https://www.themoviedb.org/\n",
    "\n",
    "### 2.1 Acceso a la API\n",
    "\n",
    "La cominucación con TMDB es vía API que requiere una clave única para cada uno/a de ustedes. Para conseguirse su API Key deben crearse una cuenta acá: https://www.themoviedb.org/account/signup y, en la sección de API, crear una nueva aplicación que les dará una API Key única para ustedes.\n",
    "\n",
    "\n",
    "### 2.2 Documentación\n",
    "\n",
    "Para poder usar la API, deben revisar la documentación de TMDB que explica cómo se usa cada uno de los elementos. Esto les puede tomar tiempo, así que no dejen para último momento esta tarea."
   ]
  },
  {
   "cell_type": "code",
   "execution_count": null,
   "id": "cdbb598f",
   "metadata": {},
   "outputs": [],
   "source": [
    "# Importación de librerías: importe las siguientes librerías, usando alias comunes\n",
    "import pandas as pd\n",
    "import requests\n",
    "import numpy as np\n",
    "import matplotlib.pyplot as plt"
   ]
  },
  {
   "cell_type": "markdown",
   "id": "dd824ef0",
   "metadata": {},
   "source": [
    "## 3. Desarrollo\n",
    "\n",
    "Ahora trabajaremos en crear un gráfico con los ingresos de las películas más populares que fueron estrenadas ultimamente."
   ]
  },
  {
   "cell_type": "markdown",
   "id": "8353c837",
   "metadata": {},
   "source": [
    "### 3.1 Base de datos de películas (2 puntos)\n",
    "\n",
    "Estudie cómo se puede acceder a las películar más populares usando la API y filtre su solicitud limitando a películas en el idioma español ('original_language') que fueron estrenadas entre los años 2020 a 2023 inclusive.\n",
    "\n",
    "Arme un DataFrame que contenga las 20 películas más populares y revise los campos de cada columna para identificar el tipo de dato que hay en cada una de ellas. \n",
    "\n",
    "Conteste la siguiente pregunta:\n",
    "- ¿Están todos los datos en el formato correcto?\n",
    "\n",
    "Si alguna de las columnas está en formato incorrecto, preocúpese de corregirla."
   ]
  },
  {
   "cell_type": "code",
   "execution_count": null,
   "id": "4e5a527c",
   "metadata": {},
   "outputs": [],
   "source": []
  },
  {
   "cell_type": "code",
   "execution_count": null,
   "id": "30d5687b",
   "metadata": {},
   "outputs": [],
   "source": []
  },
  {
   "cell_type": "code",
   "execution_count": null,
   "id": "2ed9b79e",
   "metadata": {},
   "outputs": [],
   "source": []
  },
  {
   "cell_type": "code",
   "execution_count": null,
   "id": "bbdeafb6",
   "metadata": {},
   "outputs": [],
   "source": []
  },
  {
   "cell_type": "markdown",
   "id": "e55e4d7a",
   "metadata": {},
   "source": [
    "### 3.2 Primer analisis (0.5 punto)\n",
    "\n",
    "La columna `vote_average` tiene la evaluación de la película por quienes la han visto. Usando esa información conteste la siguiente pregunta:\n",
    "- ¿Cuál fue la película más popular en idioma español que fue estrenada entre 2020 y 2023?"
   ]
  },
  {
   "cell_type": "code",
   "execution_count": null,
   "id": "96b2df47",
   "metadata": {},
   "outputs": [],
   "source": []
  },
  {
   "cell_type": "markdown",
   "id": "e7ceeb05",
   "metadata": {},
   "source": [
    "### 3.3 Información adicional de una película (1.5 puntos)\n",
    "\n",
    "La base de datos que ha armado tiene alguna información relevante de las películas, pero falta otra, como por ejemplo, las utilidades logradas por la película o su duración. Ahora bien, usando otra URL podemos también pedir todos los detalles que tienen de cada película, usando su `id` como identificador.\n",
    "\n",
    "Revise la documentación para aprender cómo consegir la información de una película en particular. En la siguiente celda desarrolle un código que nos muestre los datos de una de las películas de la tabla desarrollada en la sección anterior, a su elección. No necesita poner la información en algún formato especial. El JSON crudo es suficiente."
   ]
  },
  {
   "cell_type": "code",
   "execution_count": null,
   "id": "360aaa93",
   "metadata": {},
   "outputs": [],
   "source": []
  },
  {
   "cell_type": "code",
   "execution_count": null,
   "id": "20ef6ff9",
   "metadata": {},
   "outputs": [],
   "source": []
  },
  {
   "cell_type": "code",
   "execution_count": null,
   "id": "9617c152",
   "metadata": {},
   "outputs": [],
   "source": []
  },
  {
   "cell_type": "markdown",
   "id": "988db03f",
   "metadata": {},
   "source": [
    "### 3.4 Complementando los datos (1.5 puntos)\n",
    "\n",
    "Con lo que aprendió en la pregunta anterior, extienda el DataFrame creado en la sección 3.2 para incorporar la duración de la película (su `runtime`), el presupuesto (su `budget`), las ganancias (su `revenue`) y su país de origen (su `origin_country`).\n"
   ]
  },
  {
   "cell_type": "code",
   "execution_count": null,
   "id": "cc9327a7",
   "metadata": {},
   "outputs": [],
   "source": []
  },
  {
   "cell_type": "code",
   "execution_count": null,
   "id": "acd09968",
   "metadata": {},
   "outputs": [],
   "source": []
  },
  {
   "cell_type": "code",
   "execution_count": null,
   "id": "430fc250",
   "metadata": {},
   "outputs": [],
   "source": []
  },
  {
   "cell_type": "markdown",
   "id": "36ac0040",
   "metadata": {},
   "source": [
    "#### Seamos críticos con la información de la nueva tabla (0.5 puntos)\n",
    "\n",
    "Analice la nueva tabla que ha creado. ¿Hacen sentido todos los datos que ahí aparecen? Si encuentra que algo no hace sentido, explique por qué no hace sentido y por qué cree que pasó. Corrija la tabla para que no tenga esos problemas, indicando qué y por qué hizo el cambio que decidió hacer."
   ]
  },
  {
   "cell_type": "markdown",
   "id": "533488c7",
   "metadata": {},
   "source": [
    "**Respuesta:** "
   ]
  },
  {
   "cell_type": "markdown",
   "id": "e42972df",
   "metadata": {},
   "source": [
    "### 3.5 Analizando la nueva tabla (2 puntos)\n",
    "\n",
    "En su nueva tabla tiene un listado de los países de donde proviene cada una de las películas mejor evaluadas en idioma original español. Haga un gráfico que muestre cuántas películas vienen de qué país y comente qué país es el que tiene más películas en esta categoría. No olvide poner nombre a su gráfico y a los ejes."
   ]
  },
  {
   "cell_type": "code",
   "execution_count": null,
   "id": "ce09e9eb",
   "metadata": {},
   "outputs": [],
   "source": []
  },
  {
   "cell_type": "code",
   "execution_count": null,
   "id": "dfd49abe",
   "metadata": {},
   "outputs": [],
   "source": []
  },
  {
   "cell_type": "code",
   "execution_count": null,
   "id": "93378355",
   "metadata": {},
   "outputs": [],
   "source": []
  }
 ],
 "metadata": {
  "kernelspec": {
   "display_name": "Python 3 (ipykernel)",
   "language": "python",
   "name": "python3"
  },
  "language_info": {
   "codemirror_mode": {
    "name": "ipython",
    "version": 3
   },
   "file_extension": ".py",
   "mimetype": "text/x-python",
   "name": "python",
   "nbconvert_exporter": "python",
   "pygments_lexer": "ipython3",
   "version": "3.11.4"
  }
 },
 "nbformat": 4,
 "nbformat_minor": 5
}
