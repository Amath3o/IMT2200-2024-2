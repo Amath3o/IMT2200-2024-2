{
 "cells": [
  {
   "cell_type": "markdown",
   "id": "dc695dd9",
   "metadata": {},
   "source": [
    "# <img style=\"float: left; padding-right: 20px; width: 200px\" src=\"https://raw.githubusercontent.com/raxlab/imt2200-data/main/media/logo.jpg\">  IMT 2200 - Introducción a Ciencia de Datos\n",
    "**Pontificia Universidad Católica de Chile**<br>\n",
    "**Instituto de Ingeniería Matemática y Computacional**<br>\n",
    "**Semestre 2024-S2**<br>\n",
    "**Profesor:** Rodrigo A. Carrasco <br>\n"
   ]
  },
  {
   "attachments": {
    "image.png": {
     "image/png": "[encoded data removed]"
    }
   },
   "cell_type": "markdown",
   "id": "6c6c9ee9",
   "metadata": {},
   "source": [
    "![image.png](attachment:image.png)\n",
    "# <h1><center>Tarea 03: EDA - Exploración de Datos</center></h1>\n",
    "\n",
    "## Instrucciones\n",
    "\n",
    "- Fecha de publicación: día 17 de octubre de 2024.\n",
    "\n",
    "- Fecha de límite de entrega: día 7 de noviembre de 2024, a las 23:59.\n",
    "\n",
    "- Vía de entrega: En el módulo de tareas en Canvas, en el ítem 'Tarea 3'.\n",
    "\n",
    "- Esta Tarea debe desarrollarse de manera totalmente *individual*, de acuerdo a lo establecido en la sección de Integridad Académica en el programa del curso.\n",
    "\n",
    "- La Tarea debe ser desarrollada en lenguaje de programación Python y la entrega en formato Jupyter Notebook.\n",
    "\n",
    "- El desarrollo del Notebook debe ser claro y ordenado, incluyendo anotaciones (markdown) y comentarios que permitan seguir fácilmente el código y los pasos implementados a los correctores, y siguiendo buenas prácticas de programación. La presentación y claridad del notebook y código forman parte de la evaluación de la tarea.\n",
    "\n",
    "- Se sugiere hacer consultas y comentarios sobre la Tarea a traves del canal de Tareas en el Foro del curso en Canvas.\n",
    "\n",
    "\n",
    "## 1. Objetivos de la Tarea\n",
    "\n",
    "### 1.1 Objetivo educacional\n",
    "\n",
    "Esta Tarea tiene como objetivo que los estudiantes desarrollen la capacidad de manejar algunas de las librerías centrales para el desarrollo de Ciencia de Datos, con foco en la exploración de datos (EDA).\n",
    "\n",
    "En los ejercicios a desarrollar a continuación, usted deberá extraer y explorar datos en distintos formatos, de manera de responder las preguntas de cada parte de la Tarea.\n",
    "\n",
    "### 1.2 Pregunta de ciencia de datos\n",
    "\n",
    "Esta tarea tiene como objetivo crear y realizar un análisis descriptivo de una base de datos para el estudio de factores determinantes en el rendimiento de las pruebas de admisión a la educación superior en Chile. En particular, se busca analizar la relación entre el rendimiento en las pruebas y factores determinantes como indicadores socioeconómicos y notas de enseñanza media."
   ]
  },
  {
   "cell_type": "markdown",
   "id": "2fc7c8be",
   "metadata": {},
   "source": [
    "## 2. Datos\n",
    "\n",
    "Para este estudio, se utilizarán datos generados y publicados por el  Centro de Estudios del Ministerio de Educación de Chile: https://datosabiertos.mineduc.cl/pruebas-de-admision-a-la-educacion-superior/ <br>\n",
    "\n",
    "El Centro de Estudios pone a disposición del público en general la plataforma Datos Abiertos para compartir información estadística en materia de educación, que incluye bases de datos de establecimientos educacionales, estudiantes y párvulos, docentes y asistentes de la educación, y sostenedores. Además, se entrega información georreferenciada.\n",
    "\n",
    "Para el análisis planteado, se considerarán las siguientes fuentes de datos:\n",
    "\n",
    "* **[BD1] Paes 2024 - Inscritos Puntajes:** colección que agrupa datos para descagar información de puntajes del 2024.\n",
    "https://datosabiertos.mineduc.cl/wp-content/uploads/2024/05/PAES-2024-Inscritos-Puntajes.rar\n",
    "\n",
    "* **[BD2] Paes 2024 - Socioeconómicos:** datos de indicadores socioeconómicos relativos a la paes 2024.\n",
    "https://datosabiertos.mineduc.cl/wp-content/uploads/2024/05/PAES-2024-Socioeconomicos.rar\n",
    "\n",
    "* **[BD3] Paes 2024 - Matrícula:** datos de sobre las matrículas en cada establecimiento en 2024.\n",
    "https://datosabiertos.mineduc.cl/wp-content/uploads/2024/05/PAES-2024-Matricula.rar\n",
    "\n",
    "* **[BD4]** Cartografía de comunas de Chile: capa vectorial disponible en la biblioteca del congreso nacional, https://www.bcn.cl/obtienearchivo?id=repositorio/10221/10396/2/Comunas.zip"
   ]
  },
  {
   "cell_type": "markdown",
   "id": "dd824ef0",
   "metadata": {},
   "source": [
    "## 3. Limpieza de Datos\n",
    "\n",
    "Nuestro primer objetivo será generar un conjunto de datos limpio y consistente en una única tabla. Para construir esta tabla, haga los pasos a continuación."
   ]
  },
  {
   "cell_type": "markdown",
   "id": "8353c837",
   "metadata": {},
   "source": [
    "### 3.1 Acceso y revisión de bases\n",
    "\n",
    "Para cada conjuntos de datos, descargue los archivos correspondientes al año 2024 y léalos armando un dataframe para cada uno. Consulte la documentación asociada para identificar el contenido de cada uno.\n",
    "\n",
    "Cada una de las bases de datos requiere un procesamiento previo al análisis. Aplique las operaciones necesarias para generar los conjuntos de datos limpios descritos en los siguientes puntos."
   ]
  },
  {
   "cell_type": "code",
   "execution_count": null,
   "id": "4e5a527c",
   "metadata": {},
   "outputs": [],
   "source": [
    "# Algunas librearías útiles\n",
    "import pandas as pd\n",
    "import numpy as np"
   ]
  },
  {
   "cell_type": "code",
   "execution_count": null,
   "id": "fca84880",
   "metadata": {},
   "outputs": [],
   "source": [
    "#importar y abrir BD1"
   ]
  },
  {
   "cell_type": "code",
   "execution_count": null,
   "id": "b8bcbccc",
   "metadata": {},
   "outputs": [],
   "source": [
    "#importar y abrir BD2"
   ]
  },
  {
   "cell_type": "code",
   "execution_count": null,
   "id": "d566a059",
   "metadata": {},
   "outputs": [],
   "source": [
    "#importar y abrir BD3"
   ]
  },
  {
   "cell_type": "markdown",
   "id": "53f8ea92",
   "metadata": {},
   "source": [
    "### 3.2 Calculando extensión y limpieza de datos\n",
    "\n",
    "Calcule el largo de cada uno de estos archivo, en algunas ocasiones podemos obtener valores indeseados como n/a o NaN, por lo que deberá eliminarlas y luego volver a calcular el largo de cada uno de estos archivos.\n",
    "\n",
    "Realice un análisis y resuma que significa la extensión de cada uno de estos archivos. Comenté como afecta la presencia de valores n/a en los datos si es que aplica y como se puede solucionar.\n",
    "\n",
    "¿Que porcentaje de los que rindieron la prueba finalmente se matriculó?"
   ]
  },
  {
   "cell_type": "code",
   "execution_count": null,
   "id": "4e61061a",
   "metadata": {},
   "outputs": [],
   "source": []
  },
  {
   "cell_type": "markdown",
   "id": "4416fcf4",
   "metadata": {},
   "source": [
    "## 4. Cálculo de promedios y análisis descriptivos\n",
    "\n",
    "### 4.1 Cálculo de promedios\n",
    "\n",
    "Con base en las matrículas, deben calcular el PUNTAJE_PONDERADO de INGENIERIA en la UC con sede en SANTIAGO.\n",
    "Además deben indicar el PUNTAJE_PONDERADO de la persona con mayor puntaje de esta carrera y la con menor PUNTAJE_PONDERADO.\n",
    "\n",
    "Ojo: el código de la carrera es 12039"
   ]
  },
  {
   "cell_type": "code",
   "execution_count": null,
   "id": "ab579d14",
   "metadata": {},
   "outputs": [],
   "source": [
    "#Filtrar por carrera\n",
    "\n",
    "#Promedio de puntaje de odonto_unab\n",
    "\n",
    "#Sortear por puntaje\n",
    "\n",
    "#Obtener valor del primero y del último"
   ]
  },
  {
   "cell_type": "markdown",
   "id": "75b532d7",
   "metadata": {},
   "source": [
    "### 4.2 Cálculo de promedios por grupo\n",
    "\n",
    "Con la base de datos de inscritos puntajes BD1 agrupen los resultados por comuna (se sugiere agrupar por NOMBRE_COMUNA_EGRESO) y posteriormente calcular el promedio de CORRECTAS_REG_M1 por comuna.\n",
    "\n",
    "¿Cuál es la comuna con mayor promedio de respuestas correctas en M1? ¿Cuál es la comuna con menor promedio de respuestas correctas en M1? ¿Cuál es el promedio y la mediana de respuestas correctas en M1 a nivel nacional?"
   ]
  },
  {
   "cell_type": "code",
   "execution_count": null,
   "id": "5906daf8",
   "metadata": {},
   "outputs": [],
   "source": [
    "# Agrupar por comuna\n",
    "\n",
    "# Calcular promedio por comuna\n",
    "\n",
    "# Sortear por promedio\n",
    "\n",
    "# Obtener valor del primero, ultimo y promedio y mediana"
   ]
  },
  {
   "cell_type": "markdown",
   "id": "bc12ec46",
   "metadata": {},
   "source": [
    "### 4.3 Cálculo por grupo\n",
    "\n",
    "Siguiendo la misma lógica previa, ¿Cuales son los 10 establecimientos con mejor comprensión lectora? Justifique su respuesta con un análisis acompañado de un código que respalde su postura."
   ]
  },
  {
   "cell_type": "code",
   "execution_count": null,
   "id": "ed5871c5",
   "metadata": {},
   "outputs": [],
   "source": [
    "# Procedimiento"
   ]
  },
  {
   "cell_type": "markdown",
   "id": "e79fc7a2",
   "metadata": {},
   "source": [
    "## 5 Unión de bases de datos\n",
    "\n",
    "### 5.1 Genración de un único DataFrame\n",
    "\n",
    "Como hemos visto, necesitamos de información crucial en cada una de las bases de datos para poder realizar un análisis más profundo. Unan las bases de datos de manera que puedas obtener un dataframe con la siguiente estructura:\n",
    "\n",
    "Deben usar MRUN como llave para unir las bases de datos.\n",
    "\n",
    "Además de BD1 deben recopilar la siguiente información para asociarla a un nuevo esquema:\n",
    "- NOMBRE_UNIDAD_EDUC\n",
    "- NOMBRE_COMUNA_EGRESO\n",
    "- PROMEDIO_NOTAS\n",
    "- PTJE_NEM\n",
    "- PTJE_RANKING\n",
    "- Información asociada a las pruebas de lenguaje y matemáticas\n",
    "\n",
    "De la BD2 deben recopilar la siguiente información para asociarla al esquema:\n",
    "- NOMBRE_COMUNA_DOMICILIO\n",
    "- INGRESO_PERCAPITA_GRUPO_FA\n",
    "\n",
    "De la BD3 deben recopilar la siguiente información para asociarla al esquema:\n",
    "- NOMBRE_CARRERA\n",
    "- SEDE\n",
    "- SIGLA_UNIVERSIDAD\n",
    "- PREFERENCIA\n",
    "- PUNTAJE_PONDERADO\n",
    "- LUGAR_EN_LA_LISTA\n"
   ]
  },
  {
   "cell_type": "code",
   "execution_count": null,
   "id": "1bb33420",
   "metadata": {},
   "outputs": [],
   "source": [
    "# Unir las tablas en un dataframe con algunos datos de cada tabla\n"
   ]
  },
  {
   "cell_type": "markdown",
   "id": "7d1db59b",
   "metadata": {},
   "source": [
    "### 5.2 Agregar preguntas de interés\n",
    "\n",
    "Definan dos preguntas que consideren relevantes a responder con estos datos. Agregar preguntas de interés y responderlas con el DataFrame generado."
   ]
  },
  {
   "cell_type": "code",
   "execution_count": null,
   "id": "432647f0",
   "metadata": {},
   "outputs": [],
   "source": []
  },
  {
   "cell_type": "markdown",
   "id": "7da201c0",
   "metadata": {},
   "source": [
    "## 6. Análisis de datos\n",
    "\n",
    "A partir de las bases de datos nuevas, analice y responda las preguntas enunciadas a continuación. Para cada pregunta,  debe incluir **al menos un análisis estadístico y un gráfico** que sustenten su respuesta, y **una conclusión o comentario** a partir de dichos análisis. Justifique claramente todos sus análisis y conclusiones."
   ]
  },
  {
   "cell_type": "markdown",
   "id": "ae505b42",
   "metadata": {},
   "source": [
    "### 6.1 Creando un mapa\n",
    "\n",
    "Utilizando la nueva base de datos y la cartografía de comunas de Chile [BD4], genere un mapa calor de Chile según la cantidad de matriculados según su comuna de domicilio. Aproveche la columna `CODIGO_COMUNA_DOMICILIO` de la [BD2] para responder esta pregunta."
   ]
  },
  {
   "cell_type": "code",
   "execution_count": null,
   "id": "820a7a80",
   "metadata": {},
   "outputs": [],
   "source": []
  },
  {
   "cell_type": "markdown",
   "id": "4758a873",
   "metadata": {},
   "source": [
    "### 6.2 Conteste las siguientes preguntas usando las bases creadas en los puntos anteriores.\n",
    "\n",
    "a. ¿Cómo es la distribución de puntajes de matemáticas m1 de los chilenos?\n",
    "\n",
    "b. ¿Cómo es la distribución de puntajes de comprensión lectora de los chilenos?\n",
    "\n",
    "c. ¿Cómo varía el PUNTAJE_PONDERADO de los estudiantes de acuerdo al INGRESO_PERCAPITA_GRUPO_FA? ¿Hay algún patrón detectable?\n",
    "\n",
    "d. ¿Puede identificar alguna correlación entre el PTJE_RANKING, su LUGAR_EN_LA_LISTA, e INGRESO_PERCAPITA_GRUPO_FA para los inscritos? ¿Cree que es posible realizar este análisis, y plantear algún modelo (general o parcial) a partir de los datos utilizados?\n",
    "\n",
    "Justifique y argumente claramente su respuesta.\n"
   ]
  },
  {
   "cell_type": "code",
   "execution_count": null,
   "id": "a7498ca5",
   "metadata": {},
   "outputs": [],
   "source": []
  }
 ],
 "metadata": {
  "kernelspec": {
   "display_name": "Python 3 (ipykernel)",
   "language": "python",
   "name": "python3"
  },
  "language_info": {
   "codemirror_mode": {
    "name": "ipython",
    "version": 3
   },
   "file_extension": ".py",
   "mimetype": "text/x-python",
   "name": "python",
   "nbconvert_exporter": "python",
   "pygments_lexer": "ipython3",
   "version": "3.11.5"
  }
 },
 "nbformat": 4,
 "nbformat_minor": 5
}
