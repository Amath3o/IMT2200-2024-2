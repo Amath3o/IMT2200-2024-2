{
 "cells": [
  {
   "attachments": {},
   "cell_type": "markdown",
   "id": "dc695dd9",
   "metadata": {},
   "source": [
    "# <img style=\"float: left; padding-right: 20px; width: 200px\" src=\"https://raw.githubusercontent.com/raxlab/imt2200-data/main/media/logo.jpg\">  IMT 2200 - Introducción a Ciencia de Datos\n",
    "**Pontificia Universidad Católica de Chile**<br>\n",
    "**Instituto de Ingeniería Matemática y Computacional**<br>\n",
    "**Semestre 2024-S2**<br>\n",
    "**Profesor:** Rodrigo A. Carrasco <br>\n"
   ]
  },
  {
   "cell_type": "markdown",
   "id": "6c6c9ee9",
   "metadata": {},
   "source": [
    "# <h1><center>Tarea 04: Aplicando Aprendizaje Automático</center></h1>\n",
    "\n",
    "## Instrucciones\n",
    "\n",
    "- Fecha de publicación: jueves 7 de noviembre de 2024.\n",
    "\n",
    "- Fecha de límite de entrega: jueves 28 de noviembre de 2024, a las 23:59.\n",
    "\n",
    "- Vía de entrega: Módulo de Tareas en Canvas.\n",
    "\n",
    "- Esta Tarea debe desarrollarse de manera totalmente *individual*, de acuerdo a lo establecido en la sección de Integridad Académica en el programa del curso.\n",
    "\n",
    "- La Tarea debe ser desarrollada en lenguaje de programación Python y la entrega en formato Jupyter Notebook.\n",
    "\n",
    "- El desarrollo del Notebook debe ser claro y ordenado, incluyendo anotaciones (markdown) y comentarios que permitan seguir fácilmente el código y los pasos implementados a los correctores, y siguiendo buenas prácticas de programación. La presentación y claridad del notebook y código forman parte de la evaluación de la tarea.\n",
    "\n",
    "- Las consultas y comentarios sobre la Tarea se deben hacer a traves del canal `Tarea 4` en el Foro del curso en Canvas.\n",
    "\n",
    "\n",
    "## 1. Objetivos de la Tarea\n",
    "\n",
    "### 1.1 Objetivo educacional\n",
    "\n",
    "Esta Tarea tiene como objetivo que los estudiantes desarrollen la capacidad de manejar algunas de las librerías centrales para el desarrollo de Ciencia de Datos, con foco en la exploración de datos. \n",
    "\n",
    "En los ejercicios a desarrollar a continuación, usted deberá extraer y explorar datos en distintos formatos, de manera de responder las preguntas de cada parte de la Tarea.\n",
    "\n",
    "### 1.2 Pregunta de ciencia de datos\n",
    "\n",
    "Esta tarea tiene como objetivo analizar datos de música en Spotify para crear un sistema automático de evaluación de popularidad canciones."
   ]
  },
  {
   "cell_type": "code",
   "execution_count": 2,
   "id": "452db437",
   "metadata": {},
   "outputs": [],
   "source": [
    "# conjunto básico de librearías que podrían ser de utilidad. Ustedes deben agregar más librearías necesarias para la actividad.\n",
    "import matplotlib.pyplot as plt \n",
    "import numpy as np\n",
    "import pandas as pd\n",
    "import geopandas as gpd\n",
    "import requests\n",
    "import seaborn as sns"
   ]
  },
  {
   "cell_type": "markdown",
   "id": "2fc7c8be",
   "metadata": {},
   "source": [
    "## 2. Datos\n",
    "\n",
    "Para esta tarea usaremos la base de datos de imformación de canciones en Spotify, creada por el usuario de GitHub `tgel0`. Pueden encontrar el repositorio en el siguiente enlace: https://github.com/tgel0/spotify-data. Hemos descargado el archivo central de datos, llamado `SpotifyFeatures.csv` que está disponible en el enunciado de la tarea en Canvas."
   ]
  },
  {
   "cell_type": "markdown",
   "id": "dd824ef0",
   "metadata": {},
   "source": [
    "## 3. EDA y Limpieza\n",
    "\n",
    "El primer paso será explorar y limpiar los datos. Para ello haga las siguientes operaciones:\n",
    "- Cargue el archivo en un unico dataframe.\n",
    "- Explore los datos y asegure que los tipos están correctos.\n",
    "- Limpie datos nulos y duplicados.\n",
    "\n",
    "Con esta base limpia, proceda a explorar los datos. En particular muestre:\n",
    "- Una distribución de la popularidad de las canciones en la base. Esto está en la columna `popularity` del archivo de datos. ¿En qué rango de valores diría usted que una canción es \"popular\", es decir, es especialmente conocida y escuchada?\n",
    "- Haga un análisis de las diferentes características y cómo estas se relacionan con el índice de popularidad. Muestre la correlación de cada característica y grafique todos los pares. ¿Hay alguna característica que crea usted esté más relacionada con la popularidad de la canción?\n",
    "- Considere sólo las canciones con popularidad mayor a 50. Vuelva a revisar las características a ver si para este subconjunto existe alguna que podría ser un buen predictor de la popularidad.\n"
   ]
  },
  {
   "cell_type": "markdown",
   "id": "1ece14a1",
   "metadata": {},
   "source": [
    "## 4. Predictor\n",
    "\n",
    "Ahora usaremos métodos de aprendizaje para ver si podemos predecir si una canción es popular o no. Llamaremos \"popular\" a una canción si esta tiene un índice de popularidad de más de 60. Queremos ahora tener un clasificador que nos indique si una canción nueva que observemos será o no popular, es decir, tendrá o no más de 60 en la métrica de `popularity`. No estamos buscando predecir el valor del índice (algo más complejo) sólo queremos predecir si será o no mayor a 60.\n",
    "\n",
    "Para esto haga lo siguiente:\n",
    "- Transforme las características categóricas (`key`, `time_signature` y `mode`) a números para poder ser usados en los modelos de ML.\n",
    "- Agregue en el dataframe una nueva columna llamada `famosa` que sea 1 si el índice de popularidad es mayor o igual a 60 y 0 si no.\n",
    "- Separe los datos en entrenamiento y prueba, dejando un 70% para entrenamiento.\n",
    "\n",
    "Ahora que ya tiene una base lista para entrenamiento, genere modelos de clasificación con las tres siguientes técnicas:\n",
    "- Regresión Logística\n",
    "- kNN\n",
    "- Árboles de Decisión\n",
    "\n",
    "Para cada modelo calcule su matriz de confusión y los indicadores de desempeño que vimos en clases. En el caso de modelos que tengan hiperparámetros explque cómo definió el valor de ese (o esos) hiperparámetros para su modelo.\n",
    "\n",
    "¿Qué modelo preferiría usar como predictor? Explqiue por qué."
   ]
  },
  {
   "cell_type": "code",
   "execution_count": null,
   "id": "f07d4685",
   "metadata": {},
   "outputs": [],
   "source": []
  }
 ],
 "metadata": {
  "kernelspec": {
   "display_name": "Python 3 (ipykernel)",
   "language": "python",
   "name": "python3"
  },
  "language_info": {
   "codemirror_mode": {
    "name": "ipython",
    "version": 3
   },
   "file_extension": ".py",
   "mimetype": "text/x-python",
   "name": "python",
   "nbconvert_exporter": "python",
   "pygments_lexer": "ipython3",
   "version": "3.12.4"
  }
 },
 "nbformat": 4,
 "nbformat_minor": 5
}
